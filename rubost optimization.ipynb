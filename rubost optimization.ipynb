{
 "cells": [
  {
   "cell_type": "code",
   "execution_count": null,
   "metadata": {},
   "outputs": [],
   "source": [
    "import pandas as pd\n",
    "import numpy as np\n",
    "import cvxpy as cvx"
   ]
  },
  {
   "cell_type": "code",
   "execution_count": 16,
   "metadata": {},
   "outputs": [
    {
     "name": "stdout",
     "output_type": "stream",
     "text": [
      "A    2.4\n",
      "B    2.5\n",
      "dtype: float64 A    2.5\n",
      "B    2.4\n",
      "dtype: float64          A        B\n",
      "A  0.17640  0.09702\n",
      "B  0.09702  0.10890\n"
     ]
    }
   ],
   "source": [
    "equity_list = ['A', 'B']\n",
    "alpha_1 = pd.Series(index=equity_list, data=[2.4, 2.5])\n",
    "alpha_2 = pd.Series(index=equity_list, data=[2.5, 2.4])\n",
    "benchmark_weight = pd.Series(index=equity_list, data=[0.5, 0.5])\n",
    "\n",
    "sigma_A, sigma_B = 0.42, 0.33\n",
    "rho_AB = 0.7\n",
    "cov_mat = [\n",
    "    [sigma_A ** 2, rho_AB * sigma_A * sigma_B],\n",
    "    [rho_AB * sigma_A * sigma_B, sigma_B ** 2]\n",
    "]\n",
    "cov_df = pd.DataFrame(index=equity_list, columns=equity_list, data=cov_mat)\n",
    "print(alpha_1, alpha_2, cov_df)"
   ]
  },
  {
   "cell_type": "code",
   "execution_count": 17,
   "metadata": {},
   "outputs": [
    {
     "name": "stderr",
     "output_type": "stream",
     "text": [
      "/home/casey/anaconda3/lib/python3.7/site-packages/IPython/core/interactiveshell.py:3325: FutureWarning: \n",
      "Panel is deprecated and will be removed in a future version.\n",
      "The recommended way to represent these types of 3-dimensional data are with a MultiIndex on a DataFrame, via the Panel.to_frame() method\n",
      "Alternatively, you can use the xarray package http://xarray.pydata.org/en/stable/.\n",
      "Pandas provides a `.to_xarray()` method to help automate this conversion.\n",
      "\n",
      "  exec(code_obj, self.user_global_ns, self.user_ns)\n"
     ]
    }
   ],
   "source": [
    "# alpha和cov扩展ｃａｓｈ\n",
    "alpha_1['cash'] = 0.\n",
    "alpha_2['cash'] = 0.\n",
    "cov_df = cov_df.reindex(equity_list + ['cash']).fillna(0.)\n",
    "cov_df['cash'] = 0.\n",
    "trading_day = '20100101'\n",
    "cov_panel = pd.Panel(\n",
    "    data={trading_day: cov_df})\n",
    "alpha_1_df = pd.DataFrame(\n",
    "    index=[trading_day],\n",
    "    data=[alpha_1])\n",
    "alpha_2_df = pd.DataFrame(\n",
    "    index=[trading_day],\n",
    "    data=[alpha_2])\n",
    "\n",
    "# benchmark\n",
    "benchmark_weight['cash'] = 0."
   ]
  },
  {
   "cell_type": "code",
   "execution_count": 18,
   "metadata": {},
   "outputs": [],
   "source": [
    "from solar.cvxportfolio.returns import ReturnsForecast\n",
    "from solar.solver.components.risks import AssetSigma\n",
    "from solar.cvxportfolio.returns import ReturnsForecast\n",
    "from solar.cvxportfolio.constraints import LongCash, LongOnly\n",
    "from solar.solver.components.policies import MaxReturnPolicy\n",
    "from solar.solver.components.constraints import AssetWeightBound, GroupWeightBound, MaxRiskLimit\n",
    "from solar.math.omega_math import calc_volatility_by_V\n",
    "solver_param = {}\n",
    "solver_param.update({\n",
    "    cvx.ECOS: {\n",
    "        'abstol': 1.0e-09,\n",
    "        'reltol': 1.0e-09,\n",
    "        'max_iters': 150\n",
    "    }\n",
    "})"
   ]
  },
  {
   "cell_type": "code",
   "execution_count": 22,
   "metadata": {},
   "outputs": [],
   "source": [
    "class LongOnlyRHACSolver(object):\n",
    "    def __init__(self, param):\n",
    "        self.trading_day = param['trading_day']\n",
    "        self.asset_list = param['asset_list']\n",
    "        self.benchmark_weight_series = param['benchmark_weight_series']\n",
    "        self.alpha_series = param['alpha_series']\n",
    "        self.asset_cov = param['asset_cov']\n",
    "        self.asset_order = self.alpha_series.index.tolist()\n",
    "        self.alpha_df = pd.DataFrame(index=[self.trading_day], data=[param['alpha_series']])\n",
    "        self.asset_cov_panel = pd.Panel(data={self.trading_day: self.asset_cov})\n",
    "        self.total_weight = param['total_weight']\n",
    "        self.asset_lower_boundary_series = param['asset_lower_boundary_series']\n",
    "        self.asset_upper_boundary_series = param['asset_upper_boundary_series']\n",
    "        self.target_risk = param['target_risk']\n",
    "        self.pre_holding = param['pre_holding']\n",
    "        self.current_price = param['current_price_series']\n",
    "        self.halt_stocks = self.current_price[self.current_price == 0.0].index.tolist()\n",
    "        self.current_price.replace(0., 100000, inplace=True)\n",
    "        self.solver = param['solver']\n",
    "\n",
    "    def solve_without_round(self):\n",
    "        result = self._solve_opt_frac_trade()\n",
    "        return result\n",
    "\n",
    "    def _solve_opt_frac_trade(self):\n",
    "        alpha_mdl = ReturnsForecast(self.alpha_df)\n",
    "        asset_cov_mdl = AssetSigma(self.asset_cov_panel)\n",
    "        risk_cons = MaxRiskLimit(max_risk=self.target_risk, risk_model=asset_cov_mdl,\n",
    "                                 w_bench=self.benchmark_weight_series)\n",
    "\n",
    "        asset_group_bound = []\n",
    "\n",
    "        weight_bound_list = [x for x in zip(self.asset_lower_boundary_series, self.asset_upper_boundary_series)]\n",
    "\n",
    "        if self.total_weight:\n",
    "            # weight_bound_list += [1 - self.total_weight]\n",
    "            asset_group_bound.append(\n",
    "                {'index': [i for i in range(len(self.asset_list))], 'cb': self.total_weight}\n",
    "            )\n",
    "        group_wt_cons = GroupWeightBound(asset_group_bound)\n",
    "        wt_cons = AssetWeightBound(weight_bound_list)\n",
    "\n",
    "        constraints = [LongOnly(), risk_cons, wt_cons, group_wt_cons]\n",
    "\n",
    "        policy = MaxReturnPolicy(\n",
    "            alpha_mdl, costs=[],\n",
    "            constraints=constraints,\n",
    "            solver=self.solver)\n",
    "\n",
    "        prob, trade_value = policy.get_trades(self.pre_holding, t=self.trading_day)\n",
    "\n",
    "        trade_volume = trade_value / self.current_price\n",
    "        trade_volume.fillna(0., inplace=True)\n",
    "        after_trade_value = self.pre_holding + trade_value\n",
    "        after_trade_volume = after_trade_value / self.current_price\n",
    "        after_trade_volume.fillna(0., inplace=True)\n",
    "\n",
    "        after_trade_ratio = after_trade_value / after_trade_value.sum()\n",
    "        exante_risk = np.sqrt(\n",
    "            calc_volatility_by_V(self.asset_cov, after_trade_ratio))\n",
    "        exante_return = self.alpha_series.dot(after_trade_ratio)\n",
    "        benchmark_risk = np.sqrt(\n",
    "            calc_volatility_by_V(self.asset_cov, self.benchmark_weight_series))\n",
    "        active_weight = after_trade_ratio - self.benchmark_weight_series\n",
    "        exante_active_risk = np.sqrt(\n",
    "            calc_volatility_by_V(self.asset_cov, active_weight))\n",
    "        trade_result = {\n",
    "            'trade_value': trade_value, 'trade_volume': trade_volume,\n",
    "            'expected_weight': after_trade_ratio,\n",
    "            'expected_holding': after_trade_value,\n",
    "            'expected_volume': after_trade_volume, 'opt_status': prob.status, 'expected_active_weight': active_weight,\n",
    "            'exante_risk': exante_risk, 'exante_return': exante_return,\n",
    "            'benchmark_risk': benchmark_risk,\n",
    "            'exante_active_risk': exante_active_risk\n",
    "        }\n",
    "\n",
    "        return trade_result\n"
   ]
  },
  {
   "cell_type": "code",
   "execution_count": 27,
   "metadata": {},
   "outputs": [],
   "source": [
    "asset_lower_boundary_series = pd.Series(index=equity_list, data=-1)\n",
    "asset_upper_boundary_series = pd.Series(index=equity_list, data=1.)\n",
    "# asset_group_lower_boundary_list = []\n",
    "# asset_group_upper_boundary_list = []\n",
    "pre_holding_series = pd.Series(index=equity_list, data=0.)\n",
    "pre_holding_series['cash'] = 1.\n",
    "market_price_series = pd.Series(index=equity_list, data=1.)\n",
    "market_price_series['cash'] = 1.\n",
    "target_risk = 0.10"
   ]
  },
  {
   "cell_type": "code",
   "execution_count": 28,
   "metadata": {},
   "outputs": [
    {
     "name": "stdout",
     "output_type": "stream",
     "text": [
      "(0.0, Expression(AFFINE, UNKNOWN, (3,)))\n"
     ]
    },
    {
     "name": "stderr",
     "output_type": "stream",
     "text": [
      "/home/casey/anaconda3/lib/python3.7/site-packages/ipykernel_launcher.py:16: FutureWarning: \n",
      "Panel is deprecated and will be removed in a future version.\n",
      "The recommended way to represent these types of 3-dimensional data are with a MultiIndex on a DataFrame, via the Panel.to_frame() method\n",
      "Alternatively, you can use the xarray package http://xarray.pydata.org/en/stable/.\n",
      "Pandas provides a `.to_xarray()` method to help automate this conversion.\n",
      "\n",
      "  app.launch_new_instance()\n"
     ]
    },
    {
     "data": {
      "text/plain": [
       "{'trade_value': A       0.168976\n",
       " B       0.831024\n",
       " cash   -1.000000\n",
       " dtype: float64, 'trade_volume': A       0.168976\n",
       " B       0.831024\n",
       " cash   -1.000000\n",
       " dtype: float64, 'expected_weight': A       0.168976\n",
       " B       0.831024\n",
       " cash    0.000000\n",
       " dtype: float64, 'expected_holding': A       0.168976\n",
       " B       0.831024\n",
       " cash    0.000000\n",
       " dtype: float64, 'expected_volume': A       0.168976\n",
       " B       0.831024\n",
       " cash    0.000000\n",
       " dtype: float64, 'opt_status': 'optimal', 'expected_active_weight': A      -0.331024\n",
       " B       0.331024\n",
       " cash    0.000000\n",
       " dtype: float64, 'exante_risk': 0.32785799566696716, 'exante_return': 2.483102421587079, 'benchmark_risk': 0.3461719226049392, 'exante_active_risk': 0.09999999947019851}"
      ]
     },
     "execution_count": 28,
     "metadata": {},
     "output_type": "execute_result"
    }
   ],
   "source": [
    "param = {\n",
    "    'trading_day': trading_day, \n",
    "    'asset_list': equity_list,\n",
    "    'benchmark_weight_series': benchmark_weight,\n",
    "    'alpha_series': alpha_1,\n",
    "    'asset_cov': cov_df,\n",
    "    'asset_lower_boundary_series': asset_lower_boundary_series,\n",
    "    'asset_upper_boundary_series': asset_upper_boundary_series,\n",
    "    'pre_holding': pre_holding_series,\n",
    "    'current_price_series': market_price_series,\n",
    "    'target_risk': target_risk, \n",
    "    'solver': 'ECOS',\n",
    "    'total_weight': 1.\n",
    "}\n",
    "\n",
    "mdl = LongOnlyRHACSolver(param)\n",
    "mdl.solve_without_round()"
   ]
  },
  {
   "cell_type": "code",
   "execution_count": 26,
   "metadata": {},
   "outputs": [],
   "source": [
    "import QuantLib as ql"
   ]
  },
  {
   "cell_type": "code",
   "execution_count": null,
   "metadata": {},
   "outputs": [],
   "source": []
  },
  {
   "cell_type": "code",
   "execution_count": null,
   "metadata": {},
   "outputs": [],
   "source": []
  }
 ],
 "metadata": {
  "kernelspec": {
   "display_name": "Python 3",
   "language": "python",
   "name": "python3"
  },
  "language_info": {
   "codemirror_mode": {
    "name": "ipython",
    "version": 3
   },
   "file_extension": ".py",
   "mimetype": "text/x-python",
   "name": "python",
   "nbconvert_exporter": "python",
   "pygments_lexer": "ipython3",
   "version": "3.7.3"
  }
 },
 "nbformat": 4,
 "nbformat_minor": 2
}
