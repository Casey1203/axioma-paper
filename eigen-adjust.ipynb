{
 "cells": [
  {
   "cell_type": "code",
   "execution_count": 1,
   "metadata": {
    "ExecuteTime": {
     "end_time": "2019-09-12T09:51:46.643039Z",
     "start_time": "2019-09-12T09:51:46.031282Z"
    }
   },
   "outputs": [],
   "source": [
    "import pandas as pd\n",
    "import numpy as np\n",
    "from src.eigen_adjust import *\n",
    "from src.util import *\n",
    "import matplotlib\n",
    "%matplotlib inline"
   ]
  },
  {
   "cell_type": "code",
   "execution_count": 2,
   "metadata": {
    "ExecuteTime": {
     "end_time": "2019-09-12T09:51:48.042476Z",
     "start_time": "2019-09-12T09:51:46.645118Z"
    }
   },
   "outputs": [],
   "source": [
    "equ_return_df  = pd.read_csv('equ_return.csv')"
   ]
  },
  {
   "cell_type": "code",
   "execution_count": 3,
   "metadata": {
    "ExecuteTime": {
     "end_time": "2019-09-12T09:51:48.052321Z",
     "start_time": "2019-09-12T09:51:48.044948Z"
    }
   },
   "outputs": [
    {
     "data": {
      "text/plain": [
       "Index(['ID', 'SECURITY_ID', 'TICKER_SYMBOL', 'EXCHANGE_CD', 'TRADE_DATE',\n",
       "       'LIST_STATUS_CD', 'FIRST_DAY_CLOSE_PRICE', 'ACT_PREV_CLOSE_PRICE',\n",
       "       'PREV_CLOSE_PRICE', 'CLOSE_PRICE', 'ALLOTMENT_RATIO', 'ALLOTMENT_PRICE',\n",
       "       'PER_CASH_DIV', 'PER_SHARE_DIV_RATIO', 'PER_SHARE_TRANS_RATIO',\n",
       "       'SPLITS_RATIO', 'CURRENCY_CD', 'DAILY_RETURN_REINV',\n",
       "       'DAILY_RETURN_NO_REINV', 'ADJ_CLOSE_PRICE_REINV',\n",
       "       'ADJ_CLOSE_PRICE_NO_REINV', 'IS_CHG_PCTL', 'ETL_CRC', 'QA_RULE_CHK_FLG',\n",
       "       'QA_MANUAL_FLG', 'QA_ACTIVE_FLG', 'CREATE_BY', 'CREATE_TIME',\n",
       "       'UPDATE_BY', 'UPDATE_TIME', 'TMSTAMP'],\n",
       "      dtype='object')"
      ]
     },
     "execution_count": 3,
     "metadata": {},
     "output_type": "execute_result"
    }
   ],
   "source": [
    "equ_return_df.columns"
   ]
  },
  {
   "cell_type": "code",
   "execution_count": 4,
   "metadata": {
    "ExecuteTime": {
     "end_time": "2019-09-12T09:51:48.145400Z",
     "start_time": "2019-09-12T09:51:48.055145Z"
    }
   },
   "outputs": [],
   "source": [
    "X = equ_return_df.pivot(index='SECURITY_ID', columns='TRADE_DATE', values='DAILY_RETURN_REINV').fillna(0.)\n",
    "X = X.values"
   ]
  },
  {
   "cell_type": "code",
   "execution_count": 5,
   "metadata": {
    "ExecuteTime": {
     "end_time": "2019-09-12T09:51:52.869082Z",
     "start_time": "2019-09-12T09:51:52.863419Z"
    }
   },
   "outputs": [],
   "source": [
    "N, T = X.shape\n",
    "window_size = 500 # rolling window size\n",
    "portfolio_weight_dict = {} # 外层为方差排序序号，内层为时间\n",
    "cov_dict = {} # 时间为key\n",
    "equity_return_dict = {}"
   ]
  },
  {
   "cell_type": "code",
   "execution_count": 6,
   "metadata": {
    "ExecuteTime": {
     "end_time": "2019-09-12T09:52:17.389104Z",
     "start_time": "2019-09-12T09:51:53.040447Z"
    }
   },
   "outputs": [],
   "source": [
    "for i in range(T-window_size): # 滚动生成V_0，并且计算eigenvector\n",
    "    X_tmp = X[:, i:i+window_size]\n",
    "    equity_return = X[:, i+window_size-1]\n",
    "    equity_return_dict[i] = equity_return\n",
    "    V_0 = np.cov(X_tmp, ddof=1)\n",
    "    cov_dict[i] = V_0\n",
    "    val, vec = np.linalg.eig(V_0)\n",
    "    val, vec = sort_eigen_pair(val, vec, sort='ascend')\n",
    "    for n in range(N):\n",
    "        eigenvector = vec[:, n]\n",
    "        if n not in portfolio_weight_dict:\n",
    "            portfolio_weight_dict[n] = {i:eigenvector}\n",
    "        else:\n",
    "            portfolio_weight_dict[n][i] = eigenvector\n",
    "equity_return_dict[T-window_size] = X[:, -1]"
   ]
  },
  {
   "cell_type": "code",
   "execution_count": 7,
   "metadata": {
    "ExecuteTime": {
     "end_time": "2019-09-12T09:52:33.735307Z",
     "start_time": "2019-09-12T09:52:17.392346Z"
    }
   },
   "outputs": [],
   "source": [
    "portfolio_bias_test = {}\n",
    "for ptf_num in range(len(portfolio_weight_dict)):\n",
    "    bias_stats = BiasStats(\n",
    "            portfolio_weight_dict[ptf_num],\n",
    "              equity_return_dict,\n",
    "              cov_dict,\n",
    "              1.\n",
    "             )\n",
    "    B = bias_stats.compute_ptf_bias_stats()\n",
    "    portfolio_bias_test[ptf_num] = B\n",
    "portfolio_bias_test_series = pd.Series(portfolio_bias_test)"
   ]
  },
  {
   "cell_type": "code",
   "execution_count": 8,
   "metadata": {
    "ExecuteTime": {
     "end_time": "2019-09-12T09:52:35.109963Z",
     "start_time": "2019-09-12T09:52:34.832464Z"
    }
   },
   "outputs": [
    {
     "data": {
      "text/plain": [
       "<matplotlib.axes._subplots.AxesSubplot at 0x7f5aec67bc88>"
      ]
     },
     "execution_count": 8,
     "metadata": {},
     "output_type": "execute_result"
    },
    {
     "data": {
      "image/png": "[encoded data removed]",
      "text/plain": [
       "<Figure size 432x288 with 1 Axes>"
      ]
     },
     "metadata": {
      "needs_background": "light"
     },
     "output_type": "display_data"
    }
   ],
   "source": [
    "portfolio_bias_test_df = portfolio_bias_test_series.reset_index()\n",
    "portfolio_bias_test_df.columns = ['n', 'bias_stats']\n",
    "portfolio_bias_test_df.plot.scatter(x='n', y='bias_stats')"
   ]
  },
  {
   "cell_type": "code",
   "execution_count": 17,
   "metadata": {
    "ExecuteTime": {
     "end_time": "2019-09-12T07:24:11.293218Z",
     "start_time": "2019-09-12T07:24:11.275649Z"
    }
   },
   "outputs": [],
   "source": [
    "# val.argsort()[::-1]\n",
    "# portfolio_weight_dict[0][0]"
   ]
  },
  {
   "cell_type": "code",
   "execution_count": 9,
   "metadata": {
    "ExecuteTime": {
     "end_time": "2019-09-12T09:56:50.001658Z",
     "start_time": "2019-09-12T09:52:37.169710Z"
    }
   },
   "outputs": [
    {
     "name": "stdout",
     "output_type": "stream",
     "text": [
      "0\n"
     ]
    },
    {
     "name": "stderr",
     "output_type": "stream",
     "text": [
      "/home/casey/axioma-paper/src/eigen_adjust.py:41: RuntimeWarning: invalid value encountered in true_divide\n",
      "  D_ratio['m_%s' % m] = np.nan_to_num(np.sqrt(np.diag(D_tilde_m) / np.diag(D_m)), 0.)\n"
     ]
    },
    {
     "name": "stdout",
     "output_type": "stream",
     "text": [
      "1\n",
      "2\n",
      "3\n",
      "4\n",
      "5\n",
      "6\n",
      "7\n",
      "8\n",
      "9\n",
      "10\n",
      "11\n",
      "12\n",
      "13\n",
      "14\n",
      "15\n",
      "16\n",
      "17\n",
      "18\n",
      "19\n",
      "20\n",
      "21\n",
      "22\n",
      "23\n",
      "24\n",
      "25\n",
      "26\n",
      "27\n",
      "28\n",
      "29\n",
      "30\n",
      "31\n",
      "32\n",
      "33\n",
      "34\n",
      "35\n",
      "36\n",
      "37\n",
      "38\n",
      "39\n",
      "40\n",
      "41\n",
      "42\n",
      "43\n",
      "44\n",
      "45\n",
      "46\n",
      "47\n",
      "48\n",
      "49\n",
      "50\n",
      "51\n",
      "52\n",
      "53\n",
      "54\n",
      "55\n",
      "56\n",
      "57\n",
      "58\n",
      "59\n",
      "60\n",
      "61\n",
      "62\n",
      "63\n",
      "64\n",
      "65\n",
      "66\n",
      "67\n",
      "68\n",
      "69\n",
      "70\n",
      "71\n",
      "72\n",
      "73\n",
      "74\n",
      "75\n",
      "76\n",
      "77\n",
      "78\n",
      "79\n",
      "80\n",
      "81\n",
      "82\n",
      "83\n",
      "84\n",
      "85\n",
      "86\n",
      "87\n",
      "88\n",
      "89\n",
      "90\n",
      "91\n",
      "92\n",
      "93\n",
      "94\n",
      "95\n",
      "96\n",
      "97\n",
      "98\n",
      "99\n",
      "100\n",
      "101\n",
      "102\n",
      "103\n",
      "104\n",
      "105\n",
      "106\n",
      "107\n",
      "108\n",
      "109\n",
      "110\n",
      "111\n",
      "112\n",
      "113\n",
      "114\n",
      "115\n",
      "116\n",
      "117\n",
      "118\n",
      "119\n",
      "120\n",
      "121\n",
      "122\n",
      "123\n",
      "124\n",
      "125\n",
      "126\n",
      "127\n",
      "128\n",
      "129\n",
      "130\n",
      "131\n",
      "132\n",
      "133\n",
      "134\n",
      "135\n",
      "136\n",
      "137\n",
      "138\n",
      "139\n",
      "140\n",
      "141\n",
      "142\n",
      "143\n",
      "144\n",
      "145\n",
      "146\n",
      "147\n",
      "148\n",
      "149\n",
      "150\n",
      "151\n",
      "152\n",
      "153\n",
      "154\n",
      "155\n",
      "156\n",
      "157\n",
      "158\n",
      "159\n",
      "160\n",
      "161\n",
      "162\n",
      "163\n",
      "164\n",
      "165\n",
      "166\n",
      "167\n",
      "168\n",
      "169\n",
      "170\n",
      "171\n",
      "172\n",
      "173\n",
      "174\n",
      "175\n",
      "176\n",
      "177\n",
      "178\n",
      "179\n",
      "180\n",
      "181\n",
      "182\n",
      "183\n",
      "184\n",
      "185\n",
      "186\n",
      "187\n",
      "188\n",
      "189\n",
      "190\n",
      "191\n",
      "192\n",
      "193\n",
      "194\n",
      "195\n",
      "196\n",
      "197\n",
      "198\n",
      "199\n",
      "200\n",
      "201\n",
      "202\n",
      "203\n",
      "204\n",
      "205\n",
      "206\n",
      "207\n",
      "208\n",
      "209\n",
      "210\n",
      "211\n",
      "212\n",
      "213\n",
      "214\n",
      "215\n",
      "216\n",
      "217\n",
      "218\n",
      "219\n",
      "220\n",
      "221\n",
      "222\n",
      "223\n",
      "224\n",
      "225\n",
      "226\n",
      "227\n",
      "228\n",
      "229\n",
      "230\n",
      "231\n",
      "232\n",
      "233\n",
      "234\n",
      "235\n",
      "236\n",
      "237\n",
      "238\n",
      "239\n",
      "240\n",
      "241\n",
      "242\n",
      "243\n",
      "244\n",
      "245\n",
      "246\n",
      "247\n",
      "248\n",
      "249\n",
      "250\n",
      "251\n",
      "252\n",
      "253\n",
      "254\n",
      "255\n",
      "256\n",
      "257\n",
      "258\n",
      "259\n",
      "260\n",
      "261\n",
      "262\n",
      "263\n",
      "264\n",
      "265\n",
      "266\n",
      "267\n",
      "268\n",
      "269\n",
      "270\n",
      "271\n",
      "272\n",
      "273\n",
      "274\n",
      "275\n",
      "276\n",
      "277\n",
      "278\n",
      "279\n",
      "280\n",
      "281\n",
      "282\n",
      "283\n",
      "284\n",
      "285\n",
      "286\n",
      "287\n",
      "288\n",
      "289\n",
      "290\n",
      "291\n",
      "292\n",
      "293\n",
      "294\n",
      "295\n",
      "296\n",
      "297\n",
      "298\n",
      "299\n",
      "300\n",
      "301\n",
      "302\n",
      "303\n",
      "304\n",
      "305\n",
      "306\n",
      "307\n",
      "308\n",
      "309\n",
      "310\n",
      "311\n",
      "312\n",
      "313\n",
      "314\n",
      "315\n",
      "316\n",
      "317\n",
      "318\n",
      "319\n",
      "320\n",
      "321\n",
      "322\n",
      "323\n",
      "324\n",
      "325\n",
      "326\n",
      "327\n",
      "328\n",
      "329\n",
      "330\n",
      "331\n",
      "332\n",
      "333\n",
      "334\n",
      "335\n",
      "336\n",
      "337\n",
      "338\n",
      "339\n",
      "340\n",
      "341\n",
      "342\n",
      "343\n",
      "344\n",
      "345\n",
      "346\n",
      "347\n",
      "348\n",
      "349\n",
      "350\n",
      "351\n",
      "352\n",
      "353\n",
      "354\n",
      "355\n",
      "356\n",
      "357\n",
      "358\n",
      "359\n",
      "360\n",
      "361\n",
      "362\n",
      "363\n",
      "364\n",
      "365\n",
      "366\n",
      "367\n",
      "368\n",
      "369\n",
      "370\n",
      "371\n",
      "372\n",
      "373\n",
      "374\n",
      "375\n",
      "376\n",
      "377\n",
      "378\n",
      "379\n",
      "380\n",
      "381\n",
      "382\n",
      "383\n",
      "384\n",
      "385\n",
      "386\n",
      "387\n",
      "388\n",
      "389\n",
      "390\n",
      "391\n",
      "392\n",
      "393\n",
      "394\n",
      "395\n",
      "396\n",
      "397\n",
      "398\n",
      "399\n",
      "400\n",
      "401\n"
     ]
    }
   ],
   "source": [
    "adjusted_cov_dict = {}\n",
    "for i, cov in cov_dict.items():\n",
    "    print(i)\n",
    "    adj_cov = eigen_adjustment(cov, 5, window_size, a=1.4)\n",
    "    adjusted_cov_dict[i] = adj_cov"
   ]
  },
  {
   "cell_type": "code",
   "execution_count": 11,
   "metadata": {
    "ExecuteTime": {
     "end_time": "2019-09-12T09:57:05.949111Z",
     "start_time": "2019-09-12T09:57:05.941901Z"
    }
   },
   "outputs": [
    {
     "data": {
      "text/plain": [
       "matrix([[3.06468570e-04, 4.24757695e-05, 1.25125400e-04, ...,\n",
       "         0.00000000e+00, 1.18167692e-04, 1.18879179e-05],\n",
       "        [4.24757695e-05, 5.54805332e-04, 6.24961288e-05, ...,\n",
       "         0.00000000e+00, 3.65450549e-05, 9.93114731e-06],\n",
       "        [1.25125400e-04, 6.24961288e-05, 5.62835643e-04, ...,\n",
       "         0.00000000e+00, 1.55112826e-04, 3.72785187e-05],\n",
       "        ...,\n",
       "        [0.00000000e+00, 0.00000000e+00, 0.00000000e+00, ...,\n",
       "         0.00000000e+00, 0.00000000e+00, 0.00000000e+00],\n",
       "        [1.18167692e-04, 3.65450549e-05, 1.55112826e-04, ...,\n",
       "         0.00000000e+00, 3.28926061e-04, 3.27280010e-05],\n",
       "        [1.18879179e-05, 9.93114731e-06, 3.72785187e-05, ...,\n",
       "         0.00000000e+00, 3.27280010e-05, 4.95407641e-04]])"
      ]
     },
     "execution_count": 11,
     "metadata": {},
     "output_type": "execute_result"
    }
   ],
   "source": [
    "adjusted_cov_dict[0]"
   ]
  },
  {
   "cell_type": "code",
   "execution_count": null,
   "metadata": {
    "ExecuteTime": {
     "end_time": "2019-09-12T09:51:21.255726Z",
     "start_time": "2019-09-12T09:51:21.236748Z"
    }
   },
   "outputs": [],
   "source": []
  },
  {
   "cell_type": "code",
   "execution_count": 30,
   "metadata": {
    "ExecuteTime": {
     "end_time": "2019-09-12T09:51:25.549951Z",
     "start_time": "2019-09-12T09:51:25.545836Z"
    }
   },
   "outputs": [],
   "source": [
    "# eigen_adjustment(cov_dict[0], 1, window_size, a=1.4)"
   ]
  },
  {
   "cell_type": "code",
   "execution_count": null,
   "metadata": {
    "ExecuteTime": {
     "end_time": "2019-09-12T10:00:14.807168Z",
     "start_time": "2019-09-12T10:00:14.801250Z"
    }
   },
   "outputs": [],
   "source": []
  },
  {
   "cell_type": "code",
   "execution_count": 19,
   "metadata": {
    "ExecuteTime": {
     "end_time": "2019-09-12T09:59:50.002302Z",
     "start_time": "2019-09-12T09:59:23.530036Z"
    }
   },
   "outputs": [],
   "source": [
    "portfolio_weight_dict = {}\n",
    "# after adjust\n",
    "for i in range(T-window_size): # 滚动生成V_0，并且计算eigenvector\n",
    "    X_tmp = X[:, i:i+window_size]\n",
    "    equity_return = X[:, i+window_size-1]\n",
    "    equity_return_dict[i] = equity_return\n",
    "    V_0 = adjusted_cov_dict[i]\n",
    "    val, vec = np.linalg.eig(V_0)\n",
    "    val, vec = sort_eigen_pair(val, vec, sort='ascend')\n",
    "    for n in range(N):\n",
    "        eigenvector = vec[:, n]\n",
    "        if n not in portfolio_weight_dict:\n",
    "            portfolio_weight_dict[n] = {i:eigenvector}\n",
    "        else:\n",
    "            portfolio_weight_dict[n][i] = eigenvector\n",
    "equity_return_dict[T-window_size] = X[:, -1]"
   ]
  },
  {
   "cell_type": "code",
   "execution_count": 20,
   "metadata": {
    "ExecuteTime": {
     "end_time": "2019-09-12T09:59:52.429698Z",
     "start_time": "2019-09-12T09:59:52.409827Z"
    }
   },
   "outputs": [
    {
     "ename": "ValueError",
     "evalue": "shapes (300,1) and (300,) not aligned: 1 (dim 1) != 300 (dim 0)",
     "output_type": "error",
     "traceback": [
      "\u001b[0;31m---------------------------------------------------------------------------\u001b[0m",
      "\u001b[0;31mValueError\u001b[0m                                Traceback (most recent call last)",
      "\u001b[0;32m<ipython-input-20-d0fe28e44e5d>\u001b[0m in \u001b[0;36m<module>\u001b[0;34m\u001b[0m\n\u001b[1;32m      7\u001b[0m               \u001b[0;36m1.\u001b[0m\u001b[0;34m\u001b[0m\u001b[0;34m\u001b[0m\u001b[0m\n\u001b[1;32m      8\u001b[0m              )\n\u001b[0;32m----> 9\u001b[0;31m     \u001b[0mB\u001b[0m \u001b[0;34m=\u001b[0m \u001b[0mbias_stats\u001b[0m\u001b[0;34m.\u001b[0m\u001b[0mcompute_ptf_bias_stats\u001b[0m\u001b[0;34m(\u001b[0m\u001b[0;34m)\u001b[0m\u001b[0;34m\u001b[0m\u001b[0;34m\u001b[0m\u001b[0m\n\u001b[0m\u001b[1;32m     10\u001b[0m     \u001b[0mportfolio_bias_test\u001b[0m\u001b[0;34m[\u001b[0m\u001b[0mptf_num\u001b[0m\u001b[0;34m]\u001b[0m \u001b[0;34m=\u001b[0m \u001b[0mB\u001b[0m\u001b[0;34m\u001b[0m\u001b[0;34m\u001b[0m\u001b[0m\n\u001b[1;32m     11\u001b[0m \u001b[0mportfolio_bias_test_series\u001b[0m \u001b[0;34m=\u001b[0m \u001b[0mpd\u001b[0m\u001b[0;34m.\u001b[0m\u001b[0mSeries\u001b[0m\u001b[0;34m(\u001b[0m\u001b[0mportfolio_bias_test\u001b[0m\u001b[0;34m)\u001b[0m\u001b[0;34m\u001b[0m\u001b[0;34m\u001b[0m\u001b[0m\n",
      "\u001b[0;32m~/axioma-paper/src/util.py\u001b[0m in \u001b[0;36mcompute_ptf_bias_stats\u001b[0;34m(self)\u001b[0m\n\u001b[1;32m     37\u001b[0m             \u001b[0mequity_return\u001b[0m \u001b[0;34m=\u001b[0m \u001b[0mself\u001b[0m\u001b[0;34m.\u001b[0m\u001b[0mequity_return_dict\u001b[0m\u001b[0;34m[\u001b[0m\u001b[0mt\u001b[0m\u001b[0;34m+\u001b[0m\u001b[0;36m1\u001b[0m\u001b[0;34m]\u001b[0m\u001b[0;34m\u001b[0m\u001b[0;34m\u001b[0m\u001b[0m\n\u001b[1;32m     38\u001b[0m             \u001b[0mcov\u001b[0m \u001b[0;34m=\u001b[0m \u001b[0mself\u001b[0m\u001b[0;34m.\u001b[0m\u001b[0mcovariance_dict\u001b[0m\u001b[0;34m[\u001b[0m\u001b[0mt\u001b[0m\u001b[0;34m]\u001b[0m\u001b[0;34m\u001b[0m\u001b[0;34m\u001b[0m\u001b[0m\n\u001b[0;32m---> 39\u001b[0;31m             \u001b[0mR_t\u001b[0m \u001b[0;34m=\u001b[0m \u001b[0mportfolio_weight\u001b[0m\u001b[0;34m.\u001b[0m\u001b[0mdot\u001b[0m\u001b[0;34m(\u001b[0m\u001b[0mequity_return\u001b[0m\u001b[0;34m)\u001b[0m\u001b[0;34m\u001b[0m\u001b[0;34m\u001b[0m\u001b[0m\n\u001b[0m\u001b[1;32m     40\u001b[0m             \u001b[0mtotal_risk\u001b[0m \u001b[0;34m=\u001b[0m \u001b[0mnp\u001b[0m\u001b[0;34m.\u001b[0m\u001b[0msqrt\u001b[0m\u001b[0;34m(\u001b[0m\u001b[0mcalc_volatility_by_V\u001b[0m\u001b[0;34m(\u001b[0m\u001b[0mcov\u001b[0m\u001b[0;34m,\u001b[0m \u001b[0mportfolio_weight\u001b[0m\u001b[0;34m)\u001b[0m\u001b[0;34m)\u001b[0m\u001b[0;34m\u001b[0m\u001b[0;34m\u001b[0m\u001b[0m\n\u001b[1;32m     41\u001b[0m             \u001b[0mb\u001b[0m \u001b[0;34m=\u001b[0m \u001b[0mcompute_risk_adjusted_return\u001b[0m\u001b[0;34m(\u001b[0m\u001b[0mR_t\u001b[0m\u001b[0;34m,\u001b[0m \u001b[0mtotal_risk\u001b[0m\u001b[0;34m)\u001b[0m\u001b[0;34m\u001b[0m\u001b[0;34m\u001b[0m\u001b[0m\n",
      "\u001b[0;31mValueError\u001b[0m: shapes (300,1) and (300,) not aligned: 1 (dim 1) != 300 (dim 0)"
     ]
    }
   ],
   "source": [
    "portfolio_bias_test = {}\n",
    "for ptf_num in range(len(portfolio_weight_dict)):\n",
    "    bias_stats = BiasStats(\n",
    "            portfolio_weight_dict[ptf_num],\n",
    "              equity_return_dict,\n",
    "              cov_dict,\n",
    "              1.\n",
    "             )\n",
    "    B = bias_stats.compute_ptf_bias_stats()\n",
    "    portfolio_bias_test[ptf_num] = B\n",
    "portfolio_bias_test_series = pd.Series(portfolio_bias_test)"
   ]
  },
  {
   "cell_type": "code",
   "execution_count": null,
   "metadata": {},
   "outputs": [],
   "source": [
    "portfolio_bias_test_df = portfolio_bias_test_series.reset_index()\n",
    "portfolio_bias_test_df.columns = ['n', 'bias_stats']\n",
    "portfolio_bias_test_df.plot.scatter(x='n', y='bias_stats')"
   ]
  }
 ],
 "metadata": {
  "kernelspec": {
   "display_name": "Python 3",
   "language": "python",
   "name": "python3"
  },
  "language_info": {
   "codemirror_mode": {
    "name": "ipython",
    "version": 3
   },
   "file_extension": ".py",
   "mimetype": "text/x-python",
   "name": "python",
   "nbconvert_exporter": "python",
   "pygments_lexer": "ipython3",
   "version": "3.7.3"
  }
 },
 "nbformat": 4,
 "nbformat_minor": 2
}
