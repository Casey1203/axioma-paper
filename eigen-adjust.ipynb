{
 "cells": [
  {
   "cell_type": "code",
   "execution_count": 1,
   "metadata": {
    "ExecuteTime": {
     "end_time": "2019-09-16T02:39:19.589372Z",
     "start_time": "2019-09-16T02:39:19.091092Z"
    }
   },
   "outputs": [],
   "source": [
    "import pandas as pd\n",
    "import numpy as np\n",
    "from src.eigen_adjust import *\n",
    "from src.util import *\n",
    "import matplotlib\n",
    "from tqdm import tqdm\n",
    "%matplotlib inline"
   ]
  },
  {
   "cell_type": "code",
   "execution_count": 2,
   "metadata": {
    "ExecuteTime": {
     "end_time": "2019-09-16T02:39:20.891762Z",
     "start_time": "2019-09-16T02:39:19.591834Z"
    }
   },
   "outputs": [],
   "source": [
    "equ_return_df  = pd.read_csv('equ_return.csv')"
   ]
  },
  {
   "cell_type": "code",
   "execution_count": 3,
   "metadata": {
    "ExecuteTime": {
     "end_time": "2019-09-16T02:39:20.904740Z",
     "start_time": "2019-09-16T02:39:20.894376Z"
    }
   },
   "outputs": [
    {
     "data": {
      "text/plain": [
       "Index(['ID', 'SECURITY_ID', 'TICKER_SYMBOL', 'EXCHANGE_CD', 'TRADE_DATE',\n",
       "       'LIST_STATUS_CD', 'FIRST_DAY_CLOSE_PRICE', 'ACT_PREV_CLOSE_PRICE',\n",
       "       'PREV_CLOSE_PRICE', 'CLOSE_PRICE', 'ALLOTMENT_RATIO', 'ALLOTMENT_PRICE',\n",
       "       'PER_CASH_DIV', 'PER_SHARE_DIV_RATIO', 'PER_SHARE_TRANS_RATIO',\n",
       "       'SPLITS_RATIO', 'CURRENCY_CD', 'DAILY_RETURN_REINV',\n",
       "       'DAILY_RETURN_NO_REINV', 'ADJ_CLOSE_PRICE_REINV',\n",
       "       'ADJ_CLOSE_PRICE_NO_REINV', 'IS_CHG_PCTL', 'ETL_CRC', 'QA_RULE_CHK_FLG',\n",
       "       'QA_MANUAL_FLG', 'QA_ACTIVE_FLG', 'CREATE_BY', 'CREATE_TIME',\n",
       "       'UPDATE_BY', 'UPDATE_TIME', 'TMSTAMP'],\n",
       "      dtype='object')"
      ]
     },
     "execution_count": 3,
     "metadata": {},
     "output_type": "execute_result"
    }
   ],
   "source": [
    "equ_return_df.columns"
   ]
  },
  {
   "cell_type": "code",
   "execution_count": 4,
   "metadata": {
    "ExecuteTime": {
     "end_time": "2019-09-16T02:39:20.998323Z",
     "start_time": "2019-09-16T02:39:20.908106Z"
    }
   },
   "outputs": [],
   "source": [
    "X = equ_return_df.pivot(index='SECURITY_ID', columns='TRADE_DATE', values='DAILY_RETURN_REINV').fillna(0.)\n",
    "X = X.values"
   ]
  },
  {
   "cell_type": "code",
   "execution_count": 5,
   "metadata": {
    "ExecuteTime": {
     "end_time": "2019-09-16T02:39:21.702753Z",
     "start_time": "2019-09-16T02:39:21.697094Z"
    }
   },
   "outputs": [],
   "source": [
    "N, T = X.shape\n",
    "window_size = 500 # rolling window size\n",
    "portfolio_weight_dict = {} # 外层为方差排序序号，内层为时间\n",
    "cov_dict = {} # 时间为key\n",
    "equity_return_dict = {}"
   ]
  },
  {
   "cell_type": "code",
   "execution_count": 6,
   "metadata": {
    "ExecuteTime": {
     "end_time": "2019-09-16T02:39:56.558079Z",
     "start_time": "2019-09-16T02:39:23.589207Z"
    }
   },
   "outputs": [
    {
     "name": "stderr",
     "output_type": "stream",
     "text": [
      "100%|██████████| 402/402 [00:32<00:00, 12.20it/s]\n"
     ]
    }
   ],
   "source": [
    "for i in tqdm(range(T-window_size)): # 滚动生成V_0，并且计算eigenvector\n",
    "    X_tmp = X[:, i:i+window_size]\n",
    "    equity_return = X[:, i+window_size-1]\n",
    "    equity_return_dict[i] = equity_return\n",
    "    V_0 = np.cov(X_tmp, ddof=1)\n",
    "    cov_dict[i] = V_0\n",
    "    val, vec = np.linalg.eig(V_0)\n",
    "    val, vec = sort_eigen_pair(val, vec, sort='ascend')\n",
    "    for n in range(N):\n",
    "        eigenvector = vec[:, n]\n",
    "        if n not in portfolio_weight_dict:\n",
    "            portfolio_weight_dict[n] = {i:eigenvector}\n",
    "        else:\n",
    "            portfolio_weight_dict[n][i] = eigenvector\n",
    "equity_return_dict[T-window_size] = X[:, -1]"
   ]
  },
  {
   "cell_type": "code",
   "execution_count": 7,
   "metadata": {
    "ExecuteTime": {
     "end_time": "2019-09-16T02:40:14.622440Z",
     "start_time": "2019-09-16T02:39:56.570796Z"
    }
   },
   "outputs": [
    {
     "name": "stderr",
     "output_type": "stream",
     "text": [
      "100%|██████████| 300/300 [00:18<00:00, 16.63it/s]\n"
     ]
    }
   ],
   "source": [
    "portfolio_bias_test = {}\n",
    "for ptf_num in tqdm(range(len(portfolio_weight_dict))):\n",
    "    bias_stats = BiasStats(\n",
    "            portfolio_weight_dict[ptf_num],\n",
    "              equity_return_dict,\n",
    "              cov_dict,\n",
    "              1.\n",
    "             )\n",
    "    B = bias_stats.compute_ptf_bias_stats()\n",
    "    portfolio_bias_test[ptf_num] = B\n",
    "portfolio_bias_test_series = pd.Series(portfolio_bias_test)"
   ]
  },
  {
   "cell_type": "code",
   "execution_count": 36,
   "metadata": {
    "ExecuteTime": {
     "end_time": "2019-09-16T02:49:29.074987Z",
     "start_time": "2019-09-16T02:49:28.821812Z"
    }
   },
   "outputs": [
    {
     "data": {
      "text/plain": [
       "<matplotlib.axes._subplots.AxesSubplot at 0x7f81fc92d940>"
      ]
     },
     "execution_count": 36,
     "metadata": {},
     "output_type": "execute_result"
    },
    {
     "data": {
      "image/png": "[encoded data removed]",
      "text/plain": [
       "<Figure size 432x288 with 1 Axes>"
      ]
     },
     "metadata": {
      "needs_background": "light"
     },
     "output_type": "display_data"
    }
   ],
   "source": [
    "portfolio_bias_test_df = portfolio_bias_test_series.reset_index()\n",
    "portfolio_bias_test_df.columns = ['n', 'bias_stats']\n",
    "portfolio_bias_test_df.plot.scatter(x='n', y='bias_stats')"
   ]
  },
  {
   "cell_type": "code",
   "execution_count": 35,
   "metadata": {
    "ExecuteTime": {
     "end_time": "2019-09-16T02:49:26.592369Z",
     "start_time": "2019-09-16T02:49:26.583406Z"
    }
   },
   "outputs": [],
   "source": [
    "# vec[:, 0]"
   ]
  },
  {
   "cell_type": "code",
   "execution_count": 27,
   "metadata": {
    "ExecuteTime": {
     "end_time": "2019-09-16T02:48:26.450233Z",
     "start_time": "2019-09-16T02:48:25.818657Z"
    }
   },
   "outputs": [],
   "source": [
    "# val, vec = np.linalg.eig(cov_dict[0])\n",
    "# val, vec = sort_eigen_pair(val, vec)\n",
    "# U_0 = np.mat(vec)  # 特征矩阵\n",
    "# V_0 = np.mat(cov_dict[0])\n",
    "# D_0 = U_0.T * V_0 * U_0\n",
    "\n",
    "# vol_bias = compute_sim_vol_bias(U_0, V_0, D_0, 5, window_size)\n",
    "\n",
    "# gamma = 1.4 * (vol_bias - 1) + 1\n",
    "\n",
    "# D_tilde_0 = D_0 * np.mat(np.diag(gamma) ** 2)\n",
    "\n",
    "# V_tilde_0 = U_0 * D_tilde_0 * U_0.T\n",
    "\n",
    "# V_tilde_0 = V_tilde_0.A\n",
    "\n",
    "\n",
    "# val1, vec1 = np.linalg.eig(V_tilde_0)\n",
    "# val1, vec1 = sort_eigen_pair(val1, vec1, sort='ascend')"
   ]
  },
  {
   "cell_type": "code",
   "execution_count": null,
   "metadata": {
    "ExecuteTime": {
     "end_time": "2019-09-16T02:49:18.505098Z",
     "start_time": "2019-09-16T02:49:18.493831Z"
    }
   },
   "outputs": [],
   "source": []
  },
  {
   "cell_type": "code",
   "execution_count": null,
   "metadata": {
    "ExecuteTime": {
     "end_time": "2019-09-16T01:58:38.507180Z",
     "start_time": "2019-09-16T01:58:38.501146Z"
    }
   },
   "outputs": [],
   "source": [
    "# a = np.array([np.nan, 1])"
   ]
  },
  {
   "cell_type": "code",
   "execution_count": 16,
   "metadata": {
    "ExecuteTime": {
     "end_time": "2019-09-16T02:42:15.136273Z",
     "start_time": "2019-09-16T02:42:15.131877Z"
    }
   },
   "outputs": [],
   "source": [
    "# print(a)\n",
    "# nan_loc = np.argwhere(np.isnan(a))\n",
    "# print(nan_loc[0][0])"
   ]
  },
  {
   "cell_type": "code",
   "execution_count": 37,
   "metadata": {
    "ExecuteTime": {
     "end_time": "2019-09-16T02:49:32.050387Z",
     "start_time": "2019-09-16T02:49:31.805553Z"
    }
   },
   "outputs": [
    {
     "data": {
      "text/plain": [
       "<matplotlib.axes._subplots.AxesSubplot at 0x7f81fc8df2b0>"
      ]
     },
     "execution_count": 37,
     "metadata": {},
     "output_type": "execute_result"
    },
    {
     "data": {
      "image/png": "[encoded data removed]",
      "text/plain": [
       "<Figure size 432x288 with 1 Axes>"
      ]
     },
     "metadata": {
      "needs_background": "light"
     },
     "output_type": "display_data"
    }
   ],
   "source": [
    "vol_bias_df = vol_bias.reset_index()\n",
    "vol_bias_df.columns = ['n', 'vol_bias']\n",
    "vol_bias_df.plot.scatter(x='n', y='vol_bias')"
   ]
  },
  {
   "cell_type": "code",
   "execution_count": 17,
   "metadata": {
    "ExecuteTime": {
     "end_time": "2019-09-12T07:24:11.293218Z",
     "start_time": "2019-09-12T07:24:11.275649Z"
    }
   },
   "outputs": [],
   "source": [
    "# val.argsort()[::-1]\n",
    "# portfolio_weight_dict[0][0]"
   ]
  },
  {
   "cell_type": "code",
   "execution_count": 19,
   "metadata": {
    "ExecuteTime": {
     "end_time": "2019-09-16T02:44:03.418818Z",
     "start_time": "2019-09-16T02:44:02.813377Z"
    }
   },
   "outputs": [],
   "source": []
  },
  {
   "cell_type": "code",
   "execution_count": 23,
   "metadata": {
    "ExecuteTime": {
     "end_time": "2019-09-16T02:44:43.905801Z",
     "start_time": "2019-09-16T02:44:43.779435Z"
    }
   },
   "outputs": [],
   "source": [
    "\n",
    "\n"
   ]
  },
  {
   "cell_type": "code",
   "execution_count": null,
   "metadata": {
    "ExecuteTime": {
     "end_time": "2019-09-16T02:45:04.086626Z",
     "start_time": "2019-09-16T02:45:04.074163Z"
    }
   },
   "outputs": [],
   "source": []
  },
  {
   "cell_type": "code",
   "execution_count": 38,
   "metadata": {
    "ExecuteTime": {
     "end_time": "2019-09-16T02:54:20.839227Z",
     "start_time": "2019-09-16T02:49:36.639452Z"
    }
   },
   "outputs": [
    {
     "name": "stderr",
     "output_type": "stream",
     "text": [
      "  0%|          | 0/402 [00:00<?, ?it/s]/home/casey/axioma-paper/src/eigen_adjust.py:36: RuntimeWarning: invalid value encountered in true_divide\n",
      "  D_ratio['m_%s' % m] = np.sqrt(np.diag(D_tilde_m) / np.diag(D_m))\n",
      "100%|██████████| 402/402 [04:44<00:00,  1.41it/s]\n"
     ]
    }
   ],
   "source": [
    "adjusted_cov_dict = {}\n",
    "for i, cov in tqdm(cov_dict.items()):\n",
    "    adj_cov = eigen_adjustment(cov, 5, window_size, a=1.4)\n",
    "    adjusted_cov_dict[i] = adj_cov"
   ]
  },
  {
   "cell_type": "code",
   "execution_count": 39,
   "metadata": {
    "ExecuteTime": {
     "end_time": "2019-09-16T02:54:28.518540Z",
     "start_time": "2019-09-16T02:54:28.511150Z"
    }
   },
   "outputs": [
    {
     "data": {
      "text/plain": [
       "array([[3.13191854e-04, 4.52962219e-05, 1.34985788e-04, ...,\n",
       "        0.00000000e+00, 1.27507078e-04, 1.20739079e-05],\n",
       "       [4.52962219e-05, 5.58127418e-04, 6.54146400e-05, ...,\n",
       "        0.00000000e+00, 3.96510536e-05, 9.50289529e-06],\n",
       "       [1.34985788e-04, 6.54146400e-05, 5.80459464e-04, ...,\n",
       "        0.00000000e+00, 1.70819237e-04, 4.06090887e-05],\n",
       "       ...,\n",
       "       [0.00000000e+00, 0.00000000e+00, 0.00000000e+00, ...,\n",
       "        0.00000000e+00, 0.00000000e+00, 0.00000000e+00],\n",
       "       [1.27507078e-04, 3.96510536e-05, 1.70819237e-04, ...,\n",
       "        0.00000000e+00, 3.42805051e-04, 3.48437349e-05],\n",
       "       [1.20739079e-05, 9.50289529e-06, 4.06090887e-05, ...,\n",
       "        0.00000000e+00, 3.48437349e-05, 4.99319066e-04]])"
      ]
     },
     "execution_count": 39,
     "metadata": {},
     "output_type": "execute_result"
    }
   ],
   "source": [
    "adjusted_cov_dict[0]"
   ]
  },
  {
   "cell_type": "code",
   "execution_count": null,
   "metadata": {
    "ExecuteTime": {
     "end_time": "2019-09-12T09:51:21.255726Z",
     "start_time": "2019-09-12T09:51:21.236748Z"
    }
   },
   "outputs": [],
   "source": []
  },
  {
   "cell_type": "code",
   "execution_count": 30,
   "metadata": {
    "ExecuteTime": {
     "end_time": "2019-09-12T09:51:25.549951Z",
     "start_time": "2019-09-12T09:51:25.545836Z"
    }
   },
   "outputs": [],
   "source": [
    "# eigen_adjustment(cov_dict[0], 1, window_size, a=1.4)"
   ]
  },
  {
   "cell_type": "code",
   "execution_count": null,
   "metadata": {
    "ExecuteTime": {
     "end_time": "2019-09-12T10:00:14.807168Z",
     "start_time": "2019-09-12T10:00:14.801250Z"
    }
   },
   "outputs": [],
   "source": []
  },
  {
   "cell_type": "code",
   "execution_count": 40,
   "metadata": {
    "ExecuteTime": {
     "end_time": "2019-09-16T02:55:11.726296Z",
     "start_time": "2019-09-16T02:54:36.263322Z"
    }
   },
   "outputs": [
    {
     "name": "stderr",
     "output_type": "stream",
     "text": [
      "100%|██████████| 402/402 [00:35<00:00, 11.34it/s]\n"
     ]
    }
   ],
   "source": [
    "portfolio_weight_dict = {}\n",
    "# after adjust\n",
    "for i in tqdm(range(T-window_size)): # 滚动生成V_0，并且计算eigenvector\n",
    "    X_tmp = X[:, i:i+window_size]\n",
    "#     equity_return = X[:, i+window_size-1]\n",
    "#     equity_return_dict[i] = equity_return\n",
    "    V_0 = adjusted_cov_dict[i]\n",
    "    val, vec = np.linalg.eig(V_0)\n",
    "    val, vec = sort_eigen_pair(val, vec, sort='ascend')\n",
    "    for n in range(N):\n",
    "        eigenvector = vec[:, n]\n",
    "        if n not in portfolio_weight_dict:\n",
    "            portfolio_weight_dict[n] = {i:eigenvector}\n",
    "        else:\n",
    "            portfolio_weight_dict[n][i] = eigenvector\n",
    "# equity_return_dict[T-window_size] = X[:, -1]"
   ]
  },
  {
   "cell_type": "code",
   "execution_count": 21,
   "metadata": {
    "ExecuteTime": {
     "end_time": "2019-09-16T02:37:08.802863Z",
     "start_time": "2019-09-16T02:37:08.679997Z"
    }
   },
   "outputs": [],
   "source": [
    "val, vec = np.linalg.eig(adjusted_cov_dict[0])\n",
    "val, vec = sort_eigen_pair(val, vec, sort='ascend')"
   ]
  },
  {
   "cell_type": "code",
   "execution_count": null,
   "metadata": {
    "ExecuteTime": {
     "end_time": "2019-09-16T02:55:53.907382Z",
     "start_time": "2019-09-16T02:55:53.894607Z"
    }
   },
   "outputs": [],
   "source": []
  },
  {
   "cell_type": "code",
   "execution_count": 44,
   "metadata": {
    "ExecuteTime": {
     "end_time": "2019-09-16T02:58:00.746722Z",
     "start_time": "2019-09-16T02:57:38.340519Z"
    }
   },
   "outputs": [
    {
     "name": "stderr",
     "output_type": "stream",
     "text": [
      "100%|██████████| 300/300 [00:22<00:00, 13.40it/s]\n"
     ]
    }
   ],
   "source": [
    "portfolio_bias_test = {}\n",
    "for ptf_num in tqdm(range(len(portfolio_weight_dict))):\n",
    "    bias_stats = BiasStats(\n",
    "            portfolio_weight_dict[ptf_num],\n",
    "              equity_return_dict,\n",
    "              adjusted_cov_dict,\n",
    "              1.\n",
    "             )\n",
    "    B = bias_stats.compute_ptf_bias_stats()\n",
    "    portfolio_bias_test[ptf_num] = B\n",
    "portfolio_bias_test_series = pd.Series(portfolio_bias_test)"
   ]
  },
  {
   "cell_type": "code",
   "execution_count": 45,
   "metadata": {
    "ExecuteTime": {
     "end_time": "2019-09-16T02:58:10.611521Z",
     "start_time": "2019-09-16T02:58:10.222540Z"
    }
   },
   "outputs": [
    {
     "data": {
      "text/plain": [
       "<matplotlib.axes._subplots.AxesSubplot at 0x7f81ef64e630>"
      ]
     },
     "execution_count": 45,
     "metadata": {},
     "output_type": "execute_result"
    },
    {
     "data": {
      "image/png": "[encoded data removed]",
      "text/plain": [
       "<Figure size 432x288 with 1 Axes>"
      ]
     },
     "metadata": {
      "needs_background": "light"
     },
     "output_type": "display_data"
    }
   ],
   "source": [
    "portfolio_bias_test_df = portfolio_bias_test_series.reset_index()\n",
    "portfolio_bias_test_df.columns = ['n', 'bias_stats']\n",
    "portfolio_bias_test_df.plot.scatter(x='n', y='bias_stats')"
   ]
  },
  {
   "cell_type": "code",
   "execution_count": null,
   "metadata": {},
   "outputs": [],
   "source": []
  }
 ],
 "metadata": {
  "kernelspec": {
   "display_name": "Python 3",
   "language": "python",
   "name": "python3"
  },
  "language_info": {
   "codemirror_mode": {
    "name": "ipython",
    "version": 3
   },
   "file_extension": ".py",
   "mimetype": "text/x-python",
   "name": "python",
   "nbconvert_exporter": "python",
   "pygments_lexer": "ipython3",
   "version": "3.7.3"
  }
 },
 "nbformat": 4,
 "nbformat_minor": 2
}
