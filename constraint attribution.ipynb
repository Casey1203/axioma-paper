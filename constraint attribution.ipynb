{
 "cells": [
  {
   "cell_type": "code",
   "execution_count": 1,
   "metadata": {},
   "outputs": [],
   "source": [
    "import pandas as pd\n",
    "import numpy as np\n",
    "import cvxpy as cvx"
   ]
  },
  {
   "cell_type": "code",
   "execution_count": 2,
   "metadata": {},
   "outputs": [],
   "source": [
    "equity_list = ['DELL', 'IBM', 'MSFT', 'ORCL']\n",
    "alpha_list = [-0.05, 0.07, 0.04, -0.02]\n",
    "alpha_series = pd.Series(index=equity_list, data=alpha_list)\n",
    "cov_list = [\n",
    "    [0.02, 0.0001, 0.002, -0.0001],\n",
    "    [0.0001, 0.04, 0.0003, 0.0009],\n",
    "    [0.002, 0.0003, 0.05, 0.0001],\n",
    "    [-0.0001, 0.0009, 0.0001, 0.02]\n",
    "]\n",
    "cov_df = pd.DataFrame(index=equity_list, columns=equity_list, data=cov_list)"
   ]
  },
  {
   "cell_type": "code",
   "execution_count": 3,
   "metadata": {},
   "outputs": [
    {
     "name": "stdout",
     "output_type": "stream",
     "text": [
      "DELL   -0.05\n",
      "IBM     0.07\n",
      "MSFT    0.04\n",
      "ORCL   -0.02\n",
      "dtype: float64\n",
      "\n",
      "\n",
      "        DELL     IBM    MSFT    ORCL\n",
      "DELL  0.0200  0.0001  0.0020 -0.0001\n",
      "IBM   0.0001  0.0400  0.0003  0.0009\n",
      "MSFT  0.0020  0.0003  0.0500  0.0001\n",
      "ORCL -0.0001  0.0009  0.0001  0.0200\n"
     ]
    }
   ],
   "source": [
    "print(alpha_series)\n",
    "print('\\n')\n",
    "print(cov_df)"
   ]
  },
  {
   "cell_type": "code",
   "execution_count": 4,
   "metadata": {},
   "outputs": [],
   "source": [
    "reference_size = 1.\n",
    "risk_avn = 1. / reference_size"
   ]
  },
  {
   "cell_type": "markdown",
   "metadata": {},
   "source": [
    "# 约束条件"
   ]
  },
  {
   "cell_type": "code",
   "execution_count": 5,
   "metadata": {},
   "outputs": [],
   "source": [
    "ub = pd.Series()\n",
    "lb = pd.Series()\n",
    "group_b = {}"
   ]
  },
  {
   "cell_type": "code",
   "execution_count": 6,
   "metadata": {},
   "outputs": [],
   "source": [
    "pre_holding = pd.Series(index=equity_list, data=0.)\n",
    "pre_holding['cash'] = reference_size\n",
    "current_price = pd.Series(index=equity_list+['cash'], data=1.)"
   ]
  },
  {
   "cell_type": "markdown",
   "metadata": {},
   "source": [
    "# 输入"
   ]
  },
  {
   "cell_type": "code",
   "execution_count": 7,
   "metadata": {},
   "outputs": [
    {
     "name": "stdout",
     "output_type": "stream",
     "text": [
      "DELL   -0.05\n",
      "IBM     0.07\n",
      "MSFT    0.04\n",
      "ORCL   -0.02\n",
      "cash    0.00\n",
      "dtype: float64\n",
      "\n",
      "\n",
      "        DELL     IBM    MSFT    ORCL  cash\n",
      "DELL  0.0200  0.0001  0.0020 -0.0001   0.0\n",
      "IBM   0.0001  0.0400  0.0003  0.0009   0.0\n",
      "MSFT  0.0020  0.0003  0.0500  0.0001   0.0\n",
      "ORCL -0.0001  0.0009  0.0001  0.0200   0.0\n",
      "cash  0.0000  0.0000  0.0000  0.0000   0.0\n"
     ]
    },
    {
     "name": "stderr",
     "output_type": "stream",
     "text": [
      "/home/casey/anaconda3/lib/python3.7/site-packages/IPython/core/interactiveshell.py:3325: FutureWarning: \n",
      "Panel is deprecated and will be removed in a future version.\n",
      "The recommended way to represent these types of 3-dimensional data are with a MultiIndex on a DataFrame, via the Panel.to_frame() method\n",
      "Alternatively, you can use the xarray package http://xarray.pydata.org/en/stable/.\n",
      "Pandas provides a `.to_xarray()` method to help automate this conversion.\n",
      "\n",
      "  exec(code_obj, self.user_global_ns, self.user_ns)\n"
     ]
    }
   ],
   "source": [
    "# alpha和cov扩展ｃａｓｈ\n",
    "alpha_series['cash'] = 0.\n",
    "cov_df = cov_df.reindex(equity_list + ['cash']).fillna(0.)\n",
    "cov_df['cash'] = 0.\n",
    "print(alpha_series)\n",
    "print('\\n')\n",
    "print(cov_df)\n",
    "trading_day = '20100101'\n",
    "cov_panel = pd.Panel(\n",
    "    data={trading_day: cov_df})\n",
    "annual_rt_df = pd.DataFrame(\n",
    "    index=[trading_day],\n",
    "    data=[alpha_series])\n",
    "# benchmark\n",
    "benchmark_weight = pd.Series(index=equity_list+['cash'], data=[0.3, 0.23, 0.12, 0.35, 0.])"
   ]
  },
  {
   "cell_type": "markdown",
   "metadata": {},
   "source": [
    "# CVXPY配置"
   ]
  },
  {
   "cell_type": "code",
   "execution_count": 8,
   "metadata": {},
   "outputs": [],
   "source": [
    "from solar.cvxportfolio.constraints import LongCash, LongOnly\n",
    "from solar.cvxportfolio.costs import TcostModel\n",
    "from solar.cvxportfolio.returns import ReturnsForecast\n",
    "from solar.solver.components.constraints import AssetWeightBound, TurnoverLimit, GroupWeightBound\n",
    "from solar.solver.components.policies import MaxUtilityPolicy\n",
    "from solar.solver.components.risks import AssetSigma\n",
    "from solar.math.common_function import adjust_holding_precision\n",
    "solver_param = {}\n",
    "solver_param.update({\n",
    "    cvx.ECOS: {\n",
    "        'abstol': 1.0e-09,\n",
    "        'reltol': 1.0e-09,\n",
    "        'max_iters': 150\n",
    "    }\n",
    "})"
   ]
  },
  {
   "cell_type": "code",
   "execution_count": 9,
   "metadata": {},
   "outputs": [],
   "source": [
    "class MaxUtilityFunctionSolver:\n",
    "    def __init__(self, param):\n",
    "        self.asset_list = param['asset_list']\n",
    "        self.asset_cov = param['asset_cov']\n",
    "        self.asset_rt = param['asset_rt']\n",
    "        self.risk_aversion = param['risk_aversion']\n",
    "        self.total_weight = param['total_weight']\n",
    "        self.target_turnover = param['target_turnover']\n",
    "        self.fee = param['fee']\n",
    "        self.lower_boundary = param['lb']\n",
    "        self.upper_boundary = param['ub']\n",
    "        self.group_boundary = param['group_b']\n",
    "        self.trading_day = param['trading_day']\n",
    "        self.pre_holding = param['pre_holding']\n",
    "        self.current_price = param['current_price']\n",
    "        self.solver = param['solver']\n",
    "        self.weight_precision = param['weight_precision']\n",
    "        self.benchmark_weight_series = param['benchmark_weight_series']\n",
    "        self.is_long_only = param['is_long_only']\n",
    "        self.is_long_cash = param['is_long_cash']\n",
    "        self.lower_boundary = self.lower_boundary.reindex(self.asset_list).fillna(-np.inf)\n",
    "        self.upper_boundary = self.upper_boundary.reindex(self.asset_list).fillna(np.inf)\n",
    "\n",
    "    def solve(self):\n",
    "        transaction_cost_mdl = TcostModel(self.fee) if self.fee is not None else None\n",
    "        cost_models = []\n",
    "        if transaction_cost_mdl is not None:\n",
    "            cost_models.append(transaction_cost_mdl)\n",
    "\n",
    "        asset_cov_mdl = AssetSigma(self.asset_cov, w_bench=self.benchmark_weight_series)\n",
    "        return_mdl = ReturnsForecast(self.asset_rt)\n",
    "        weight_bound_list = [x for x in zip(self.lower_boundary, self.upper_boundary)]\n",
    "        if self.total_weight:\n",
    "            weight_bound_list += [1 - self.total_weight]\n",
    "        wt_cons = AssetWeightBound(weight_bound_list)\n",
    "        group_wt_cons = GroupWeightBound(self.group_boundary)\n",
    "        constraints = []\n",
    "        if self.is_long_only:\n",
    "            constraints += [LongOnly()]\n",
    "        if self.is_long_cash:\n",
    "            constraints += [LongCash()]\n",
    "        constraints = [wt_cons, group_wt_cons]\n",
    "\n",
    "        if self.target_turnover is not None:\n",
    "            turnover_cons = TurnoverLimit(self.target_turnover)\n",
    "            constraints.append(turnover_cons)\n",
    "\n",
    "        policy = MaxUtilityPolicy(\n",
    "            return_mdl,\n",
    "            asset_cov_mdl,\n",
    "            self.risk_aversion,\n",
    "            costs=cost_models,\n",
    "            constraints=constraints,\n",
    "            solver=self.solver,\n",
    "            solver_opts=solver_param[self.solver])\n",
    "        prob, trade_value = policy.get_trades(self.pre_holding, self.trading_day)\n",
    "        trade_volume = trade_value.drop('cash') / self.current_price\n",
    "        trade_volume.fillna(0., inplace=True)\n",
    "        after_trade_value = self.pre_holding + trade_value\n",
    "        after_trade_ratio = after_trade_value / after_trade_value.sum()\n",
    "        after_trade_ratio = adjust_holding_precision(after_trade_ratio, self.weight_precision)\n",
    "        transaction_cost_sum = 0.\n",
    "        for cost in policy.costs:\n",
    "            if isinstance(cost, TcostModel):\n",
    "                transaction_cost_sum += cost.value_expr(0., 0., trade_value)\n",
    "        trade_result = {\n",
    "            'trade_value': trade_value,\n",
    "            'trade_volume': trade_volume,\n",
    "            'solution_status': prob.status,\n",
    "            'transaction_cost_sum': transaction_cost_sum,\n",
    "            'weight': after_trade_ratio,\n",
    "            'holding': after_trade_value\n",
    "        }\n",
    "        return trade_result\n"
   ]
  },
  {
   "cell_type": "code",
   "execution_count": 10,
   "metadata": {},
   "outputs": [],
   "source": [
    "free_param = {'asset_list': equity_list,\n",
    "         'asset_cov': cov_panel,\n",
    "         'asset_rt': annual_rt_df,\n",
    "         'risk_aversion': risk_avn,\n",
    "         'total_weight': None,\n",
    "         'target_turnover': None,\n",
    "         'fee': None,\n",
    "         'lb': lb,\n",
    "         'ub': ub,\n",
    "         'group_b': group_b,\n",
    "         'trading_day': trading_day,\n",
    "         'pre_holding': pre_holding,\n",
    "         'current_price': current_price,\n",
    "         'solver': cvx.ECOS,\n",
    "         'weight_precision': 0.001,\n",
    "         'benchmark_weight_series': benchmark_weight,\n",
    "         'is_long_only': False,\n",
    "         'is_long_cash': False\n",
    "        }"
   ]
  },
  {
   "cell_type": "code",
   "execution_count": 18,
   "metadata": {},
   "outputs": [],
   "source": [
    "model = MaxUtilityFunctionSolver(free_param)\n",
    "free_result = model.solve()"
   ]
  },
  {
   "cell_type": "code",
   "execution_count": 22,
   "metadata": {},
   "outputs": [
    {
     "data": {
      "text/plain": [
       "DELL   -2.303920\n",
       "IBM     2.004482\n",
       "MSFT    1.015705\n",
       "ORCL   -0.747341\n",
       "cash    1.031074\n",
       "dtype: float64"
      ]
     },
     "execution_count": 22,
     "metadata": {},
     "output_type": "execute_result"
    }
   ],
   "source": [
    "free_result['holding']"
   ]
  },
  {
   "cell_type": "code",
   "execution_count": 12,
   "metadata": {},
   "outputs": [],
   "source": [
    "ub = pd.Series(index=equity_list, data=[np.inf, 0.5, np.inf, np.inf])\n",
    "lb = pd.Series(index=equity_list, data=-0.05)\n",
    "total_weight = 1.\n",
    "group_b = {}\n",
    "constraint_param = {'asset_list': equity_list,\n",
    "         'asset_cov': cov_panel,\n",
    "         'asset_rt': annual_rt_df,\n",
    "         'risk_aversion': risk_avn,\n",
    "         'total_weight': total_weight,\n",
    "         'target_turnover': None,\n",
    "         'fee': None,\n",
    "         'lb': lb,\n",
    "         'ub': ub,\n",
    "         'group_b': group_b,\n",
    "         'trading_day': trading_day,\n",
    "         'pre_holding': pre_holding,\n",
    "         'current_price': current_price,\n",
    "         'solver': cvx.ECOS,\n",
    "         'weight_precision': 0.001,\n",
    "         'benchmark_weight_series': benchmark_weight,\n",
    "         'is_long_only': False,\n",
    "         'is_long_cash': False\n",
    "        }"
   ]
  },
  {
   "cell_type": "code",
   "execution_count": 13,
   "metadata": {},
   "outputs": [],
   "source": [
    "model = MaxUtilityFunctionSolver(constraint_param)\n",
    "constraint_result = model.solve()"
   ]
  },
  {
   "cell_type": "code",
   "execution_count": 17,
   "metadata": {},
   "outputs": [
    {
     "data": {
      "text/plain": [
       "DELL   -5.000000e-02\n",
       "IBM     5.000000e-01\n",
       "MSFT    6.000000e-01\n",
       "ORCL   -5.000000e-02\n",
       "cash    4.451994e-14\n",
       "dtype: float64"
      ]
     },
     "execution_count": 17,
     "metadata": {},
     "output_type": "execute_result"
    }
   ],
   "source": [
    "constraint_result['holding']"
   ]
  },
  {
   "cell_type": "markdown",
   "metadata": {},
   "source": [
    "# alpha decomposition"
   ]
  },
  {
   "cell_type": "code",
   "execution_count": 24,
   "metadata": {},
   "outputs": [
    {
     "data": {
      "text/plain": [
       "DELL   -0.005973\n",
       "IBM     0.010549\n",
       "MSFT    0.023341\n",
       "ORCL   -0.007674\n",
       "cash    0.000000\n",
       "dtype: float64"
      ]
     },
     "execution_count": 24,
     "metadata": {},
     "output_type": "execute_result"
    }
   ],
   "source": [
    "# implied alpha\n",
    "def implied_alpha(cov_df, optimal_weight, wb_bench):\n",
    "    return cov_df.dot(optimal_weight - wb_bench)/reference_size\n",
    "im_alpha = implied_alpha(cov_df, constraint_result['holding'], benchmark_weight)\n",
    "im_alpha"
   ]
  },
  {
   "cell_type": "code",
   "execution_count": 28,
   "metadata": {},
   "outputs": [
    {
     "data": {
      "text/plain": [
       "DELL   -0.044027\n",
       "IBM     0.059451\n",
       "MSFT    0.016659\n",
       "ORCL   -0.012326\n",
       "cash    0.000000\n",
       "dtype: float64"
      ]
     },
     "execution_count": 28,
     "metadata": {},
     "output_type": "execute_result"
    }
   ],
   "source": [
    "alpha_series - cov_df.dot(constraint_result['holding']-benchmark_weight)"
   ]
  },
  {
   "cell_type": "code",
   "execution_count": null,
   "metadata": {},
   "outputs": [],
   "source": [
    "# budget alpha\n",
    "def budget_alpha()"
   ]
  },
  {
   "cell_type": "code",
   "execution_count": null,
   "metadata": {},
   "outputs": [],
   "source": []
  }
 ],
 "metadata": {
  "kernelspec": {
   "display_name": "Python 3",
   "language": "python",
   "name": "python3"
  },
  "language_info": {
   "codemirror_mode": {
    "name": "ipython",
    "version": 3
   },
   "file_extension": ".py",
   "mimetype": "text/x-python",
   "name": "python",
   "nbconvert_exporter": "python",
   "pygments_lexer": "ipython3",
   "version": "3.7.3"
  }
 },
 "nbformat": 4,
 "nbformat_minor": 2
}
