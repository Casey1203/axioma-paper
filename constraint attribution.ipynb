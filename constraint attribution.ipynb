{
 "cells": [
  {
   "cell_type": "code",
   "execution_count": 1,
   "metadata": {
    "ExecuteTime": {
     "end_time": "2019-07-30T14:36:48.665942Z",
     "start_time": "2019-07-30T14:36:47.562869Z"
    }
   },
   "outputs": [],
   "source": [
    "import pandas as pd\n",
    "import numpy as np\n",
    "import cvxpy as cvx"
   ]
  },
  {
   "cell_type": "code",
   "execution_count": 2,
   "metadata": {
    "ExecuteTime": {
     "end_time": "2019-07-30T14:36:49.133852Z",
     "start_time": "2019-07-30T14:36:49.114434Z"
    }
   },
   "outputs": [],
   "source": [
    "equity_list = ['DELL', 'IBM', 'MSFT', 'ORCL']\n",
    "alpha_list = [-0.05, 0.07, 0.04, -0.02]\n",
    "# alpha_list = [-0.006, 0.0105, 0.0233, -0.0077] # implied alpha\n",
    "alpha_series = pd.Series(index=equity_list, data=alpha_list)\n",
    "cov_list = [\n",
    "    [0.02, 0.0001, 0.002, -0.0001],\n",
    "    [0.0001, 0.04, 0.0003, 0.0009],\n",
    "    [0.002, 0.0003, 0.05, 0.0001],\n",
    "    [-0.0001, 0.0009, 0.0001, 0.02]\n",
    "]\n",
    "cov_df = pd.DataFrame(index=equity_list, columns=equity_list, data=cov_list)"
   ]
  },
  {
   "cell_type": "code",
   "execution_count": 3,
   "metadata": {
    "ExecuteTime": {
     "end_time": "2019-07-30T14:36:50.211942Z",
     "start_time": "2019-07-30T14:36:50.178040Z"
    }
   },
   "outputs": [
    {
     "name": "stdout",
     "output_type": "stream",
     "text": [
      "DELL   -0.05\n",
      "IBM     0.07\n",
      "MSFT    0.04\n",
      "ORCL   -0.02\n",
      "dtype: float64\n",
      "\n",
      "\n",
      "        DELL     IBM    MSFT    ORCL\n",
      "DELL  0.0200  0.0001  0.0020 -0.0001\n",
      "IBM   0.0001  0.0400  0.0003  0.0009\n",
      "MSFT  0.0020  0.0003  0.0500  0.0001\n",
      "ORCL -0.0001  0.0009  0.0001  0.0200\n"
     ]
    }
   ],
   "source": [
    "print(alpha_series)\n",
    "print('\\n')\n",
    "print(cov_df)"
   ]
  },
  {
   "cell_type": "code",
   "execution_count": 4,
   "metadata": {
    "ExecuteTime": {
     "end_time": "2019-07-30T14:36:50.417017Z",
     "start_time": "2019-07-30T14:36:50.410359Z"
    }
   },
   "outputs": [],
   "source": [
    "reference_size = 1.\n",
    "risk_avn = 1. / reference_size"
   ]
  },
  {
   "cell_type": "markdown",
   "metadata": {},
   "source": [
    "# 约束条件"
   ]
  },
  {
   "cell_type": "code",
   "execution_count": 5,
   "metadata": {
    "ExecuteTime": {
     "end_time": "2019-07-30T14:36:52.096940Z",
     "start_time": "2019-07-30T14:36:52.089747Z"
    }
   },
   "outputs": [],
   "source": [
    "ub = pd.Series()\n",
    "lb = pd.Series()\n",
    "group_b = {}"
   ]
  },
  {
   "cell_type": "code",
   "execution_count": 6,
   "metadata": {
    "ExecuteTime": {
     "end_time": "2019-07-30T14:36:52.374180Z",
     "start_time": "2019-07-30T14:36:52.350121Z"
    }
   },
   "outputs": [],
   "source": [
    "pre_holding = pd.Series(index=equity_list, data=0.)\n",
    "pre_holding['cash'] = reference_size\n",
    "current_price = pd.Series(index=equity_list+['cash'], data=1.)"
   ]
  },
  {
   "cell_type": "markdown",
   "metadata": {},
   "source": [
    "# 输入"
   ]
  },
  {
   "cell_type": "code",
   "execution_count": 7,
   "metadata": {
    "ExecuteTime": {
     "end_time": "2019-07-30T14:36:55.367697Z",
     "start_time": "2019-07-30T14:36:55.324146Z"
    }
   },
   "outputs": [
    {
     "name": "stdout",
     "output_type": "stream",
     "text": [
      "DELL   -0.05\n",
      "IBM     0.07\n",
      "MSFT    0.04\n",
      "ORCL   -0.02\n",
      "cash    0.00\n",
      "dtype: float64\n",
      "\n",
      "\n",
      "        DELL     IBM    MSFT    ORCL  cash\n",
      "DELL  0.0200  0.0001  0.0020 -0.0001   0.0\n",
      "IBM   0.0001  0.0400  0.0003  0.0009   0.0\n",
      "MSFT  0.0020  0.0003  0.0500  0.0001   0.0\n",
      "ORCL -0.0001  0.0009  0.0001  0.0200   0.0\n",
      "cash  0.0000  0.0000  0.0000  0.0000   0.0\n"
     ]
    },
    {
     "name": "stderr",
     "output_type": "stream",
     "text": [
      "/home/casey/anaconda3/lib/python3.7/site-packages/IPython/core/interactiveshell.py:3325: FutureWarning: \n",
      "Panel is deprecated and will be removed in a future version.\n",
      "The recommended way to represent these types of 3-dimensional data are with a MultiIndex on a DataFrame, via the Panel.to_frame() method\n",
      "Alternatively, you can use the xarray package http://xarray.pydata.org/en/stable/.\n",
      "Pandas provides a `.to_xarray()` method to help automate this conversion.\n",
      "\n",
      "  exec(code_obj, self.user_global_ns, self.user_ns)\n"
     ]
    }
   ],
   "source": [
    "# alpha和cov扩展ｃａｓｈ\n",
    "alpha_series['cash'] = 0.\n",
    "cov_df = cov_df.reindex(equity_list + ['cash']).fillna(0.)\n",
    "cov_df['cash'] = 0.\n",
    "print(alpha_series)\n",
    "print('\\n')\n",
    "print(cov_df)\n",
    "trading_day = '20100101'\n",
    "cov_panel = pd.Panel(\n",
    "    data={trading_day: cov_df})\n",
    "annual_rt_df = pd.DataFrame(\n",
    "    index=[trading_day],\n",
    "    data=[alpha_series])\n",
    "# benchmark\n",
    "benchmark_weight = pd.Series(index=equity_list+['cash'], data=[0.3, 0.23, 0.12, 0.35, 0.])"
   ]
  },
  {
   "cell_type": "markdown",
   "metadata": {},
   "source": [
    "# CVXPY配置"
   ]
  },
  {
   "cell_type": "code",
   "execution_count": 8,
   "metadata": {
    "ExecuteTime": {
     "end_time": "2019-07-30T14:36:58.195783Z",
     "start_time": "2019-07-30T14:36:57.586210Z"
    }
   },
   "outputs": [],
   "source": [
    "from solar.cvxportfolio.constraints import LongCash, LongOnly\n",
    "from solar.cvxportfolio.costs import TcostModel\n",
    "from solar.cvxportfolio.returns import ReturnsForecast\n",
    "from solar.solver.components.constraints import AssetWeightBound, TurnoverLimit, GroupWeightBound\n",
    "from solar.solver.components.policies import MaxUtilityPolicy\n",
    "from solar.solver.components.risks import AssetSigma\n",
    "from solar.math.common_function import adjust_holding_precision\n",
    "solver_param = {}\n",
    "solver_param.update({\n",
    "    cvx.ECOS: {\n",
    "        'abstol': 1.0e-09,\n",
    "        'reltol': 1.0e-09,\n",
    "        'max_iters': 150\n",
    "    }\n",
    "})"
   ]
  },
  {
   "cell_type": "code",
   "execution_count": 9,
   "metadata": {
    "ExecuteTime": {
     "end_time": "2019-07-30T14:37:01.285789Z",
     "start_time": "2019-07-30T14:37:01.212455Z"
    }
   },
   "outputs": [],
   "source": [
    "class MaxUtilityFunctionSolver:\n",
    "    def __init__(self, param):\n",
    "        self.asset_list = param['asset_list']\n",
    "        self.asset_cov = param['asset_cov']\n",
    "        self.asset_rt = param['asset_rt']\n",
    "        self.risk_aversion = param['risk_aversion']\n",
    "        self.total_weight = param['total_weight']\n",
    "        self.target_turnover = param['target_turnover']\n",
    "        self.fee = param['fee']\n",
    "        self.lower_boundary = param['lb']\n",
    "        self.upper_boundary = param['ub']\n",
    "        self.group_boundary = param['group_b']\n",
    "        self.trading_day = param['trading_day']\n",
    "        self.pre_holding = param['pre_holding']\n",
    "        self.current_price = param['current_price']\n",
    "        self.solver = param['solver']\n",
    "        self.weight_precision = param['weight_precision']\n",
    "        self.benchmark_weight_series = param['benchmark_weight_series']\n",
    "        self.is_long_only = param['is_long_only']\n",
    "        self.is_long_cash = param['is_long_cash']\n",
    "        self.lower_boundary = self.lower_boundary.reindex(self.asset_list).fillna(-np.inf)\n",
    "        self.upper_boundary = self.upper_boundary.reindex(self.asset_list).fillna(np.inf)\n",
    "\n",
    "    def _analysis_dual_variable(self, prob, variable):\n",
    "        inside_constraint_list = prob.constraints\n",
    "        dual_constraint_dict = {}\n",
    "        for constraint in inside_constraint_list:\n",
    "            dual_value = constraint.dual_value  # lambda\n",
    "            jac_matrix = constraint.expr.grad[variable].toarray()\n",
    "            dual_constraint_dict[constraint] = (dual_value, jac_matrix)\n",
    "        return dual_constraint_dict\n",
    "\n",
    "    def _constraint_attribution(self, prob, dual_constraint_dict):\n",
    "        inside_constraint_list = prob.constraints\n",
    "        alpha_decomp_dict = {}\n",
    "        holding_decomp_dict = {}\n",
    "        expected_return_decomp_dict = {}\n",
    "        cov_arr = self.asset_cov.values[0]\n",
    "        cov_arr = cov_arr[:len(self.asset_list), :len(self.asset_list)]\n",
    "        inv_cov_arr = np.linalg.inv(cov_arr)\n",
    "        inv_cov_df = pd.DataFrame(index=self.asset_list, columns=self.asset_list, data=inv_cov_arr)\n",
    "        inv_cov_df = inv_cov_df.reindex(self.asset_list + ['cash']).fillna(0.)\n",
    "        inv_cov_df['cash'] = 0.\n",
    "#         inv_cov_df.loc['cash', 'cash'] = 1.\n",
    "#         self.asset_rt.loc[self.trading_day]['cash'] = 1.\n",
    "        for constraint in inside_constraint_list:\n",
    "            dual_value, jac_matrix = dual_constraint_dict[constraint]\n",
    "            # alpha decomposition\n",
    "            cur_alpha_decomp_mat = (-1 * jac_matrix * dual_value).T\n",
    "            alpha_decomp_dict[constraint.name()] = cur_alpha_decomp_mat\n",
    "            # holding decomposition\n",
    "            cur_holding_decomp_mat = cur_alpha_decomp_mat.dot(inv_cov_df)\n",
    "            holding_decomp_dict[constraint.name()] = cur_holding_decomp_mat\n",
    "            # expected return decomposition\n",
    "            expected_return_decomp_dict[constraint.name()] = cur_holding_decomp_mat.dot(self.asset_rt.loc[self.trading_day])\n",
    "        result = {\n",
    "            'alpha_decomp_dict': alpha_decomp_dict,\n",
    "            'holding_decomp_dict': holding_decomp_dict,\n",
    "            'expected_return_decomp_dict': expected_return_decomp_dict\n",
    "        }\n",
    "        return result\n",
    "\n",
    "\n",
    "    def solve(self):\n",
    "        transaction_cost_mdl = TcostModel(self.fee) if self.fee is not None else None\n",
    "        cost_models = []\n",
    "        if transaction_cost_mdl is not None:\n",
    "            cost_models.append(transaction_cost_mdl)\n",
    "\n",
    "        asset_cov_mdl = AssetSigma(self.asset_cov, w_bench=self.benchmark_weight_series)\n",
    "        return_mdl = ReturnsForecast(self.asset_rt)\n",
    "        weight_bound_list = [x for x in zip(self.lower_boundary, self.upper_boundary)]\n",
    "        if self.total_weight:\n",
    "            # weight_bound_list += [1 - self.total_weight]\n",
    "            self.group_boundary.append(\n",
    "                {'index': [i for i in range(len(self.asset_list))], 'cb': self.total_weight}\n",
    "            )\n",
    "        wt_cons = AssetWeightBound(weight_bound_list)\n",
    "\n",
    "        group_wt_cons = GroupWeightBound(self.group_boundary)\n",
    "        constraints = []\n",
    "        if self.is_long_only:\n",
    "            constraints += [LongOnly()]\n",
    "        if self.is_long_cash:\n",
    "            constraints += [LongCash()]\n",
    "        constraints = [wt_cons, group_wt_cons]\n",
    "\n",
    "        if self.target_turnover is not None:\n",
    "            turnover_cons = TurnoverLimit(self.target_turnover)\n",
    "            constraints.append(turnover_cons)\n",
    "\n",
    "        policy = MaxUtilityPolicy(\n",
    "            return_mdl,\n",
    "            asset_cov_mdl,\n",
    "            self.risk_aversion,\n",
    "            costs=cost_models,\n",
    "            constraints=constraints,\n",
    "            solver=self.solver,\n",
    "            solver_opts=solver_param[self.solver])\n",
    "        prob, trade_value = policy.get_trades(self.pre_holding, self.trading_day)\n",
    "        dual_constraint_dict = self._analysis_dual_variable(prob, policy.variable)\n",
    "        constraint_attr_result = \\\n",
    "            self._constraint_attribution(prob, dual_constraint_dict)\n",
    "        trade_volume = trade_value.drop('cash') / self.current_price\n",
    "        trade_volume.fillna(0., inplace=True)\n",
    "        after_trade_value = self.pre_holding + trade_value\n",
    "        after_trade_ratio = after_trade_value / after_trade_value.sum()\n",
    "        after_trade_ratio = adjust_holding_precision(after_trade_ratio, self.weight_precision)\n",
    "        transaction_cost_sum = 0.\n",
    "        for cost in policy.costs:\n",
    "            if isinstance(cost, TcostModel):\n",
    "                transaction_cost_sum += cost.value_expr(0., 0., trade_value)\n",
    "        trade_result = {\n",
    "            'trade_value': trade_value,\n",
    "            'trade_volume': trade_volume,\n",
    "            'solution_status': prob.status,\n",
    "            'transaction_cost_sum': transaction_cost_sum,\n",
    "            'weight': after_trade_ratio,\n",
    "            'holding': after_trade_value,\n",
    "            'constraint_attr_result': constraint_attr_result\n",
    "        }\n",
    "        return trade_result\n"
   ]
  },
  {
   "cell_type": "code",
   "execution_count": 10,
   "metadata": {
    "ExecuteTime": {
     "end_time": "2019-07-30T14:37:03.104401Z",
     "start_time": "2019-07-30T14:37:03.098523Z"
    }
   },
   "outputs": [],
   "source": [
    "free_param = {'asset_list': equity_list,\n",
    "         'asset_cov': cov_panel,\n",
    "         'asset_rt': annual_rt_df,\n",
    "         'risk_aversion': risk_avn,\n",
    "         'total_weight': None,\n",
    "         'target_turnover': None,\n",
    "         'fee': None,\n",
    "         'lb': lb,\n",
    "         'ub': ub,\n",
    "         'group_b': group_b,\n",
    "         'trading_day': trading_day,\n",
    "         'pre_holding': pre_holding,\n",
    "         'current_price': current_price,\n",
    "         'solver': cvx.ECOS,\n",
    "         'weight_precision': 0.00000001,\n",
    "         'benchmark_weight_series': benchmark_weight,\n",
    "         'is_long_only': False,\n",
    "         'is_long_cash': False\n",
    "        }"
   ]
  },
  {
   "cell_type": "code",
   "execution_count": 11,
   "metadata": {
    "ExecuteTime": {
     "end_time": "2019-07-30T14:37:05.193652Z",
     "start_time": "2019-07-30T14:37:05.114259Z"
    }
   },
   "outputs": [
    {
     "name": "stderr",
     "output_type": "stream",
     "text": [
      "/home/casey/anaconda3/lib/python3.7/site-packages/pandas/core/dtypes/missing.py:99: FutureWarning: \n",
      "Panel is deprecated and will be removed in a future version.\n",
      "The recommended way to represent these types of 3-dimensional data are with a MultiIndex on a DataFrame, via the Panel.to_frame() method\n",
      "Alternatively, you can use the xarray package http://xarray.pydata.org/en/stable/.\n",
      "Pandas provides a `.to_xarray()` method to help automate this conversion.\n",
      "\n",
      "  return _isna(obj)\n"
     ]
    }
   ],
   "source": [
    "model = MaxUtilityFunctionSolver(free_param)\n",
    "free_result = model.solve()"
   ]
  },
  {
   "cell_type": "code",
   "execution_count": 12,
   "metadata": {
    "ExecuteTime": {
     "end_time": "2019-07-30T14:37:07.340706Z",
     "start_time": "2019-07-30T14:37:07.331422Z"
    }
   },
   "outputs": [
    {
     "data": {
      "text/plain": [
       "DELL   -2.303920\n",
       "IBM     2.004482\n",
       "MSFT    1.015705\n",
       "ORCL   -0.747341\n",
       "cash    1.031074\n",
       "dtype: float64"
      ]
     },
     "execution_count": 12,
     "metadata": {},
     "output_type": "execute_result"
    }
   ],
   "source": [
    "free_result['holding']"
   ]
  },
  {
   "cell_type": "code",
   "execution_count": 13,
   "metadata": {},
   "outputs": [
    {
     "data": {
      "text/plain": [
       "0.3110847699676577"
      ]
     },
     "execution_count": 13,
     "metadata": {},
     "output_type": "execute_result"
    }
   ],
   "source": [
    "# expected return\n",
    "free_result['holding'].dot(alpha_series)"
   ]
  },
  {
   "cell_type": "code",
   "execution_count": 14,
   "metadata": {},
   "outputs": [
    {
     "data": {
      "text/plain": [
       "['DELL', 'IBM', 'MSFT', 'ORCL']"
      ]
     },
     "execution_count": 14,
     "metadata": {},
     "output_type": "execute_result"
    }
   ],
   "source": [
    "equity_list"
   ]
  },
  {
   "cell_type": "code",
   "execution_count": 15,
   "metadata": {
    "ExecuteTime": {
     "end_time": "2019-07-30T14:37:09.871100Z",
     "start_time": "2019-07-30T14:37:09.858857Z"
    }
   },
   "outputs": [],
   "source": [
    "ub = pd.Series(index=equity_list, data=[np.inf, 0.5, np.inf, np.inf])\n",
    "lb = pd.Series(index=equity_list, data=-0.05)\n",
    "total_weight = 1.\n",
    "group_b = []\n",
    "constraint_param = {'asset_list': equity_list,\n",
    "         'asset_cov': cov_panel,\n",
    "         'asset_rt': annual_rt_df,\n",
    "         'risk_aversion': risk_avn,\n",
    "         'total_weight': total_weight,\n",
    "         'target_turnover': None,\n",
    "         'fee': None,\n",
    "         'lb': lb,\n",
    "         'ub': ub,\n",
    "         'group_b': group_b,\n",
    "         'trading_day': trading_day,\n",
    "         'pre_holding': pre_holding,\n",
    "         'current_price': current_price,\n",
    "         'solver': cvx.ECOS,\n",
    "         'weight_precision': 0.00001,\n",
    "         'benchmark_weight_series': benchmark_weight,\n",
    "         'is_long_only': False,\n",
    "         'is_long_cash': False\n",
    "        }"
   ]
  },
  {
   "cell_type": "code",
   "execution_count": 16,
   "metadata": {
    "ExecuteTime": {
     "end_time": "2019-07-30T14:37:10.901716Z",
     "start_time": "2019-07-30T14:37:10.841548Z"
    }
   },
   "outputs": [],
   "source": [
    "model = MaxUtilityFunctionSolver(constraint_param)\n",
    "constraint_result = model.solve()"
   ]
  },
  {
   "cell_type": "code",
   "execution_count": 17,
   "metadata": {
    "ExecuteTime": {
     "end_time": "2019-07-30T14:37:11.120837Z",
     "start_time": "2019-07-30T14:37:11.108124Z"
    }
   },
   "outputs": [
    {
     "data": {
      "text/plain": [
       "DELL   -5.000000e-02\n",
       "IBM     5.000000e-01\n",
       "MSFT    6.000000e-01\n",
       "ORCL   -5.000000e-02\n",
       "cash    5.984102e-14\n",
       "dtype: float64"
      ]
     },
     "execution_count": 17,
     "metadata": {},
     "output_type": "execute_result"
    }
   ],
   "source": [
    "constraint_result['holding']"
   ]
  },
  {
   "cell_type": "code",
   "execution_count": 18,
   "metadata": {},
   "outputs": [
    {
     "data": {
      "text/plain": [
       "0.06249999997116984"
      ]
     },
     "execution_count": 18,
     "metadata": {},
     "output_type": "execute_result"
    }
   ],
   "source": [
    "# expected return\n",
    "constraint_result['holding'].dot(alpha_series)"
   ]
  },
  {
   "cell_type": "code",
   "execution_count": 19,
   "metadata": {},
   "outputs": [
    {
     "name": "stdout",
     "output_type": "stream",
     "text": [
      "[-0.04998528  0.49999262  0.59999103 -0.0499805   1.03107427]\n"
     ]
    }
   ],
   "source": [
    "holding_decomp_arr = None\n",
    "for key, value in constraint_result['constraint_attr_result']['holding_decomp_dict'].items():\n",
    "    if holding_decomp_arr is None:\n",
    "        holding_decomp_arr = value\n",
    "    else:\n",
    "        holding_decomp_arr = np.concatenate([holding_decomp_arr, value])\n",
    "print(holding_decomp_arr.sum(axis=0) + free_result['holding'].values)"
   ]
  },
  {
   "cell_type": "markdown",
   "metadata": {},
   "source": [
    "# alpha decomposition"
   ]
  },
  {
   "cell_type": "markdown",
   "metadata": {},
   "source": [
    "个股权重设置了下限为$-5\\%$，IBM的上限为$50\\%$，总权重为$1$，共6个约束条件，其中有5个为不等式约束，1个为等式约束。\n",
    "原目标函数为\n",
    "$$\n",
    "\\max \\alpha^T x - \\frac{1}{2} (x-b)^T Q (x-b)\n",
    "$$\n",
    "将约束条件带入原目标函数中，利用拉格朗日乘子法，得到拉格朗日函数\n",
    "$$\n",
    "L(x, \\lambda_{1-6})= \\alpha^T x - \\frac{1}{2} (x-b)^T Q (x-b) - \\lambda_1(\\sum_{i=2}^5 x_i - 1) - \\sum_{i=2}^5(\\lambda_i(-0.05-x_i)) - \\lambda_6(x_2-0.5)\n",
    "$$\n",
    "其中，乘子$\\lambda_1$对应的是等式约束，$\\lambda_{2-6}$对应的是不等式约束。\n",
    "\n",
    "拉格朗日函数$L$对变量$x$求导，可得\n",
    "$$\n",
    "\\frac{\\partial L}{\\partial x} = \\alpha - Q^T(x-b) - \\lambda_1 I + [\\lambda_2,\\lambda_3,\\lambda_4,\\lambda_5]^T - [0,\\lambda_6,0,0]^T\n",
    "$$\n",
    "令偏导数等于0，整理两边可得\n",
    "$$\n",
    "\\alpha - Q^T(x^*-b) = \n",
    "\\left[\n",
    "  \\begin{matrix}\n",
    "   \\lambda_1^*-\\lambda_2^*\\\\\n",
    "   \\lambda_1^*-\\lambda_3^*-\\lambda_6^*\\\\\n",
    "   \\lambda_1^*-\\lambda_4^*\\\\\n",
    "   \\lambda_1^*-\\lambda_5^*\\\\\n",
    "  \\end{matrix}\n",
    "\\right]\n",
    "$$\n",
    "\n",
    "\n",
    "不等式约束需要满足根据KKT条件，这里只列出相关的条件\n",
    "$$\n",
    "\\lambda_2^*(-0.05-x_1^*)=0 \\\\\n",
    "\\lambda_3^*(-0.05-x_2^*)=0 \\\\\n",
    "\\lambda_4^*(-0.05-x_3^*)=0 \\\\\n",
    "\\lambda_5^*(-0.05-x_4^*)=0 \\\\\n",
    "\\lambda_6^*(x_2^*-0.5)=0 \\\\\n",
    "$$\n",
    "\n",
    "通过求解的结果可以看到，DELL、IBM、ORCL达到了约束条件的边界，它们分别的权重是\n",
    "\n",
    "$w^*_{\\text{DELL}}=-0.05,w^*_{\\text{IBM}}=0.5,w^*_{\\text{ORCL}}=-0.05$。\n",
    "\n",
    "因此，这些约束对应的乘子$\\lambda \\neq 0$，对应的乘子有$\\lambda_2^*,\\lambda_6^*,\\lambda_5^*$。因此其他不等式约束对应的乘子为$0$。这里有$\\lambda_3^*=0,\\lambda_4^*=0$。\n",
    "\n",
    "联系偏导数得到的关于$\\lambda$的等式，可以求的所有的$\\lambda^*$。"
   ]
  },
  {
   "cell_type": "code",
   "execution_count": 20,
   "metadata": {
    "ExecuteTime": {
     "end_time": "2019-07-30T14:37:55.985191Z",
     "start_time": "2019-07-30T14:37:55.972631Z"
    }
   },
   "outputs": [
    {
     "data": {
      "text/plain": [
       "DELL   -0.005973\n",
       "IBM     0.010549\n",
       "MSFT    0.023341\n",
       "ORCL   -0.007674\n",
       "cash    0.000000\n",
       "dtype: float64"
      ]
     },
     "execution_count": 20,
     "metadata": {},
     "output_type": "execute_result"
    }
   ],
   "source": [
    "# implied alpha\n",
    "def implied_alpha(cov_df, optimal_weight, wb_bench):\n",
    "    return cov_df.dot(optimal_weight - wb_bench)/reference_size\n",
    "im_alpha = implied_alpha(cov_df, constraint_result['holding'], benchmark_weight)\n",
    "im_alpha"
   ]
  },
  {
   "cell_type": "code",
   "execution_count": 23,
   "metadata": {
    "ExecuteTime": {
     "end_time": "2019-07-30T14:39:49.218313Z",
     "start_time": "2019-07-30T14:39:49.205163Z"
    }
   },
   "outputs": [
    {
     "data": {
      "text/plain": [
       "DELL   -0.044027\n",
       "IBM     0.059451\n",
       "MSFT    0.016659\n",
       "ORCL   -0.012326\n",
       "cash    0.000000\n",
       "dtype: float64"
      ]
     },
     "execution_count": 23,
     "metadata": {},
     "output_type": "execute_result"
    }
   ],
   "source": [
    "lm = alpha_series - im_alpha\n",
    "lm"
   ]
  },
  {
   "cell_type": "code",
   "execution_count": 24,
   "metadata": {
    "ExecuteTime": {
     "end_time": "2019-07-30T14:44:47.568290Z",
     "start_time": "2019-07-30T14:44:47.561117Z"
    }
   },
   "outputs": [],
   "source": [
    "# budget alpha\n",
    "lm4 = 0\n",
    "lm3 = 0\n",
    "lm1 = lm.iloc[2] + lm4\n",
    "lm2 = lm1 - lm.iloc[0]\n",
    "lm5 = lm1 - lm.iloc[3]\n",
    "lm6 = lm1 - lm.iloc[1] - lm3"
   ]
  },
  {
   "cell_type": "code",
   "execution_count": 25,
   "metadata": {
    "ExecuteTime": {
     "end_time": "2019-07-30T15:36:51.063130Z",
     "start_time": "2019-07-30T15:36:51.053870Z"
    }
   },
   "outputs": [
    {
     "data": {
      "text/plain": [
       "lm1    0.016659\n",
       "lm２    0.060686\n",
       "lm３    0.000000\n",
       "lm４    0.000000\n",
       "lm５    0.028985\n",
       "lm６   -0.042792\n",
       "dtype: float64"
      ]
     },
     "execution_count": 25,
     "metadata": {},
     "output_type": "execute_result"
    }
   ],
   "source": [
    "pd.Series(index=['lm1','lm２','lm３','lm４','lm５','lm６'], data=[lm1,lm2,lm3,lm4,lm5,lm6])"
   ]
  },
  {
   "cell_type": "markdown",
   "metadata": {},
   "source": [
    "$\\lambda$和对应的约束条件相乘后，就是该约束条件对应的alpha分解的部分。以等式约束$\\sum_i x_i=1$为例，alpha分解到这个部分是可以从偏$L$关于$x$的偏导数中看出，为$-\\lambda_1 I=[-\\lambda_1,-\\lambda_1,-\\lambda_1,-\\lambda_1]=[-0.0167,-0.0167,-0.0167,-0.0167]$。\n",
    "\n",
    "DELL下限被分解到的alpha为$[\\lambda_2,0,0,0]=[0.0607,0,0,0]$\n",
    "\n",
    "IBM下限被分解到的alpha为$[0,\\lambda_3,0,0]=[0,0,0,0]$\n",
    "\n",
    "MSFT下限被分解到的alpha为$[0,0,\\lambda_4,0]=[0,0,0,0]$\n",
    "\n",
    "ORCL下限被分解到的alpha为$[0,0,0,\\lambda_5]=[0,0,0,0.0290]$\n",
    "\n",
    "IBM上限被分解到的alpha为$[0,\\lambda_6,0,0]=[0,-0.0428,0,0]$"
   ]
  },
  {
   "cell_type": "markdown",
   "metadata": {},
   "source": [
    "## holding decomposition"
   ]
  },
  {
   "cell_type": "code",
   "execution_count": 26,
   "metadata": {},
   "outputs": [],
   "source": [
    "# inverse cov_df\n",
    "cov_list = [\n",
    "    [0.02, 0.0001, 0.002, -0.0001],\n",
    "    [0.0001, 0.04, 0.0003, 0.0009],\n",
    "    [0.002, 0.0003, 0.05, 0.0001],\n",
    "    [-0.0001, 0.0009, 0.0001, 0.02]\n",
    "]\n",
    "cov_df = pd.DataFrame(index=equity_list, columns=equity_list, data=cov_list)\n",
    "inv_cov_arr = np.linalg.inv(cov_df)\n",
    "inv_cov_df = pd.DataFrame(index=equity_list, columns=equity_list, data=inv_cov_arr)\n",
    "# inv_cov_df = inv_cov_df.reindex(equity_list + ['cash']).fillna(0.)\n",
    "# inv_cov_df['cash'] = 0."
   ]
  },
  {
   "cell_type": "code",
   "execution_count": 28,
   "metadata": {},
   "outputs": [
    {
     "data": {
      "text/html": [
       "<div>\n",
       "<style scoped>\n",
       "    .dataframe tbody tr th:only-of-type {\n",
       "        vertical-align: middle;\n",
       "    }\n",
       "\n",
       "    .dataframe tbody tr th {\n",
       "        vertical-align: top;\n",
       "    }\n",
       "\n",
       "    .dataframe thead th {\n",
       "        text-align: right;\n",
       "    }\n",
       "</style>\n",
       "<table border=\"1\" class=\"dataframe\">\n",
       "  <thead>\n",
       "    <tr style=\"text-align: right;\">\n",
       "      <th></th>\n",
       "      <th>DELL</th>\n",
       "      <th>IBM</th>\n",
       "      <th>MSFT</th>\n",
       "      <th>ORCL</th>\n",
       "    </tr>\n",
       "  </thead>\n",
       "  <tbody>\n",
       "    <tr>\n",
       "      <th>DELL</th>\n",
       "      <td>-3.046602</td>\n",
       "      <td>0.007066</td>\n",
       "      <td>0.121854</td>\n",
       "      <td>-0.016160</td>\n",
       "    </tr>\n",
       "    <tr>\n",
       "      <th>IBM</th>\n",
       "      <td>0.000000</td>\n",
       "      <td>-0.000000</td>\n",
       "      <td>0.000000</td>\n",
       "      <td>0.000000</td>\n",
       "    </tr>\n",
       "    <tr>\n",
       "      <th>MSFT</th>\n",
       "      <td>0.000000</td>\n",
       "      <td>0.000000</td>\n",
       "      <td>-0.000000</td>\n",
       "      <td>0.000000</td>\n",
       "    </tr>\n",
       "    <tr>\n",
       "      <th>ORCL</th>\n",
       "      <td>-0.007719</td>\n",
       "      <td>0.032639</td>\n",
       "      <td>0.003014</td>\n",
       "      <td>-1.450772</td>\n",
       "    </tr>\n",
       "  </tbody>\n",
       "</table>\n",
       "</div>"
      ],
      "text/plain": [
       "          DELL       IBM      MSFT      ORCL\n",
       "DELL -3.046602  0.007066  0.121854 -0.016160\n",
       "IBM   0.000000 -0.000000  0.000000  0.000000\n",
       "MSFT  0.000000  0.000000 -0.000000  0.000000\n",
       "ORCL -0.007719  0.032639  0.003014 -1.450772"
      ]
     },
     "execution_count": 28,
     "metadata": {},
     "output_type": "execute_result"
    }
   ],
   "source": [
    "def portfolio_decomp(inv_cov_df, alpha_series):\n",
    "    active_free_holding = inv_cov_df.dot(alpha_series[equity_list])\n",
    "    active_budget_holding = -inv_cov_df.sum(axis=1)*lm1\n",
    "    lower_bound_holding = -inv_cov_df * pd.Series(index=equity_list, data=[lm2,lm3,lm4,lm5])\n",
    "    return active_free_holding, active_budget_holding, lower_bound_holding\n",
    "active_free_holding, active_budget_holding, lower_bound_holding = portfolio_decomp(inv_cov_df, alpha_series)\n",
    "lower_bound_holding.T"
   ]
  },
  {
   "cell_type": "code",
   "execution_count": 223,
   "metadata": {},
   "outputs": [
    {
     "data": {
      "text/html": [
       "<div>\n",
       "<style scoped>\n",
       "    .dataframe tbody tr th:only-of-type {\n",
       "        vertical-align: middle;\n",
       "    }\n",
       "\n",
       "    .dataframe tbody tr th {\n",
       "        vertical-align: top;\n",
       "    }\n",
       "\n",
       "    .dataframe thead th {\n",
       "        text-align: right;\n",
       "    }\n",
       "</style>\n",
       "<table border=\"1\" class=\"dataframe\">\n",
       "  <thead>\n",
       "    <tr style=\"text-align: right;\">\n",
       "      <th></th>\n",
       "      <th>0</th>\n",
       "      <th>1</th>\n",
       "      <th>2</th>\n",
       "      <th>3</th>\n",
       "    </tr>\n",
       "  </thead>\n",
       "  <tbody>\n",
       "    <tr>\n",
       "      <th>DELL</th>\n",
       "      <td>3.046602</td>\n",
       "      <td>0.0</td>\n",
       "      <td>0.0</td>\n",
       "      <td>0.007719</td>\n",
       "    </tr>\n",
       "    <tr>\n",
       "      <th>IBM</th>\n",
       "      <td>-0.007066</td>\n",
       "      <td>0.0</td>\n",
       "      <td>0.0</td>\n",
       "      <td>-0.032639</td>\n",
       "    </tr>\n",
       "    <tr>\n",
       "      <th>MSFT</th>\n",
       "      <td>-0.121854</td>\n",
       "      <td>0.0</td>\n",
       "      <td>0.0</td>\n",
       "      <td>-0.003014</td>\n",
       "    </tr>\n",
       "    <tr>\n",
       "      <th>ORCL</th>\n",
       "      <td>0.016160</td>\n",
       "      <td>0.0</td>\n",
       "      <td>0.0</td>\n",
       "      <td>1.450772</td>\n",
       "    </tr>\n",
       "  </tbody>\n",
       "</table>\n",
       "</div>"
      ],
      "text/plain": [
       "             0    1    2         3\n",
       "DELL  3.046602  0.0  0.0  0.007719\n",
       "IBM  -0.007066  0.0  0.0 -0.032639\n",
       "MSFT -0.121854  0.0  0.0 -0.003014\n",
       "ORCL  0.016160  0.0  0.0  1.450772"
      ]
     },
     "execution_count": 223,
     "metadata": {},
     "output_type": "execute_result"
    }
   ],
   "source": [
    "inv_cov_df.dot(np.diag(pd.Series(index=equity_list, data=[lm2,lm3,lm4,lm5])))"
   ]
  },
  {
   "cell_type": "code",
   "execution_count": 224,
   "metadata": {},
   "outputs": [
    {
     "data": {
      "text/plain": [
       "DELL    3.046602\n",
       "IBM    -0.007066\n",
       "MSFT   -0.121854\n",
       "ORCL    0.016160\n",
       "dtype: float64"
      ]
     },
     "execution_count": 224,
     "metadata": {},
     "output_type": "execute_result"
    }
   ],
   "source": [
    "inv_cov_df.dot(pd.Series(index=equity_list, data=[lm2,0,0,0]))"
   ]
  },
  {
   "cell_type": "code",
   "execution_count": 225,
   "metadata": {},
   "outputs": [
    {
     "data": {
      "text/plain": [
       "DELL    0.004983\n",
       "IBM    -1.070943\n",
       "MSFT    0.006130\n",
       "ORCL    0.048187\n",
       "dtype: float64"
      ]
     },
     "execution_count": 225,
     "metadata": {},
     "output_type": "execute_result"
    }
   ],
   "source": [
    "inv_cov_df.dot(pd.Series(index=equity_list, data=[0,lm6,0,0]))"
   ]
  },
  {
   "cell_type": "markdown",
   "metadata": {},
   "source": [
    "## 实际的例子"
   ]
  },
  {
   "cell_type": "code",
   "execution_count": 29,
   "metadata": {},
   "outputs": [
    {
     "name": "stdout",
     "output_type": "stream",
     "text": [
      "TCL集团   -0.009793\n",
      "潍柴动力     0.007198\n",
      "云南白药     0.019708\n",
      "泸州老窖     0.017054\n",
      "天茂集团    -0.007421\n",
      "格力电器     0.012155\n",
      "恒逸石化    -0.002691\n",
      "京东方A    -0.017659\n",
      "中航飞机    -0.008677\n",
      "长江证券    -0.006070\n",
      "cash     0.000000\n",
      "dtype: float64\n",
      "\n",
      "\n",
      "        TCL集团    潍柴动力    云南白药    泸州老窖    天茂集团    格力电器    恒逸石化    京东方A    中航飞机  \\\n",
      "TCL集团  0.0892  0.0324  0.0217  0.0299  0.0316  0.0295  0.0281  0.0413  0.0267   \n",
      "潍柴动力   0.0324  0.0861  0.0230  0.0335  0.0296  0.0313  0.0275  0.0347  0.0222   \n",
      "云南白药   0.0217  0.0230  0.0442  0.0263  0.0184  0.0232  0.0192  0.0239  0.0154   \n",
      "泸州老窖   0.0299  0.0335  0.0263  0.0934  0.0247  0.0340  0.0259  0.0327  0.0187   \n",
      "天茂集团   0.0316  0.0296  0.0184  0.0247  0.0924  0.0257  0.0268  0.0326  0.0241   \n",
      "格力电器   0.0295  0.0313  0.0232  0.0340  0.0257  0.0770  0.0242  0.0326  0.0196   \n",
      "恒逸石化   0.0281  0.0275  0.0192  0.0259  0.0268  0.0242  0.0748  0.0293  0.0206   \n",
      "京东方A   0.0413  0.0347  0.0239  0.0327  0.0326  0.0326  0.0293  0.0927  0.0279   \n",
      "中航飞机   0.0267  0.0222  0.0154  0.0187  0.0241  0.0196  0.0206  0.0279  0.0427   \n",
      "长江证券   0.0379  0.0354  0.0226  0.0320  0.0498  0.0313  0.0306  0.0400  0.0278   \n",
      "cash   0.0000  0.0000  0.0000  0.0000  0.0000  0.0000  0.0000  0.0000  0.0000   \n",
      "\n",
      "         长江证券  cash  \n",
      "TCL集团  0.0379   0.0  \n",
      "潍柴动力   0.0354   0.0  \n",
      "云南白药   0.0226   0.0  \n",
      "泸州老窖   0.0320   0.0  \n",
      "天茂集团   0.0498   0.0  \n",
      "格力电器   0.0313   0.0  \n",
      "恒逸石化   0.0306   0.0  \n",
      "京东方A   0.0400   0.0  \n",
      "中航飞机   0.0278   0.0  \n",
      "长江证券   0.0881   0.0  \n",
      "cash   0.0000   0.0  \n",
      "TCL集团    0.0\n",
      "潍柴动力     0.0\n",
      "云南白药     0.0\n",
      "泸州老窖     0.0\n",
      "天茂集团     0.0\n",
      "格力电器     0.0\n",
      "恒逸石化     0.0\n",
      "京东方A     0.0\n",
      "中航飞机     0.0\n",
      "长江证券     0.0\n",
      "cash     1.0\n",
      "dtype: float64\n"
     ]
    },
    {
     "name": "stderr",
     "output_type": "stream",
     "text": [
      "/home/casey/anaconda3/lib/python3.7/site-packages/IPython/core/interactiveshell.py:3325: FutureWarning: \n",
      "Panel is deprecated and will be removed in a future version.\n",
      "The recommended way to represent these types of 3-dimensional data are with a MultiIndex on a DataFrame, via the Panel.to_frame() method\n",
      "Alternatively, you can use the xarray package http://xarray.pydata.org/en/stable/.\n",
      "Pandas provides a `.to_xarray()` method to help automate this conversion.\n",
      "\n",
      "  exec(code_obj, self.user_global_ns, self.user_ns)\n"
     ]
    }
   ],
   "source": [
    "equity_list = ['TCL集团','潍柴动力','云南白药','泸州老窖','天茂集团','格力电器','恒逸石化','京东方A','中航飞机','长江证券']\n",
    "cov_arr = np.array([[0.0892,0.0324,0.0217,0.0299,0.0316,0.0295,0.0281,0.0413,0.0267,0.0379],\n",
    "[0.0324,0.0861,0.0230,0.0335,0.0296,0.0313,0.0275,0.0347,0.0222,0.0354],\n",
    "[0.0217,0.0230,0.0442,0.0263,0.0184,0.0232,0.0192,0.0239,0.0154,0.0226],\n",
    "[0.0299,0.0335,0.0263,0.0934,0.0247,0.0340,0.0259,0.0327,0.0187,0.0320],\n",
    "[0.0316,0.0296,0.0184,0.0247,0.0924,0.0257,0.0268,0.0326,0.0241,0.0498],\n",
    "[0.0295,0.0313,0.0232,0.0340,0.0257,0.0770,0.0242,0.0326,0.0196,0.0313],\n",
    "[0.0281,0.0275,0.0192,0.0259,0.0268,0.0242,0.0748,0.0293,0.0206,0.0306],\n",
    "[0.0413,0.0347,0.0239,0.0327,0.0326,0.0326,0.0293,0.0927,0.0279,0.0400],\n",
    "[0.0267,0.0222,0.0154,0.0187,0.0241,0.0196,0.0206,0.0279,0.0427,0.0278],\n",
    "[0.0379,0.0354,0.0226,0.0320,0.0498,0.0313,0.0306,0.0400,0.0278,0.0881]])\n",
    "cov_df = pd.DataFrame(index=equity_list, columns=equity_list, data=cov_arr)\n",
    "\n",
    "alpha_list = [-0.9793 ,0.7198 ,1.9708 ,1.7054 ,-0.7421 ,1.2155 ,-0.2691 ,-1.7659 ,-0.8677 ,-0.6070]\n",
    "alpha_series = pd.Series(index=equity_list, data=alpha_list)/100.\n",
    "\n",
    "# benchmark\n",
    "benchmark_weight_list = [0.0584 ,0.0933 ,0.0615 ,0.0933 ,0.0206 ,0.4136 ,0.0213 ,0.1542 ,0.0353 ,0.0487]\n",
    "benchmark_weight = pd.Series(index=equity_list, data=benchmark_weight_list)\n",
    "benchmark_weight['cash'] = 0.\n",
    "\n",
    "alpha_series['cash'] = 0.\n",
    "cov_df = cov_df.reindex(equity_list + ['cash']).fillna(0.)\n",
    "cov_df['cash'] = 0.\n",
    "print(alpha_series)\n",
    "print('\\n')\n",
    "print(cov_df)\n",
    "trading_day = '20100101'\n",
    "cov_panel = pd.Panel(\n",
    "    data={trading_day: cov_df})\n",
    "annual_rt_df = pd.DataFrame(\n",
    "    index=[trading_day],\n",
    "    data=[alpha_series])\n",
    "\n",
    "pre_holding = pd.Series(index=equity_list, data=0.)\n",
    "pre_holding['cash'] = 1.\n",
    "print(pre_holding)\n",
    "current_price = pd.Series(index=equity_list, data=1.)\n",
    "current_price['cash'] = 1."
   ]
  },
  {
   "cell_type": "code",
   "execution_count": 30,
   "metadata": {},
   "outputs": [],
   "source": [
    "ub = pd.Series(index=equity_list, data=np.inf)\n",
    "lb = pd.Series(index=equity_list, data=-np.inf)\n",
    "total_weight = None\n",
    "group_b = []\n",
    "free_param = {\n",
    "    'asset_list': equity_list,\n",
    "     'asset_cov': cov_panel,\n",
    "     'asset_rt': annual_rt_df,\n",
    "     'risk_aversion': risk_avn,\n",
    "     'total_weight': total_weight,\n",
    "     'target_turnover': None,\n",
    "     'fee': None,\n",
    "     'lb': lb,\n",
    "     'ub': ub,\n",
    "     'group_b': group_b,\n",
    "     'trading_day': trading_day,\n",
    "     'pre_holding': pre_holding,\n",
    "     'current_price': current_price,\n",
    "     'solver': cvx.ECOS,\n",
    "     'weight_precision': 0.00001,\n",
    "     'benchmark_weight_series': benchmark_weight,\n",
    "     'is_long_only': False,\n",
    "     'is_long_cash': False\n",
    "}"
   ]
  },
  {
   "cell_type": "code",
   "execution_count": 31,
   "metadata": {},
   "outputs": [],
   "source": [
    "model = MaxUtilityFunctionSolver(free_param)\n",
    "free_result = model.solve()"
   ]
  },
  {
   "cell_type": "code",
   "execution_count": 32,
   "metadata": {},
   "outputs": [
    {
     "name": "stdout",
     "output_type": "stream",
     "text": [
      "TCL集团   -0.063867\n",
      "潍柴动力     0.185847\n",
      "云南白药     0.662650\n",
      "泸州老窖     0.259453\n",
      "天茂集团    -0.038668\n",
      "格力电器     0.578599\n",
      "恒逸石化    -0.036902\n",
      "京东方A    -0.151128\n",
      "中航飞机    -0.205965\n",
      "长江证券    -0.009492\n",
      "cash    -0.180526\n",
      "dtype: float64\n"
     ]
    }
   ],
   "source": [
    "print(free_result['holding'])"
   ]
  },
  {
   "cell_type": "code",
   "execution_count": 33,
   "metadata": {},
   "outputs": [
    {
     "data": {
      "text/plain": [
       "0.031380072218976054"
      ]
     },
     "execution_count": 33,
     "metadata": {},
     "output_type": "execute_result"
    }
   ],
   "source": [
    "# expected return\n",
    "free_result['holding'].dot(alpha_series)"
   ]
  },
  {
   "cell_type": "code",
   "execution_count": 34,
   "metadata": {},
   "outputs": [],
   "source": [
    "ub = pd.Series(index=equity_list, data=np.inf)\n",
    "lb = pd.Series(index=equity_list, data=0.)\n",
    "# lb['长江证券'] = -np.inf\n",
    "ub['云南白药'] = 0.2\n",
    "total_weight = 1.\n",
    "group_b = []\n",
    "constraint_param = {\n",
    "    'asset_list': equity_list,\n",
    "     'asset_cov': cov_panel,\n",
    "     'asset_rt': annual_rt_df,\n",
    "     'risk_aversion': risk_avn,\n",
    "     'total_weight': total_weight,\n",
    "     'target_turnover': None,\n",
    "     'fee': None,\n",
    "     'lb': lb,\n",
    "     'ub': ub,\n",
    "     'group_b': group_b,\n",
    "     'trading_day': trading_day,\n",
    "     'pre_holding': pre_holding,\n",
    "     'current_price': current_price,\n",
    "     'solver': cvx.ECOS,\n",
    "     'weight_precision': 0.00001,\n",
    "     'benchmark_weight_series': benchmark_weight,\n",
    "     'is_long_only': False,\n",
    "     'is_long_cash': False\n",
    "}"
   ]
  },
  {
   "cell_type": "code",
   "execution_count": 35,
   "metadata": {},
   "outputs": [],
   "source": [
    "model = MaxUtilityFunctionSolver(constraint_param)\n",
    "constraint_result = model.solve()"
   ]
  },
  {
   "cell_type": "code",
   "execution_count": 36,
   "metadata": {},
   "outputs": [
    {
     "name": "stdout",
     "output_type": "stream",
     "text": [
      "TCL集团    1.525256e-11\n",
      "潍柴动力     8.518756e-02\n",
      "云南白药     2.000000e-01\n",
      "泸州老窖     2.249840e-01\n",
      "天茂集团     1.626033e-11\n",
      "格力电器     4.898284e-01\n",
      "恒逸石化     2.097170e-11\n",
      "京东方A     1.173659e-11\n",
      "中航飞机     1.349161e-11\n",
      "长江证券     1.985121e-11\n",
      "cash    -4.019007e-14\n",
      "dtype: float64\n"
     ]
    }
   ],
   "source": [
    "print(constraint_result['holding'])"
   ]
  },
  {
   "cell_type": "code",
   "execution_count": 37,
   "metadata": {},
   "outputs": [
    {
     "data": {
      "text/plain": [
       "0.01434552185931314"
      ]
     },
     "execution_count": 37,
     "metadata": {},
     "output_type": "execute_result"
    }
   ],
   "source": [
    "# expected return\n",
    "constraint_result['holding'].dot(alpha_series)"
   ]
  },
  {
   "cell_type": "code",
   "execution_count": 38,
   "metadata": {},
   "outputs": [
    {
     "name": "stdout",
     "output_type": "stream",
     "text": [
      "[-3.81226443e-07  8.51876806e-02  2.00002818e-01  2.24983834e-01\n",
      "  1.35610258e-07  4.89828500e-01 -2.51099889e-07 -1.65405389e-06\n",
      "  1.28133644e-07 -4.81197910e-07 -1.80525643e-01]\n"
     ]
    }
   ],
   "source": [
    "holding_decomp_arr = None\n",
    "for key, value in constraint_result['constraint_attr_result']['holding_decomp_dict'].items():\n",
    "    if holding_decomp_arr is None:\n",
    "        holding_decomp_arr = value\n",
    "    else:\n",
    "        holding_decomp_arr = np.concatenate([holding_decomp_arr, value])\n",
    "print(holding_decomp_arr.sum(axis=0) + free_result['holding'].values)\n",
    "# print(holding_decomp_arr)"
   ]
  },
  {
   "cell_type": "code",
   "execution_count": 39,
   "metadata": {},
   "outputs": [
    {
     "name": "stdout",
     "output_type": "stream",
     "text": [
      "[-6.68683398e-03 -1.66169127e-03  3.78205161e-03  8.19430873e-03\n",
      " -5.10272504e-03  3.29530873e-03 -2.83040420e-03 -1.11151391e-02\n",
      " -3.74852207e-03 -5.88813262e-03  2.95289316e-20]\n"
     ]
    }
   ],
   "source": [
    "alpha_decomp_arr = None\n",
    "for key, value in constraint_result['constraint_attr_result']['alpha_decomp_dict'].items():\n",
    "    if alpha_decomp_arr is None:\n",
    "        alpha_decomp_arr = value\n",
    "    else:\n",
    "        alpha_decomp_arr = np.concatenate([alpha_decomp_arr, value])\n",
    "print(alpha_decomp_arr.sum(axis=0) + alpha_series.values)\n"
   ]
  },
  {
   "cell_type": "code",
   "execution_count": 40,
   "metadata": {},
   "outputs": [
    {
     "data": {
      "text/plain": [
       "TCL集团   -0.006687\n",
       "潍柴动力    -0.001662\n",
       "云南白药     0.003782\n",
       "泸州老窖     0.008194\n",
       "天茂集团    -0.005103\n",
       "格力电器     0.003295\n",
       "恒逸石化    -0.002830\n",
       "京东方A    -0.011115\n",
       "中航飞机    -0.003748\n",
       "长江证券    -0.005888\n",
       "cash     0.000000\n",
       "dtype: float64"
      ]
     },
     "execution_count": 40,
     "metadata": {},
     "output_type": "execute_result"
    }
   ],
   "source": [
    "implied_alpha(cov_df, constraint_result['holding'], benchmark_weight)"
   ]
  },
  {
   "cell_type": "code",
   "execution_count": 41,
   "metadata": {},
   "outputs": [],
   "source": [
    "# expected return\n",
    "expected_return_decomp_arr = None\n",
    "for key, value in constraint_result['constraint_attr_result']['expected_return_decomp_dict'].items():\n",
    "    if expected_return_decomp_arr is None:\n",
    "        expected_return_decomp_arr = value\n",
    "    else:\n",
    "        expected_return_decomp_arr = np.concatenate([expected_return_decomp_arr, value])\n",
    "# print(alpha_decomp_arr.sum(axis=0) + alpha_series.values)"
   ]
  },
  {
   "cell_type": "code",
   "execution_count": 184,
   "metadata": {},
   "outputs": [],
   "source": [
    "# constraint_result['constraint_attr_result']['expected_return_decomp_dict'].keys()"
   ]
  },
  {
   "cell_type": "code",
   "execution_count": 185,
   "metadata": {},
   "outputs": [],
   "source": [
    "# constraint_result['constraint_attr_result']['expected_return_decomp_dict']['w_plus[2] <= [0.2]']"
   ]
  },
  {
   "cell_type": "code",
   "execution_count": 186,
   "metadata": {},
   "outputs": [],
   "source": [
    "# expected_return_decomp_arr"
   ]
  },
  {
   "cell_type": "code",
   "execution_count": 47,
   "metadata": {},
   "outputs": [
    {
     "data": {
      "text/plain": [
       "dict_keys(['[0. 0. 0. 0. 0. 0. 0. 0. 0. 0.] <= w_plus[0, 1, 2, 3, 4, 5, 6, 7, 8, 9]', 'w_plus[2] <= [0.2]', 'Sum(w_plus[0, 1, 2, 3, 4, 5, 6, 7, 8, 9], None, False) == 1.0', 'Sum(w_plus + -[0. 0. 0. 0. 0. 0. 0. 0. 0. 0. 1.], None, False) == 0.0'])"
      ]
     },
     "execution_count": 47,
     "metadata": {},
     "output_type": "execute_result"
    }
   ],
   "source": [
    "constraint_result['constraint_attr_result']['holding_decomp_dict'].keys()"
   ]
  },
  {
   "cell_type": "code",
   "execution_count": 53,
   "metadata": {},
   "outputs": [
    {
     "data": {
      "text/html": [
       "<div>\n",
       "<style scoped>\n",
       "    .dataframe tbody tr th:only-of-type {\n",
       "        vertical-align: middle;\n",
       "    }\n",
       "\n",
       "    .dataframe tbody tr th {\n",
       "        vertical-align: top;\n",
       "    }\n",
       "\n",
       "    .dataframe thead th {\n",
       "        text-align: right;\n",
       "    }\n",
       "</style>\n",
       "<table border=\"1\" class=\"dataframe\">\n",
       "  <thead>\n",
       "    <tr style=\"text-align: right;\">\n",
       "      <th></th>\n",
       "      <th>0</th>\n",
       "      <th>1</th>\n",
       "      <th>2</th>\n",
       "      <th>3</th>\n",
       "      <th>4</th>\n",
       "      <th>5</th>\n",
       "      <th>6</th>\n",
       "      <th>7</th>\n",
       "      <th>8</th>\n",
       "      <th>9</th>\n",
       "      <th>10</th>\n",
       "    </tr>\n",
       "  </thead>\n",
       "  <tbody>\n",
       "    <tr>\n",
       "      <th>0</th>\n",
       "      <td>-0.006668</td>\n",
       "      <td>-0.012786</td>\n",
       "      <td>-0.110952</td>\n",
       "      <td>-0.013285</td>\n",
       "      <td>-0.022768</td>\n",
       "      <td>-0.025249</td>\n",
       "      <td>-0.03507</td>\n",
       "      <td>0.004987</td>\n",
       "      <td>-0.11934</td>\n",
       "      <td>0.010145</td>\n",
       "      <td>0.0</td>\n",
       "    </tr>\n",
       "  </tbody>\n",
       "</table>\n",
       "</div>"
      ],
      "text/plain": [
       "         0         1         2         3         4         5        6   \\\n",
       "0 -0.006668 -0.012786 -0.110952 -0.013285 -0.022768 -0.025249 -0.03507   \n",
       "\n",
       "         7        8         9    10  \n",
       "0  0.004987 -0.11934  0.010145  0.0  "
      ]
     },
     "execution_count": 53,
     "metadata": {},
     "output_type": "execute_result"
    }
   ],
   "source": [
    "pd.DataFrame(constraint_result['constraint_attr_result']['holding_decomp_dict']['Sum(w_plus[0, 1, 2, 3, 4, 5, 6, 7, 8, 9], None, False) == 1.0'])"
   ]
  },
  {
   "cell_type": "code",
   "execution_count": 329,
   "metadata": {},
   "outputs": [
    {
     "data": {
      "text/plain": [
       "dict_keys(['[0. 0. 0. 0. 0. 0. 0. 0. 0. 0.] <= w_plus[0, 1, 2, 3, 4, 5, 6, 7, 8, 9]', 'w_plus[2] <= [0.2]', 'Sum(w_plus[0, 1, 2, 3, 4, 5, 6, 7, 8, 9], None, False) == 1.0', 'Sum(w_plus + -[0. 0. 0. 0. 0. 0. 0. 0. 0. 0. 1.], None, False) == 0.0'])"
      ]
     },
     "execution_count": 329,
     "metadata": {},
     "output_type": "execute_result"
    }
   ],
   "source": [
    "constraint_result['constraint_attr_result']['alpha_decomp_dict'].keys()"
   ]
  },
  {
   "cell_type": "code",
   "execution_count": 332,
   "metadata": {},
   "outputs": [
    {
     "data": {
      "text/html": [
       "<div>\n",
       "<style scoped>\n",
       "    .dataframe tbody tr th:only-of-type {\n",
       "        vertical-align: middle;\n",
       "    }\n",
       "\n",
       "    .dataframe tbody tr th {\n",
       "        vertical-align: top;\n",
       "    }\n",
       "\n",
       "    .dataframe thead th {\n",
       "        text-align: right;\n",
       "    }\n",
       "</style>\n",
       "<table border=\"1\" class=\"dataframe\">\n",
       "  <thead>\n",
       "    <tr style=\"text-align: right;\">\n",
       "      <th></th>\n",
       "      <th>0</th>\n",
       "      <th>1</th>\n",
       "      <th>2</th>\n",
       "      <th>3</th>\n",
       "      <th>4</th>\n",
       "      <th>5</th>\n",
       "      <th>6</th>\n",
       "      <th>7</th>\n",
       "      <th>8</th>\n",
       "      <th>9</th>\n",
       "      <th>10</th>\n",
       "    </tr>\n",
       "  </thead>\n",
       "  <tbody>\n",
       "    <tr>\n",
       "      <th>0</th>\n",
       "      <td>-0.0</td>\n",
       "      <td>-0.0</td>\n",
       "      <td>-0.007066</td>\n",
       "      <td>-0.0</td>\n",
       "      <td>-0.0</td>\n",
       "      <td>-0.0</td>\n",
       "      <td>-0.0</td>\n",
       "      <td>-0.0</td>\n",
       "      <td>-0.0</td>\n",
       "      <td>-0.0</td>\n",
       "      <td>-0.0</td>\n",
       "    </tr>\n",
       "  </tbody>\n",
       "</table>\n",
       "</div>"
      ],
      "text/plain": [
       "    0    1         2    3    4    5    6    7    8    9    10\n",
       "0 -0.0 -0.0 -0.007066 -0.0 -0.0 -0.0 -0.0 -0.0 -0.0 -0.0 -0.0"
      ]
     },
     "execution_count": 332,
     "metadata": {},
     "output_type": "execute_result"
    }
   ],
   "source": [
    "pd.DataFrame(constraint_result['constraint_attr_result']['alpha_decomp_dict']['w_plus[2] <= [0.2]'])"
   ]
  },
  {
   "cell_type": "code",
   "execution_count": 37,
   "metadata": {},
   "outputs": [],
   "source": [
    "inv_cov_arr = np.linalg.inv(cov_df.loc[equity_list, equity_list])\n",
    "inv_cov_df = pd.DataFrame(index=equity_list, columns=equity_list, data=inv_cov_arr)"
   ]
  },
  {
   "cell_type": "code",
   "execution_count": 38,
   "metadata": {},
   "outputs": [
    {
     "data": {
      "text/plain": [
       "TCL集团   -0.063867\n",
       "潍柴动力     0.185847\n",
       "云南白药     0.662650\n",
       "泸州老窖     0.259453\n",
       "天茂集团    -0.038668\n",
       "格力电器     0.578598\n",
       "恒逸石化    -0.036902\n",
       "京东方A    -0.151128\n",
       "中航飞机    -0.205965\n",
       "长江证券    -0.009492\n",
       "dtype: float64"
      ]
     },
     "execution_count": 38,
     "metadata": {},
     "output_type": "execute_result"
    }
   ],
   "source": [
    "inv_cov_df.dot(alpha_series[equity_list]) + benchmark_weight[equity_list]"
   ]
  },
  {
   "cell_type": "code",
   "execution_count": null,
   "metadata": {},
   "outputs": [],
   "source": []
  }
 ],
 "metadata": {
  "kernelspec": {
   "display_name": "Python 3",
   "language": "python",
   "name": "python3"
  },
  "language_info": {
   "codemirror_mode": {
    "name": "ipython",
    "version": 3
   },
   "file_extension": ".py",
   "mimetype": "text/x-python",
   "name": "python",
   "nbconvert_exporter": "python",
   "pygments_lexer": "ipython3",
   "version": "3.7.3"
  }
 },
 "nbformat": 4,
 "nbformat_minor": 2
}
