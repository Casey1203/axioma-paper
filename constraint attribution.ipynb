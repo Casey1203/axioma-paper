{
 "cells": [
  {
   "cell_type": "code",
   "execution_count": 1,
   "metadata": {
    "ExecuteTime": {
     "end_time": "2019-07-30T14:36:48.665942Z",
     "start_time": "2019-07-30T14:36:47.562869Z"
    }
   },
   "outputs": [],
   "source": [
    "import pandas as pd\n",
    "import numpy as np\n",
    "import cvxpy as cvx"
   ]
  },
  {
   "cell_type": "code",
   "execution_count": 2,
   "metadata": {
    "ExecuteTime": {
     "end_time": "2019-07-30T14:36:49.133852Z",
     "start_time": "2019-07-30T14:36:49.114434Z"
    }
   },
   "outputs": [],
   "source": [
    "equity_list = ['DELL', 'IBM', 'MSFT', 'ORCL']\n",
    "alpha_list = [-0.05, 0.07, 0.04, -0.02]\n",
    "alpha_series = pd.Series(index=equity_list, data=alpha_list)\n",
    "cov_list = [\n",
    "    [0.02, 0.0001, 0.002, -0.0001],\n",
    "    [0.0001, 0.04, 0.0003, 0.0009],\n",
    "    [0.002, 0.0003, 0.05, 0.0001],\n",
    "    [-0.0001, 0.0009, 0.0001, 0.02]\n",
    "]\n",
    "cov_df = pd.DataFrame(index=equity_list, columns=equity_list, data=cov_list)"
   ]
  },
  {
   "cell_type": "code",
   "execution_count": 3,
   "metadata": {
    "ExecuteTime": {
     "end_time": "2019-07-30T14:36:50.211942Z",
     "start_time": "2019-07-30T14:36:50.178040Z"
    }
   },
   "outputs": [
    {
     "name": "stdout",
     "output_type": "stream",
     "text": [
      "DELL   -0.05\n",
      "IBM     0.07\n",
      "MSFT    0.04\n",
      "ORCL   -0.02\n",
      "dtype: float64\n",
      "\n",
      "\n",
      "        DELL     IBM    MSFT    ORCL\n",
      "DELL  0.0200  0.0001  0.0020 -0.0001\n",
      "IBM   0.0001  0.0400  0.0003  0.0009\n",
      "MSFT  0.0020  0.0003  0.0500  0.0001\n",
      "ORCL -0.0001  0.0009  0.0001  0.0200\n"
     ]
    }
   ],
   "source": [
    "print(alpha_series)\n",
    "print('\\n')\n",
    "print(cov_df)"
   ]
  },
  {
   "cell_type": "code",
   "execution_count": 4,
   "metadata": {
    "ExecuteTime": {
     "end_time": "2019-07-30T14:36:50.417017Z",
     "start_time": "2019-07-30T14:36:50.410359Z"
    }
   },
   "outputs": [],
   "source": [
    "reference_size = 1.\n",
    "risk_avn = 1. / reference_size"
   ]
  },
  {
   "cell_type": "markdown",
   "metadata": {},
   "source": [
    "# 约束条件"
   ]
  },
  {
   "cell_type": "code",
   "execution_count": 5,
   "metadata": {
    "ExecuteTime": {
     "end_time": "2019-07-30T14:36:52.096940Z",
     "start_time": "2019-07-30T14:36:52.089747Z"
    }
   },
   "outputs": [],
   "source": [
    "ub = pd.Series()\n",
    "lb = pd.Series()\n",
    "group_b = {}"
   ]
  },
  {
   "cell_type": "code",
   "execution_count": 6,
   "metadata": {
    "ExecuteTime": {
     "end_time": "2019-07-30T14:36:52.374180Z",
     "start_time": "2019-07-30T14:36:52.350121Z"
    }
   },
   "outputs": [],
   "source": [
    "pre_holding = pd.Series(index=equity_list, data=0.)\n",
    "pre_holding['cash'] = reference_size\n",
    "current_price = pd.Series(index=equity_list+['cash'], data=1.)"
   ]
  },
  {
   "cell_type": "markdown",
   "metadata": {},
   "source": [
    "# 输入"
   ]
  },
  {
   "cell_type": "code",
   "execution_count": 7,
   "metadata": {
    "ExecuteTime": {
     "end_time": "2019-07-30T14:36:55.367697Z",
     "start_time": "2019-07-30T14:36:55.324146Z"
    }
   },
   "outputs": [
    {
     "name": "stdout",
     "output_type": "stream",
     "text": [
      "DELL   -0.05\n",
      "IBM     0.07\n",
      "MSFT    0.04\n",
      "ORCL   -0.02\n",
      "cash    0.00\n",
      "dtype: float64\n",
      "\n",
      "\n",
      "        DELL     IBM    MSFT    ORCL  cash\n",
      "DELL  0.0200  0.0001  0.0020 -0.0001   0.0\n",
      "IBM   0.0001  0.0400  0.0003  0.0009   0.0\n",
      "MSFT  0.0020  0.0003  0.0500  0.0001   0.0\n",
      "ORCL -0.0001  0.0009  0.0001  0.0200   0.0\n",
      "cash  0.0000  0.0000  0.0000  0.0000   0.0\n"
     ]
    },
    {
     "name": "stderr",
     "output_type": "stream",
     "text": [
      "/Users/Casey/anaconda2/envs/gluon/lib/python3.6/site-packages/IPython/core/interactiveshell.py:3325: FutureWarning: \n",
      "Panel is deprecated and will be removed in a future version.\n",
      "The recommended way to represent these types of 3-dimensional data are with a MultiIndex on a DataFrame, via the Panel.to_frame() method\n",
      "Alternatively, you can use the xarray package http://xarray.pydata.org/en/stable/.\n",
      "Pandas provides a `.to_xarray()` method to help automate this conversion.\n",
      "\n",
      "  exec(code_obj, self.user_global_ns, self.user_ns)\n"
     ]
    }
   ],
   "source": [
    "# alpha和cov扩展ｃａｓｈ\n",
    "alpha_series['cash'] = 0.\n",
    "cov_df = cov_df.reindex(equity_list + ['cash']).fillna(0.)\n",
    "cov_df['cash'] = 0.\n",
    "print(alpha_series)\n",
    "print('\\n')\n",
    "print(cov_df)\n",
    "trading_day = '20100101'\n",
    "cov_panel = pd.Panel(\n",
    "    data={trading_day: cov_df})\n",
    "annual_rt_df = pd.DataFrame(\n",
    "    index=[trading_day],\n",
    "    data=[alpha_series])\n",
    "# benchmark\n",
    "benchmark_weight = pd.Series(index=equity_list+['cash'], data=[0.3, 0.23, 0.12, 0.35, 0.])"
   ]
  },
  {
   "cell_type": "markdown",
   "metadata": {},
   "source": [
    "# CVXPY配置"
   ]
  },
  {
   "cell_type": "code",
   "execution_count": 8,
   "metadata": {
    "ExecuteTime": {
     "end_time": "2019-07-30T14:36:58.195783Z",
     "start_time": "2019-07-30T14:36:57.586210Z"
    }
   },
   "outputs": [],
   "source": [
    "from solar.cvxportfolio.constraints import LongCash, LongOnly\n",
    "from solar.cvxportfolio.costs import TcostModel\n",
    "from solar.cvxportfolio.returns import ReturnsForecast\n",
    "from solar.solver.components.constraints import AssetWeightBound, TurnoverLimit, GroupWeightBound\n",
    "from solar.solver.components.policies import MaxUtilityPolicy\n",
    "from solar.solver.components.risks import AssetSigma\n",
    "from solar.math.common_function import adjust_holding_precision\n",
    "solver_param = {}\n",
    "solver_param.update({\n",
    "    cvx.ECOS: {\n",
    "        'abstol': 1.0e-09,\n",
    "        'reltol': 1.0e-09,\n",
    "        'max_iters': 150\n",
    "    }\n",
    "})"
   ]
  },
  {
   "cell_type": "code",
   "execution_count": 9,
   "metadata": {
    "ExecuteTime": {
     "end_time": "2019-07-30T14:37:01.285789Z",
     "start_time": "2019-07-30T14:37:01.212455Z"
    }
   },
   "outputs": [],
   "source": [
    "class MaxUtilityFunctionSolver:\n",
    "    def __init__(self, param):\n",
    "        self.asset_list = param['asset_list']\n",
    "        self.asset_cov = param['asset_cov']\n",
    "        self.asset_rt = param['asset_rt']\n",
    "        self.risk_aversion = param['risk_aversion']\n",
    "        self.total_weight = param['total_weight']\n",
    "        self.target_turnover = param['target_turnover']\n",
    "        self.fee = param['fee']\n",
    "        self.lower_boundary = param['lb']\n",
    "        self.upper_boundary = param['ub']\n",
    "        self.group_boundary = param['group_b']\n",
    "        self.trading_day = param['trading_day']\n",
    "        self.pre_holding = param['pre_holding']\n",
    "        self.current_price = param['current_price']\n",
    "        self.solver = param['solver']\n",
    "        self.weight_precision = param['weight_precision']\n",
    "        self.benchmark_weight_series = param['benchmark_weight_series']\n",
    "        self.is_long_only = param['is_long_only']\n",
    "        self.is_long_cash = param['is_long_cash']\n",
    "        self.lower_boundary = self.lower_boundary.reindex(self.asset_list).fillna(-np.inf)\n",
    "        self.upper_boundary = self.upper_boundary.reindex(self.asset_list).fillna(np.inf)\n",
    "\n",
    "    def solve(self):\n",
    "        transaction_cost_mdl = TcostModel(self.fee) if self.fee is not None else None\n",
    "        cost_models = []\n",
    "        if transaction_cost_mdl is not None:\n",
    "            cost_models.append(transaction_cost_mdl)\n",
    "\n",
    "        asset_cov_mdl = AssetSigma(self.asset_cov, w_bench=self.benchmark_weight_series)\n",
    "        return_mdl = ReturnsForecast(self.asset_rt)\n",
    "        weight_bound_list = [x for x in zip(self.lower_boundary, self.upper_boundary)]\n",
    "        if self.total_weight:\n",
    "            weight_bound_list += [1 - self.total_weight]\n",
    "        wt_cons = AssetWeightBound(weight_bound_list)\n",
    "        group_wt_cons = GroupWeightBound(self.group_boundary)\n",
    "        constraints = []\n",
    "        if self.is_long_only:\n",
    "            constraints += [LongOnly()]\n",
    "        if self.is_long_cash:\n",
    "            constraints += [LongCash()]\n",
    "        constraints = [wt_cons, group_wt_cons]\n",
    "\n",
    "        if self.target_turnover is not None:\n",
    "            turnover_cons = TurnoverLimit(self.target_turnover)\n",
    "            constraints.append(turnover_cons)\n",
    "\n",
    "        policy = MaxUtilityPolicy(\n",
    "            return_mdl,\n",
    "            asset_cov_mdl,\n",
    "            self.risk_aversion,\n",
    "            costs=cost_models,\n",
    "            constraints=constraints,\n",
    "            solver=self.solver,\n",
    "            solver_opts=solver_param[self.solver])\n",
    "        prob, trade_value = policy.get_trades(self.pre_holding, self.trading_day)\n",
    "        trade_volume = trade_value.drop('cash') / self.current_price\n",
    "        trade_volume.fillna(0., inplace=True)\n",
    "        after_trade_value = self.pre_holding + trade_value\n",
    "        after_trade_ratio = after_trade_value / after_trade_value.sum()\n",
    "        after_trade_ratio = adjust_holding_precision(after_trade_ratio, self.weight_precision)\n",
    "        transaction_cost_sum = 0.\n",
    "        for cost in policy.costs:\n",
    "            if isinstance(cost, TcostModel):\n",
    "                transaction_cost_sum += cost.value_expr(0., 0., trade_value)\n",
    "        trade_result = {\n",
    "            'trade_value': trade_value,\n",
    "            'trade_volume': trade_volume,\n",
    "            'solution_status': prob.status,\n",
    "            'transaction_cost_sum': transaction_cost_sum,\n",
    "            'weight': after_trade_ratio,\n",
    "            'holding': after_trade_value\n",
    "        }\n",
    "        return trade_result\n"
   ]
  },
  {
   "cell_type": "code",
   "execution_count": 10,
   "metadata": {
    "ExecuteTime": {
     "end_time": "2019-07-30T14:37:03.104401Z",
     "start_time": "2019-07-30T14:37:03.098523Z"
    }
   },
   "outputs": [],
   "source": [
    "free_param = {'asset_list': equity_list,\n",
    "         'asset_cov': cov_panel,\n",
    "         'asset_rt': annual_rt_df,\n",
    "         'risk_aversion': risk_avn,\n",
    "         'total_weight': None,\n",
    "         'target_turnover': None,\n",
    "         'fee': None,\n",
    "         'lb': lb,\n",
    "         'ub': ub,\n",
    "         'group_b': group_b,\n",
    "         'trading_day': trading_day,\n",
    "         'pre_holding': pre_holding,\n",
    "         'current_price': current_price,\n",
    "         'solver': cvx.ECOS,\n",
    "         'weight_precision': 0.001,\n",
    "         'benchmark_weight_series': benchmark_weight,\n",
    "         'is_long_only': False,\n",
    "         'is_long_cash': False\n",
    "        }"
   ]
  },
  {
   "cell_type": "code",
   "execution_count": 11,
   "metadata": {
    "ExecuteTime": {
     "end_time": "2019-07-30T14:37:05.193652Z",
     "start_time": "2019-07-30T14:37:05.114259Z"
    }
   },
   "outputs": [
    {
     "name": "stderr",
     "output_type": "stream",
     "text": [
      "/Users/Casey/anaconda2/envs/gluon/lib/python3.6/site-packages/pandas/core/dtypes/missing.py:106: FutureWarning: \n",
      "Panel is deprecated and will be removed in a future version.\n",
      "The recommended way to represent these types of 3-dimensional data are with a MultiIndex on a DataFrame, via the Panel.to_frame() method\n",
      "Alternatively, you can use the xarray package http://xarray.pydata.org/en/stable/.\n",
      "Pandas provides a `.to_xarray()` method to help automate this conversion.\n",
      "\n",
      "  return _isna(obj)\n"
     ]
    }
   ],
   "source": [
    "model = MaxUtilityFunctionSolver(free_param)\n",
    "free_result = model.solve()"
   ]
  },
  {
   "cell_type": "code",
   "execution_count": 13,
   "metadata": {
    "ExecuteTime": {
     "end_time": "2019-07-30T14:37:07.340706Z",
     "start_time": "2019-07-30T14:37:07.331422Z"
    }
   },
   "outputs": [
    {
     "data": {
      "text/plain": [
       "DELL   -2.303920\n",
       "IBM     2.004482\n",
       "MSFT    1.015705\n",
       "ORCL   -0.747341\n",
       "cash    1.031074\n",
       "dtype: float64"
      ]
     },
     "execution_count": 13,
     "metadata": {},
     "output_type": "execute_result"
    }
   ],
   "source": [
    "free_result['holding']"
   ]
  },
  {
   "cell_type": "code",
   "execution_count": 14,
   "metadata": {
    "ExecuteTime": {
     "end_time": "2019-07-30T14:37:09.871100Z",
     "start_time": "2019-07-30T14:37:09.858857Z"
    }
   },
   "outputs": [],
   "source": [
    "ub = pd.Series(index=equity_list, data=[np.inf, 0.5, np.inf, np.inf])\n",
    "lb = pd.Series(index=equity_list, data=-0.05)\n",
    "total_weight = 1.\n",
    "group_b = {}\n",
    "constraint_param = {'asset_list': equity_list,\n",
    "         'asset_cov': cov_panel,\n",
    "         'asset_rt': annual_rt_df,\n",
    "         'risk_aversion': risk_avn,\n",
    "         'total_weight': total_weight,\n",
    "         'target_turnover': None,\n",
    "         'fee': None,\n",
    "         'lb': lb,\n",
    "         'ub': ub,\n",
    "         'group_b': group_b,\n",
    "         'trading_day': trading_day,\n",
    "         'pre_holding': pre_holding,\n",
    "         'current_price': current_price,\n",
    "         'solver': cvx.ECOS,\n",
    "         'weight_precision': 0.001,\n",
    "         'benchmark_weight_series': benchmark_weight,\n",
    "         'is_long_only': False,\n",
    "         'is_long_cash': False\n",
    "        }"
   ]
  },
  {
   "cell_type": "code",
   "execution_count": 15,
   "metadata": {
    "ExecuteTime": {
     "end_time": "2019-07-30T14:37:10.901716Z",
     "start_time": "2019-07-30T14:37:10.841548Z"
    }
   },
   "outputs": [],
   "source": [
    "model = MaxUtilityFunctionSolver(constraint_param)\n",
    "constraint_result = model.solve()"
   ]
  },
  {
   "cell_type": "code",
   "execution_count": 16,
   "metadata": {
    "ExecuteTime": {
     "end_time": "2019-07-30T14:37:11.120837Z",
     "start_time": "2019-07-30T14:37:11.108124Z"
    }
   },
   "outputs": [
    {
     "data": {
      "text/plain": [
       "DELL   -5.000000e-02\n",
       "IBM     5.000000e-01\n",
       "MSFT    6.000000e-01\n",
       "ORCL   -5.000000e-02\n",
       "cash    4.984901e-14\n",
       "dtype: float64"
      ]
     },
     "execution_count": 16,
     "metadata": {},
     "output_type": "execute_result"
    }
   ],
   "source": [
    "constraint_result['holding']"
   ]
  },
  {
   "cell_type": "markdown",
   "metadata": {},
   "source": [
    "# alpha decomposition"
   ]
  },
  {
   "attachments": {},
   "cell_type": "markdown",
   "metadata": {},
   "source": [
    "个股权重设置了下限为$-5\\%$，IBM的上限为$50\\%$，总权重为$1$，共6个约束条件，其中有5个为不等式约束，1个为等式约束。\n",
    "原目标函数为\n",
    "$$\n",
    "\\max \\alpha^T x - \\frac{1}{2} (x-b)^T Q (x-b)\n",
    "$$\n",
    "将约束条件带入原目标函数中，利用拉格朗日乘子法，得到拉格朗日函数\n",
    "$$\n",
    "L(x, \\lambda_{1-6})= \\alpha^T x - \\frac{1}{2} (x-b)^T Q (x-b) - \\lambda_1(\\sum_{i=2}^5 x_i - 1) - \\sum_{i=2}^5(\\lambda_i(-0.05-x_i)) - \\lambda_6(x_2-0.5)\n",
    "$$\n",
    "其中，乘子$\\lambda_1$对应的是等式约束，$\\lambda_{2-6}$对应的是不等式约束。\n",
    "\n",
    "拉格朗日函数$L$对变量$x$求导，可得\n",
    "$$\n",
    "\\frac{\\partial L}{\\partial x} = \\alpha - Q^T(x-b) - \\lambda_1 I + [\\lambda_2,\\lambda_3,\\lambda_4,\\lambda_5]^T - [0,\\lambda_6,0,0]^T\n",
    "$$\n",
    "令偏导数等于0，整理两边可得\n",
    "$$\n",
    "\\alpha - Q^T(x^*-b) = \n",
    "\\left[\n",
    "  \\begin{matrix}\n",
    "   \\lambda_1^*-\\lambda_2^*\\\\\n",
    "   \\lambda_1^*-\\lambda_3^*-\\lambda_6^*\\\\\n",
    "   \\lambda_1^*-\\lambda_4^*\\\\\n",
    "   \\lambda_1^*-\\lambda_5^*\\\\\n",
    "  \\end{matrix}\n",
    "\\right]\n",
    "$$\n",
    "\n",
    "\n",
    "不等式约束需要满足根据KKT条件，这里只列出相关的条件\n",
    "$$\n",
    "\\lambda_2^*(-0.05-x_1^*)=0 \\\\\n",
    "\\lambda_3^*(-0.05-x_2^*)=0 \\\\\n",
    "\\lambda_4^*(-0.05-x_3^*)=0 \\\\\n",
    "\\lambda_5^*(-0.05-x_4^*)=0 \\\\\n",
    "\\lambda_6^*(x_2^*-0.5)=0 \\\\\n",
    "$$\n",
    "\n",
    "通过求解的结果可以看到，DELL、IBM、ORCL达到了约束条件的边界，它们分别的权重是\n",
    "\n",
    "$w^*_{\\text{DELL}}=-0.05,w^*_{\\text{IBM}}=0.5,w^*_{\\text{ORCL}}=-0.05$。\n",
    "\n",
    "因此，这些约束对应的乘子$\\lambda \\neq 0$，对应的乘子有$\\lambda_2^*,\\lambda_6^*,\\lambda_5^*$。因此其他不等式约束对应的乘子为$0$。这里有$\\lambda_3^*=0,\\lambda_4^*=0$。\n",
    "\n",
    "联系偏导数得到的关于$\\lambda$的等式，可以求的所有的$\\lambda^*$。"
   ]
  },
  {
   "cell_type": "code",
   "execution_count": 17,
   "metadata": {
    "ExecuteTime": {
     "end_time": "2019-07-30T14:37:55.985191Z",
     "start_time": "2019-07-30T14:37:55.972631Z"
    }
   },
   "outputs": [
    {
     "data": {
      "text/plain": [
       "DELL   -0.005973\n",
       "IBM     0.010549\n",
       "MSFT    0.023341\n",
       "ORCL   -0.007674\n",
       "cash    0.000000\n",
       "dtype: float64"
      ]
     },
     "execution_count": 17,
     "metadata": {},
     "output_type": "execute_result"
    }
   ],
   "source": [
    "# implied alpha\n",
    "def implied_alpha(cov_df, optimal_weight, wb_bench):\n",
    "    return cov_df.dot(optimal_weight - wb_bench)/reference_size\n",
    "im_alpha = implied_alpha(cov_df, constraint_result['holding'], benchmark_weight)\n",
    "im_alpha"
   ]
  },
  {
   "cell_type": "code",
   "execution_count": 21,
   "metadata": {
    "ExecuteTime": {
     "end_time": "2019-07-30T14:39:49.218313Z",
     "start_time": "2019-07-30T14:39:49.205163Z"
    }
   },
   "outputs": [
    {
     "data": {
      "text/plain": [
       "DELL   -0.044027\n",
       "IBM     0.059451\n",
       "MSFT    0.016659\n",
       "ORCL   -0.012326\n",
       "cash    0.000000\n",
       "dtype: float64"
      ]
     },
     "execution_count": 21,
     "metadata": {},
     "output_type": "execute_result"
    }
   ],
   "source": [
    "lm = alpha_series - im_alpha\n",
    "lm"
   ]
  },
  {
   "cell_type": "code",
   "execution_count": 31,
   "metadata": {
    "ExecuteTime": {
     "end_time": "2019-07-30T14:44:47.568290Z",
     "start_time": "2019-07-30T14:44:47.561117Z"
    }
   },
   "outputs": [],
   "source": [
    "# budget alpha\n",
    "lm4 = 0\n",
    "lm3 = 0\n",
    "lm1 = lm.iloc[2] + lm4\n",
    "lm2 = lm1 - lm.iloc[0]\n",
    "lm5 = lm1 - lm.iloc[3]\n",
    "lm6 = lm1 - lm.iloc[1] - lm3"
   ]
  },
  {
   "cell_type": "code",
   "execution_count": 36,
   "metadata": {
    "ExecuteTime": {
     "end_time": "2019-07-30T15:36:51.063130Z",
     "start_time": "2019-07-30T15:36:51.053870Z"
    }
   },
   "outputs": [
    {
     "data": {
      "text/plain": [
       "-0.04279199999718952"
      ]
     },
     "execution_count": 36,
     "metadata": {},
     "output_type": "execute_result"
    }
   ],
   "source": [
    "lm6"
   ]
  },
  {
   "cell_type": "markdown",
   "metadata": {},
   "source": [
    "$\\lambda$和对应的约束条件相乘后，就是该约束条件对应的alpha分解的部分。以等式约束$\\sum_i x_i=1$为例，alpha分解到这个部分是可以从偏$L$关于$x$的偏导数中看出，为$-\\lambda_1 I=[-\\lambda_1,-\\lambda_1,-\\lambda_1,-\\lambda_1]=[-0.0167,-0.0167,-0.0167,-0.0167]$。\n",
    "\n",
    "DELL下限被分解到的alpha为$[\\lambda_2,0,0,0]=[0.0607,0,0,0]$\n",
    "\n",
    "IBM下限被分解到的alpha为$[0,\\lambda_3,0,0]=[0,0,0,0]$\n",
    "\n",
    "MSFT下限被分解到的alpha为$[0,0,\\lambda_4,0]=[0,0,0,0]$\n",
    "\n",
    "ORCL下限被分解到的alpha为$[0,0,0,\\lambda_5]=[0,0,0,0.0290]$\n",
    "\n",
    "IBM上限被分解到的alpha为$[0,\\lambda_6,0,0]=[0,-0.0427,0,0]$"
   ]
  },
  {
   "cell_type": "code",
   "execution_count": null,
   "metadata": {},
   "outputs": [],
   "source": []
  }
 ],
 "metadata": {
  "kernelspec": {
   "display_name": "Python 3",
   "language": "python",
   "name": "python3"
  },
  "language_info": {
   "codemirror_mode": {
    "name": "ipython",
    "version": 3
   },
   "file_extension": ".py",
   "mimetype": "text/x-python",
   "name": "python",
   "nbconvert_exporter": "python",
   "pygments_lexer": "ipython3",
   "version": "3.6.2"
  }
 },
 "nbformat": 4,
 "nbformat_minor": 2
}
