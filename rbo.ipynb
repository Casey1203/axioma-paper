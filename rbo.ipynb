{
 "cells": [
  {
   "cell_type": "code",
   "execution_count": 1,
   "metadata": {},
   "outputs": [],
   "source": [
    "import pandas as pd\n",
    "import numpy as np\n",
    "import cvxpy as cvx\n",
    "import matplotlib.pyplot as plt\n",
    "%matplotlib inline\n",
    "from src.solver import *\n",
    "from src.efficient_frontier import *"
   ]
  },
  {
   "cell_type": "code",
   "execution_count": 2,
   "metadata": {},
   "outputs": [],
   "source": [
    "# equity_list = ['A', 'B']\n",
    "# alpha_1 = pd.Series(index=equity_list, data=[2.4, 2.5])\n",
    "# alpha_2 = pd.Series(index=equity_list, data=[2.5, 2.4])\n",
    "# alpha_true = pd.Series(index=equity_list, data=[2.48, 2.42])\n",
    "# benchmark_weight = pd.Series(index=equity_list, data=[0., 0.])\n",
    "\n",
    "# sigma_A, sigma_B = 0.42, 0.33\n",
    "# rho_AB = 0.7\n",
    "# cov_mat = [\n",
    "#     [sigma_A ** 2, rho_AB * sigma_A * sigma_B],\n",
    "#     [rho_AB * sigma_A * sigma_B, sigma_B ** 2]\n",
    "# ]\n",
    "# cov_df = pd.DataFrame(index=equity_list, columns=equity_list, data=cov_mat)\n",
    "# print(alpha_1, alpha_2, cov_df)"
   ]
  },
  {
   "cell_type": "code",
   "execution_count": 3,
   "metadata": {},
   "outputs": [],
   "source": [
    "# # alpha和cov扩展ｃａｓｈ\n",
    "# alpha_1['cash'] = 0.\n",
    "# alpha_2['cash'] = 0.\n",
    "# alpha_true['cash'] = 0.\n",
    "# cov_df = cov_df.reindex(equity_list + ['cash']).fillna(0.)\n",
    "# cov_df['cash'] = 0.\n",
    "# trading_day = '20100101'\n",
    "# cov_panel = pd.Panel(\n",
    "#     data={trading_day: cov_df})\n",
    "# alpha_1_df = pd.DataFrame(\n",
    "#     index=[trading_day],\n",
    "#     data=[alpha_1])\n",
    "# alpha_2_df = pd.DataFrame(\n",
    "#     index=[trading_day],\n",
    "#     data=[alpha_2])\n",
    "\n",
    "# # benchmark\n",
    "# benchmark_weight['cash'] = 0.\n",
    "\n",
    "# asset_lower_boundary_series = pd.Series(index=equity_list+['cash'], data=0.)\n",
    "# # asset_lower_boundary_series['cash'] = 0\n",
    "# asset_upper_boundary_series = pd.Series(index=equity_list+['cash'], data=1)\n",
    "# # asset_upper_boundary_series['cash'] = 0."
   ]
  },
  {
   "cell_type": "code",
   "execution_count": 4,
   "metadata": {},
   "outputs": [],
   "source": [
    "# market_value = 1.\n",
    "# current_price = pd.Series(index=equity_list+['cash'], data=1.)\n",
    "\n",
    "# target_risk = 0.10\n",
    "# target_return = 0.1\n",
    "\n",
    "\n",
    "# param = {\n",
    "#     'asset_list': equity_list,\n",
    "#     'alpha_series': alpha_2, # estimated alpha\n",
    "#     'asset_ret_cov': cov_df,\n",
    "#     'market_value': market_value,\n",
    "#     'current_price': current_price,\n",
    "#     'benchmark_weight_series': benchmark_weight,\n",
    "#     'asset_lower_boundary_series': asset_lower_boundary_series,\n",
    "#     'asset_upper_boundary_series': asset_upper_boundary_series,\n",
    "#     'target_risk': target_risk,\n",
    "#     'target_return': target_return,\n",
    "#     'solver': cvx.MOSEK,\n",
    "#     'cash_position': 0.2\n",
    "# }"
   ]
  },
  {
   "cell_type": "code",
   "execution_count": 5,
   "metadata": {},
   "outputs": [],
   "source": [
    "# param['asset_lower_boundary_series']['cash'] = param['cash_position']\n",
    "# param['asset_upper_boundary_series']['cash'] = param['cash_position']\n",
    "# model = MaxSharpeRatioSolver(param)\n",
    "# model.solve_without_round()"
   ]
  },
  {
   "cell_type": "code",
   "execution_count": 6,
   "metadata": {},
   "outputs": [],
   "source": [
    "# model = MaxReturnSolver(param)\n",
    "# model.solve_without_round()"
   ]
  },
  {
   "cell_type": "code",
   "execution_count": 7,
   "metadata": {},
   "outputs": [],
   "source": [
    "# model = MinRiskSolver(param)\n",
    "# model.solve_without_round()"
   ]
  },
  {
   "cell_type": "code",
   "execution_count": 8,
   "metadata": {},
   "outputs": [],
   "source": [
    "# resolution = 1000"
   ]
  },
  {
   "cell_type": "code",
   "execution_count": 9,
   "metadata": {
    "scrolled": true
   },
   "outputs": [],
   "source": [
    "# eff_front = EfficientFrontier(param)\n",
    "# eff_front.initialize()\n",
    "# print(eff_front.min_return, eff_front.max_return)"
   ]
  },
  {
   "cell_type": "code",
   "execution_count": 10,
   "metadata": {},
   "outputs": [],
   "source": [
    "# estimated_frontier_list = eff_front.get_efficient_frontier(resolution)"
   ]
  },
  {
   "cell_type": "code",
   "execution_count": 11,
   "metadata": {},
   "outputs": [],
   "source": [
    "# portfolio_list = [x['expected_weight'] for x in estimated_frontier_list]\n",
    "# result_list = ShowEfficientFrontier(portfolio_list, alpha_2, cov_df).show_frontier()\n",
    "# y = [x['exante_return'] for x in result_list]\n",
    "# x = [x['exante_risk'] for x in result_list]\n",
    "# estimated_frontier = pd.Series(index=x, data=y, name='estimated_frontier')\n",
    "# portfolio_list = [x['expected_weight'] for x in estimated_frontier_list]\n",
    "# result_list = ShowEfficientFrontier(portfolio_list, alpha_true, cov_df).show_frontier()\n",
    "# y = [x['exante_return'] for x in result_list]\n",
    "# x = [x['exante_risk'] for x in result_list]\n",
    "# actual_frontier = pd.Series(index=x, data=y, name='actual_frontier')\n",
    "\n",
    "# pd.concat([estimated_frontier, actual_frontier], axis=1).interpolate().plot()"
   ]
  },
  {
   "cell_type": "code",
   "execution_count": 12,
   "metadata": {},
   "outputs": [],
   "source": [
    "# eff_front.set_alpha_series(alpha_true)\n",
    "# eff_front.initialize()\n",
    "# print(eff_front.min_return, eff_front.max_return)"
   ]
  },
  {
   "cell_type": "code",
   "execution_count": 13,
   "metadata": {},
   "outputs": [],
   "source": [
    "# # eff_front.initialize()\n",
    "# print(eff_front.min_return, eff_front.max_return)\n",
    "# true_frontier_list = eff_front.get_efficient_frontier(resolution)"
   ]
  },
  {
   "cell_type": "code",
   "execution_count": 14,
   "metadata": {},
   "outputs": [],
   "source": [
    "# portfolio_list = [x['expected_weight'] for x in true_frontier_list]\n",
    "# result_list = ShowEfficientFrontier(portfolio_list, alpha_true, cov_df).show_frontier()\n",
    "# y = [x['exante_return'] for x in result_list]\n",
    "# x = [x['exante_risk'] for x in result_list]\n",
    "# true_frontier = pd.Series(index=x, data=y, name='true_frontier')\n",
    "# true_frontier.plot()\n"
   ]
  },
  {
   "cell_type": "code",
   "execution_count": 15,
   "metadata": {},
   "outputs": [],
   "source": [
    "# pd.concat([true_frontier, actual_frontier, estimated_frontier], axis=1).interpolate().plot()"
   ]
  },
  {
   "cell_type": "code",
   "execution_count": 16,
   "metadata": {},
   "outputs": [],
   "source": [
    "# lamb = 0.025"
   ]
  },
  {
   "cell_type": "code",
   "execution_count": 17,
   "metadata": {},
   "outputs": [],
   "source": [
    "# param['alpha_series'] = alpha_2\n",
    "# param['kappa'] = 3\n",
    "# param['estimated_alpha_cov'] = (1-lamb) * cov_df / 1000.\n",
    "# robust_eff_front = RobustEfficientFrontier(param)\n",
    "# robust_eff_front.initialize()\n",
    "# print(robust_eff_front.min_return, robust_eff_front.max_return)"
   ]
  },
  {
   "cell_type": "code",
   "execution_count": 18,
   "metadata": {},
   "outputs": [],
   "source": [
    "# robust_estimated_frontier_list = robust_eff_front.get_efficient_frontier(resolution)"
   ]
  },
  {
   "cell_type": "code",
   "execution_count": 19,
   "metadata": {},
   "outputs": [],
   "source": [
    "# portfolio_list = [x['expected_weight'] for x in robust_estimated_frontier_list]\n",
    "# result_list = ShowEfficientFrontier(portfolio_list, alpha_2, cov_df).show_frontier()\n",
    "# y = [x['exante_return'] for x in result_list]\n",
    "# x = [x['exante_risk'] for x in result_list]\n",
    "# robust_estimated_frontier = pd.Series(index=x, data=y, name='robust_estimated_frontier')\n",
    "# # estimated_frontier.plot()\n",
    "\n",
    "# portfolio_list = [x['expected_weight'] for x in estimated_frontier_list]\n",
    "# result_list = ShowEfficientFrontier(portfolio_list, alpha_true, cov_df).show_frontier()\n",
    "# y = [x['exante_return'] for x in result_list]\n",
    "# x = [x['exante_risk'] for x in result_list]\n",
    "# robust_actual_frontier = pd.Series(index=x, data=y, name='robust_actual_frontier')\n",
    "# # actual_frontier.plot()\n",
    "\n",
    "# pd.concat([robust_estimated_frontier, robust_actual_frontier], axis=1).interpolate().plot()"
   ]
  },
  {
   "cell_type": "code",
   "execution_count": 20,
   "metadata": {},
   "outputs": [],
   "source": [
    "# pd.concat([robust_estimated_frontier, robust_actual_frontier, true_frontier, actual_frontier, estimated_frontier], axis=1).interpolate().plot()"
   ]
  },
  {
   "cell_type": "code",
   "execution_count": null,
   "metadata": {},
   "outputs": [],
   "source": []
  },
  {
   "cell_type": "markdown",
   "metadata": {},
   "source": [
    "# 真实的例子"
   ]
  },
  {
   "cell_type": "code",
   "execution_count": 21,
   "metadata": {},
   "outputs": [],
   "source": [
    "cov_df = pd.read_csv('cov.csv', index_col=0)\n",
    "alpha_df = pd.read_csv('alpha.csv', header=None, names=['sec', 'alpha'])\n",
    "alpha_true = alpha_df.set_index('sec')['alpha']\n",
    "equity_list = alpha_true.index.tolist()\n",
    "equity_list.remove('cash')"
   ]
  },
  {
   "cell_type": "code",
   "execution_count": 22,
   "metadata": {},
   "outputs": [],
   "source": [
    "# data = np.random.multivariate_normal(alpha_true, cov_df, size=1000)\n",
    "data = pd.read_csv('data.csv').values\n",
    "error = data.T - np.expand_dims(alpha_true, axis=1)\n",
    "error_cov = np.cov(error)\n",
    "alpha_1 = pd.Series(index=equity_list+['cash'], data=data.mean(axis=0)) # estimate alpha"
   ]
  },
  {
   "cell_type": "code",
   "execution_count": 23,
   "metadata": {},
   "outputs": [],
   "source": [
    "market_value = 1.\n",
    "current_price = pd.Series(index=equity_list, data=1.)\n",
    "resolution = 1000\n",
    "param = {\n",
    "    'asset_list': equity_list,\n",
    "    'alpha_series': alpha_1, # estimated alpha\n",
    "    'asset_ret_cov': cov_df,\n",
    "    'market_value': market_value,\n",
    "    'current_price': current_price,\n",
    "    'solver': cvx.MOSEK\n",
    "}"
   ]
  },
  {
   "cell_type": "code",
   "execution_count": 24,
   "metadata": {},
   "outputs": [
    {
     "name": "stdout",
     "output_type": "stream",
     "text": [
      "-0.0005823013910999988 0.1041919563122\n"
     ]
    }
   ],
   "source": [
    "eff_front = EfficientFrontier(param)\n",
    "eff_front.initialize()\n",
    "print(eff_front.min_return, eff_front.max_return)"
   ]
  },
  {
   "cell_type": "code",
   "execution_count": 25,
   "metadata": {},
   "outputs": [],
   "source": [
    "estimated_frontier_list = eff_front.get_efficient_frontier(resolution)"
   ]
  },
  {
   "cell_type": "code",
   "execution_count": 26,
   "metadata": {},
   "outputs": [
    {
     "data": {
      "text/plain": [
       "<matplotlib.axes._subplots.AxesSubplot at 0x7fcdb7f972b0>"
      ]
     },
     "execution_count": 26,
     "metadata": {},
     "output_type": "execute_result"
    },
    {
     "data": {
      "image/png": "[encoded data removed]",
      "text/plain": [
       "<Figure size 432x288 with 1 Axes>"
      ]
     },
     "metadata": {
      "needs_background": "light"
     },
     "output_type": "display_data"
    }
   ],
   "source": [
    "portfolio_list = [x['expected_weight'] for x in estimated_frontier_list]\n",
    "result_list = ShowEfficientFrontier(portfolio_list, alpha_1, cov_df).show_frontier()\n",
    "y = [x['exante_return'] for x in result_list]\n",
    "x = [x['exante_risk'] for x in result_list]\n",
    "estimated_frontier = pd.Series(index=x, data=y, name='estimated_frontier')\n",
    "# estimated_frontier.plot()\n",
    "\n",
    "portfolio_list = [x['expected_weight'] for x in estimated_frontier_list]\n",
    "result_list = ShowEfficientFrontier(portfolio_list, alpha_true, cov_df).show_frontier()\n",
    "y = [x['exante_return'] for x in result_list]\n",
    "x = [x['exante_risk'] for x in result_list]\n",
    "actual_frontier = pd.Series(index=x, data=y, name='actual_frontier')\n",
    "# actual_frontier.plot()\n",
    "\n",
    "pd.concat([estimated_frontier, actual_frontier], axis=1).interpolate().plot()"
   ]
  },
  {
   "cell_type": "code",
   "execution_count": 27,
   "metadata": {},
   "outputs": [
    {
     "name": "stdout",
     "output_type": "stream",
     "text": [
      "0.0007053912345687086 0.0976302978781152\n"
     ]
    }
   ],
   "source": [
    "eff_front.set_alpha_series(alpha_true)\n",
    "eff_front.initialize()\n",
    "print(eff_front.min_return, eff_front.max_return)"
   ]
  },
  {
   "cell_type": "code",
   "execution_count": null,
   "metadata": {},
   "outputs": [],
   "source": [
    "true_frontier_list = eff_front.get_efficient_frontier(resolution)"
   ]
  },
  {
   "cell_type": "code",
   "execution_count": null,
   "metadata": {},
   "outputs": [],
   "source": [
    "portfolio_list = [x['expected_weight'] for x in true_frontier_list]\n",
    "result_list = ShowEfficientFrontier(portfolio_list, alpha_true, cov_df).show_frontier()\n",
    "y = [x['exante_return'] for x in result_list]\n",
    "x = [x['exante_risk'] for x in result_list]\n",
    "true_frontier = pd.Series(index=x, data=y, name='true_frontier')\n",
    "true_frontier.plot()"
   ]
  },
  {
   "cell_type": "code",
   "execution_count": null,
   "metadata": {},
   "outputs": [],
   "source": [
    "pd.concat([true_frontier, actual_frontier, estimated_frontier], axis=1).interpolate().plot()"
   ]
  },
  {
   "cell_type": "code",
   "execution_count": null,
   "metadata": {},
   "outputs": [],
   "source": [
    "# sample_cov = np.cov(data.T)"
   ]
  },
  {
   "cell_type": "code",
   "execution_count": null,
   "metadata": {},
   "outputs": [],
   "source": [
    "# from src.rbo import *"
   ]
  },
  {
   "cell_type": "code",
   "execution_count": null,
   "metadata": {},
   "outputs": [],
   "source": [
    "lamb = 0.25"
   ]
  },
  {
   "cell_type": "code",
   "execution_count": null,
   "metadata": {},
   "outputs": [],
   "source": [
    "param['alpha_series'] = alpha_1\n",
    "# param['kappa'] = 5.\n",
    "param['estimated_alpha_cov'] = (1-lamb) * error_cov / 1000.\n",
    "param['kappa'] = 1.\n",
    "benchmark_weight_series = pd.Series(index=equity_list, data=1./len(equity_list))\n",
    "benchmark_weight_series['cash'] = 0.\n",
    "param['benchmark_weight_series'] = benchmark_weight_series\n",
    "# param['estimated_alpha_cov'] = np.identity(cov_df.shape[0]) / 100.\n",
    "robust_eff_front = RobustEfficientFrontier(param)\n",
    "robust_eff_front.initialize()\n",
    "print(robust_eff_front.min_return, robust_eff_front.max_return)\n",
    "# rbo = RobustMaxReturnSolver(param)\n",
    "# rbo.solve_without_round()"
   ]
  },
  {
   "cell_type": "code",
   "execution_count": null,
   "metadata": {},
   "outputs": [],
   "source": []
  },
  {
   "cell_type": "code",
   "execution_count": null,
   "metadata": {},
   "outputs": [],
   "source": [
    "# param['benchmark_weight_series'] = pd.Series(index=equity_list+['cash'], data=0.)\n",
    "# asset_lower_boundary_series = pd.Series(index=equity_list, data=-np.inf)\n",
    "# asset_lower_boundary_series['cash'] = 0.\n",
    "# asset_upper_boundary_series = pd.Series(index=equity_list, data=np.inf)\n",
    "# asset_upper_boundary_series['cash'] = 0.\n",
    "# param['asset_lower_boundary_series'] = asset_lower_boundary_series\n",
    "# param['asset_upper_boundary_series'] = asset_upper_boundary_series\n",
    "# param['target_return'] = -np.inf\n",
    "# MinRiskSolver(param).solve_without_round()['expected_weight'].dot(alpha_1)"
   ]
  },
  {
   "cell_type": "code",
   "execution_count": null,
   "metadata": {},
   "outputs": [],
   "source": [
    "robust_estimated_frontier_list = robust_eff_front.get_efficient_frontier(resolution)"
   ]
  },
  {
   "cell_type": "code",
   "execution_count": null,
   "metadata": {},
   "outputs": [],
   "source": [
    "portfolio_list = [x['expected_weight'] for x in robust_estimated_frontier_list]\n",
    "result_list = ShowEfficientFrontier(portfolio_list, alpha_1, cov_df).show_frontier()\n",
    "y = [x['exante_return'] for x in result_list]\n",
    "x = [x['exante_risk'] for x in result_list]\n",
    "robust_estimated_frontier = pd.Series(index=x, data=y, name='robust_estimated_frontier')\n",
    "# estimated_frontier.plot()\n",
    "\n",
    "portfolio_list = [x['expected_weight'] for x in estimated_frontier_list]\n",
    "result_list = ShowEfficientFrontier(portfolio_list, alpha_true, cov_df).show_frontier()\n",
    "y = [x['exante_return'] for x in result_list]\n",
    "x = [x['exante_risk'] for x in result_list]\n",
    "robust_actual_frontier = pd.Series(index=x, data=y, name='robust_actual_frontier')\n",
    "# actual_frontier.plot()\n",
    "\n",
    "pd.concat([robust_estimated_frontier, robust_actual_frontier], axis=1).interpolate().plot()"
   ]
  },
  {
   "cell_type": "code",
   "execution_count": null,
   "metadata": {},
   "outputs": [],
   "source": [
    "pd.concat([robust_estimated_frontier, robust_actual_frontier, true_frontier, actual_frontier, estimated_frontier], axis=1).interpolate().plot()"
   ]
  },
  {
   "cell_type": "code",
   "execution_count": null,
   "metadata": {},
   "outputs": [],
   "source": [
    "pd.concat([robust_actual_frontier, actual_frontier], axis=1).interpolate().plot()"
   ]
  },
  {
   "cell_type": "code",
   "execution_count": null,
   "metadata": {},
   "outputs": [],
   "source": [
    "robust_portfolio_list = [x['expected_weight'] for x in robust_estimated_frontier_list]"
   ]
  },
  {
   "cell_type": "code",
   "execution_count": null,
   "metadata": {},
   "outputs": [],
   "source": [
    "portfolio_list = [x['expected_weight'] for x in estimated_frontier_list]"
   ]
  },
  {
   "cell_type": "code",
   "execution_count": null,
   "metadata": {},
   "outputs": [],
   "source": [
    "robust_portfolio_list[0] - portfolio_list[0]"
   ]
  },
  {
   "cell_type": "code",
   "execution_count": null,
   "metadata": {},
   "outputs": [],
   "source": []
  }
 ],
 "metadata": {
  "kernelspec": {
   "display_name": "Python 3",
   "language": "python",
   "name": "python3"
  },
  "language_info": {
   "codemirror_mode": {
    "name": "ipython",
    "version": 3
   },
   "file_extension": ".py",
   "mimetype": "text/x-python",
   "name": "python",
   "nbconvert_exporter": "python",
   "pygments_lexer": "ipython3",
   "version": "3.7.3"
  }
 },
 "nbformat": 4,
 "nbformat_minor": 2
}
