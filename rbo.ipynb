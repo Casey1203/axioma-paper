{
 "cells": [
  {
   "cell_type": "code",
   "execution_count": 1,
   "metadata": {},
   "outputs": [],
   "source": [
    "import pandas as pd\n",
    "import numpy as np\n",
    "import cvxpy as cvx\n",
    "import matplotlib.pyplot as plt\n",
    "%matplotlib inline"
   ]
  },
  {
   "cell_type": "code",
   "execution_count": 2,
   "metadata": {},
   "outputs": [
    {
     "name": "stdout",
     "output_type": "stream",
     "text": [
      "A    2.4\n",
      "B    2.5\n",
      "dtype: float64 A    2.5\n",
      "B    2.4\n",
      "dtype: float64          A        B\n",
      "A  0.17640  0.09702\n",
      "B  0.09702  0.10890\n"
     ]
    }
   ],
   "source": [
    "equity_list = ['A', 'B']\n",
    "alpha_1 = pd.Series(index=equity_list, data=[2.4, 2.5])\n",
    "alpha_2 = pd.Series(index=equity_list, data=[2.5, 2.4])\n",
    "alpha_true = pd.Series(index=equity_list, data=[2.48, 2.42])\n",
    "benchmark_weight = pd.Series(index=equity_list, data=[0., 0.])\n",
    "\n",
    "sigma_A, sigma_B = 0.42, 0.33\n",
    "rho_AB = 0.7\n",
    "cov_mat = [\n",
    "    [sigma_A ** 2, rho_AB * sigma_A * sigma_B],\n",
    "    [rho_AB * sigma_A * sigma_B, sigma_B ** 2]\n",
    "]\n",
    "cov_df = pd.DataFrame(index=equity_list, columns=equity_list, data=cov_mat)\n",
    "print(alpha_1, alpha_2, cov_df)"
   ]
  },
  {
   "cell_type": "code",
   "execution_count": 5,
   "metadata": {},
   "outputs": [
    {
     "name": "stderr",
     "output_type": "stream",
     "text": [
      "/home/casey/anaconda3/lib/python3.7/site-packages/IPython/core/interactiveshell.py:3325: FutureWarning: \n",
      "Panel is deprecated and will be removed in a future version.\n",
      "The recommended way to represent these types of 3-dimensional data are with a MultiIndex on a DataFrame, via the Panel.to_frame() method\n",
      "Alternatively, you can use the xarray package http://xarray.pydata.org/en/stable/.\n",
      "Pandas provides a `.to_xarray()` method to help automate this conversion.\n",
      "\n",
      "  exec(code_obj, self.user_global_ns, self.user_ns)\n"
     ]
    }
   ],
   "source": [
    "# alpha和cov扩展ｃａｓｈ\n",
    "alpha_1['cash'] = 0.\n",
    "alpha_2['cash'] = 0.\n",
    "alpha_true['cash'] = 0.\n",
    "cov_df = cov_df.reindex(equity_list + ['cash']).fillna(0.)\n",
    "cov_df['cash'] = 0.\n",
    "trading_day = '20100101'\n",
    "cov_panel = pd.Panel(\n",
    "    data={trading_day: cov_df})\n",
    "alpha_1_df = pd.DataFrame(\n",
    "    index=[trading_day],\n",
    "    data=[alpha_1])\n",
    "alpha_2_df = pd.DataFrame(\n",
    "    index=[trading_day],\n",
    "    data=[alpha_2])\n",
    "\n",
    "# benchmark\n",
    "benchmark_weight['cash'] = 0.\n",
    "\n",
    "asset_lower_boundary_series = pd.Series(index=equity_list+['cash'], data=0.)\n",
    "# asset_lower_boundary_series['cash'] = 0\n",
    "asset_upper_boundary_series = pd.Series(index=equity_list+['cash'], data=1)\n",
    "# asset_upper_boundary_series['cash'] = 0."
   ]
  },
  {
   "cell_type": "code",
   "execution_count": 3,
   "metadata": {},
   "outputs": [],
   "source": [
    "from src.solver import *"
   ]
  },
  {
   "cell_type": "code",
   "execution_count": 6,
   "metadata": {},
   "outputs": [],
   "source": [
    "market_value = 1.\n",
    "current_price = pd.Series(index=equity_list+['cash'], data=1.)\n",
    "\n",
    "target_risk = 0.10\n",
    "target_return = 0.1\n",
    "\n",
    "\n",
    "param = {\n",
    "    'asset_list': equity_list,\n",
    "    'alpha_series': alpha_2, # estimated alpha\n",
    "    'asset_ret_cov': cov_df,\n",
    "    'market_value': market_value,\n",
    "    'current_price': current_price,\n",
    "    'benchmark_weight_series': benchmark_weight,\n",
    "    'asset_lower_boundary_series': asset_lower_boundary_series,\n",
    "    'asset_upper_boundary_series': asset_upper_boundary_series,\n",
    "    'target_risk': target_risk,\n",
    "    'target_return': target_return,\n",
    "    'solver': cvx.MOSEK,\n",
    "    'cash_position': 0.2\n",
    "}"
   ]
  },
  {
   "cell_type": "code",
   "execution_count": 45,
   "metadata": {},
   "outputs": [],
   "source": [
    "# param['asset_lower_boundary_series']['cash'] = param['cash_position']\n",
    "# param['asset_upper_boundary_series']['cash'] = param['cash_position']\n",
    "# model = MaxSharpeRatioSolver(param)\n",
    "# model.solve_without_round()"
   ]
  },
  {
   "cell_type": "code",
   "execution_count": 46,
   "metadata": {},
   "outputs": [],
   "source": [
    "# model = MaxReturnSolver(param)\n",
    "# model.solve_without_round()"
   ]
  },
  {
   "cell_type": "code",
   "execution_count": 47,
   "metadata": {},
   "outputs": [],
   "source": [
    "# model = MinRiskSolver(param)\n",
    "# model.solve_without_round()"
   ]
  },
  {
   "cell_type": "code",
   "execution_count": 7,
   "metadata": {},
   "outputs": [],
   "source": [
    "from src.efficient_frontier import *"
   ]
  },
  {
   "cell_type": "code",
   "execution_count": 8,
   "metadata": {},
   "outputs": [],
   "source": [
    "resolution = 1000"
   ]
  },
  {
   "cell_type": "code",
   "execution_count": 9,
   "metadata": {
    "scrolled": true
   },
   "outputs": [
    {
     "name": "stdout",
     "output_type": "stream",
     "text": [
      "2.4 2.5\n"
     ]
    }
   ],
   "source": [
    "eff_front = EfficientFrontier(param)\n",
    "eff_front.initialize()\n",
    "print(eff_front.min_return, eff_front.max_return)"
   ]
  },
  {
   "cell_type": "code",
   "execution_count": 10,
   "metadata": {},
   "outputs": [],
   "source": [
    "estimated_frontier_list = eff_front.get_efficient_frontier(resolution)"
   ]
  },
  {
   "cell_type": "code",
   "execution_count": 11,
   "metadata": {},
   "outputs": [
    {
     "data": {
      "text/plain": [
       "<matplotlib.axes._subplots.AxesSubplot at 0x7ff00b0f34e0>"
      ]
     },
     "execution_count": 11,
     "metadata": {},
     "output_type": "execute_result"
    },
    {
     "data": {
      "image/png": "[encoded data removed]",
      "text/plain": [
       "<Figure size 432x288 with 1 Axes>"
      ]
     },
     "metadata": {
      "needs_background": "light"
     },
     "output_type": "display_data"
    }
   ],
   "source": [
    "portfolio_list = [x['expected_weight'] for x in estimated_frontier_list]\n",
    "result_list = ShowEfficientFrontier(portfolio_list, alpha_2, cov_df).show_frontier()\n",
    "y = [x['exante_return'] for x in result_list]\n",
    "x = [x['exante_risk'] for x in result_list]\n",
    "estimated_frontier = pd.Series(index=x, data=y, name='estimated_frontier')\n",
    "portfolio_list = [x['expected_weight'] for x in estimated_frontier_list]\n",
    "result_list = ShowEfficientFrontier(portfolio_list, alpha_true, cov_df).show_frontier()\n",
    "y = [x['exante_return'] for x in result_list]\n",
    "x = [x['exante_risk'] for x in result_list]\n",
    "actual_frontier = pd.Series(index=x, data=y, name='actual_frontier')\n",
    "\n",
    "pd.concat([estimated_frontier, actual_frontier], axis=1).interpolate().plot()"
   ]
  },
  {
   "cell_type": "code",
   "execution_count": 12,
   "metadata": {},
   "outputs": [
    {
     "name": "stdout",
     "output_type": "stream",
     "text": [
      "2.42 2.48\n"
     ]
    }
   ],
   "source": [
    "eff_front.set_alpha_series(alpha_true)\n",
    "eff_front.initialize()\n",
    "print(eff_front.min_return, eff_front.max_return)"
   ]
  },
  {
   "cell_type": "code",
   "execution_count": 14,
   "metadata": {},
   "outputs": [
    {
     "name": "stdout",
     "output_type": "stream",
     "text": [
      "2.42 2.48\n"
     ]
    }
   ],
   "source": [
    "# eff_front.initialize()\n",
    "print(eff_front.min_return, eff_front.max_return)\n",
    "true_frontier_list = eff_front.get_efficient_frontier(resolution)"
   ]
  },
  {
   "cell_type": "code",
   "execution_count": 15,
   "metadata": {},
   "outputs": [
    {
     "data": {
      "text/plain": [
       "<matplotlib.axes._subplots.AxesSubplot at 0x7f729406b6d8>"
      ]
     },
     "execution_count": 15,
     "metadata": {},
     "output_type": "execute_result"
    },
    {
     "data": {
      "image/png": "[encoded data removed]",
      "text/plain": [
       "<Figure size 432x288 with 1 Axes>"
      ]
     },
     "metadata": {
      "needs_background": "light"
     },
     "output_type": "display_data"
    }
   ],
   "source": [
    "portfolio_list = [x['expected_weight'] for x in true_frontier_list]\n",
    "result_list = ShowEfficientFrontier(portfolio_list, alpha_true, cov_df).show_frontier()\n",
    "y = [x['exante_return'] for x in result_list]\n",
    "x = [x['exante_risk'] for x in result_list]\n",
    "true_frontier = pd.Series(index=x, data=y, name='true_frontier')\n",
    "true_frontier.plot()\n"
   ]
  },
  {
   "cell_type": "code",
   "execution_count": 17,
   "metadata": {},
   "outputs": [
    {
     "data": {
      "text/plain": [
       "<matplotlib.axes._subplots.AxesSubplot at 0x7f72932209b0>"
      ]
     },
     "execution_count": 17,
     "metadata": {},
     "output_type": "execute_result"
    },
    {
     "data": {
      "image/png": "[encoded data removed]",
      "text/plain": [
       "<Figure size 432x288 with 1 Axes>"
      ]
     },
     "metadata": {
      "needs_background": "light"
     },
     "output_type": "display_data"
    }
   ],
   "source": [
    "pd.concat([true_frontier, actual_frontier, estimated_frontier], axis=1).interpolate().plot()"
   ]
  },
  {
   "cell_type": "markdown",
   "metadata": {},
   "source": [
    "# 真实的例子"
   ]
  },
  {
   "cell_type": "code",
   "execution_count": 13,
   "metadata": {},
   "outputs": [],
   "source": [
    "cov_df = pd.read_csv('cov.csv', index_col=0)\n",
    "alpha_df = pd.read_csv('alpha.csv', header=None, names=['sec', 'alpha'])\n",
    "alpha_true = alpha_df.set_index('sec')['alpha']\n",
    "equity_list = alpha_true.index.tolist()\n",
    "equity_list.remove('cash')"
   ]
  },
  {
   "cell_type": "code",
   "execution_count": 14,
   "metadata": {},
   "outputs": [],
   "source": [
    "data = np.random.multivariate_normal(alpha_true, cov_df, size=1000)"
   ]
  },
  {
   "cell_type": "code",
   "execution_count": 15,
   "metadata": {},
   "outputs": [],
   "source": [
    "alpha_1 = pd.Series(index=equity_list+['cash'], data=data.mean(axis=0)) # estimate alpha"
   ]
  },
  {
   "cell_type": "code",
   "execution_count": 16,
   "metadata": {},
   "outputs": [],
   "source": [
    "market_value = 1.\n",
    "current_price = pd.Series(index=equity_list, data=1.)\n",
    "resolution = 1000\n",
    "param = {\n",
    "    'asset_list': equity_list,\n",
    "    'alpha_series': alpha_1, # estimated alpha\n",
    "    'asset_ret_cov': cov_df,\n",
    "    'market_value': market_value,\n",
    "    'current_price': current_price,\n",
    "    'solver': cvx.MOSEK\n",
    "}"
   ]
  },
  {
   "cell_type": "code",
   "execution_count": 17,
   "metadata": {},
   "outputs": [
    {
     "name": "stdout",
     "output_type": "stream",
     "text": [
      "0.003068387714030045 0.10128848360846104\n"
     ]
    }
   ],
   "source": [
    "eff_front = EfficientFrontier(param)\n",
    "eff_front.initialize()\n",
    "print(eff_front.min_return, eff_front.max_return)"
   ]
  },
  {
   "cell_type": "code",
   "execution_count": 18,
   "metadata": {},
   "outputs": [],
   "source": [
    "estimated_frontier_list = eff_front.get_efficient_frontier(resolution)"
   ]
  },
  {
   "cell_type": "code",
   "execution_count": 19,
   "metadata": {},
   "outputs": [
    {
     "data": {
      "text/plain": [
       "<matplotlib.axes._subplots.AxesSubplot at 0x7ff00b2c6ac8>"
      ]
     },
     "execution_count": 19,
     "metadata": {},
     "output_type": "execute_result"
    },
    {
     "data": {
      "image/png": "[encoded data removed]",
      "text/plain": [
       "<Figure size 432x288 with 1 Axes>"
      ]
     },
     "metadata": {
      "needs_background": "light"
     },
     "output_type": "display_data"
    }
   ],
   "source": [
    "portfolio_list = [x['expected_weight'] for x in estimated_frontier_list]\n",
    "result_list = ShowEfficientFrontier(portfolio_list, alpha_1, cov_df).show_frontier()\n",
    "y = [x['exante_return'] for x in result_list]\n",
    "x = [x['exante_risk'] for x in result_list]\n",
    "estimated_frontier = pd.Series(index=x, data=y, name='estimated_frontier')\n",
    "# estimated_frontier.plot()\n",
    "\n",
    "portfolio_list = [x['expected_weight'] for x in estimated_frontier_list]\n",
    "result_list = ShowEfficientFrontier(portfolio_list, alpha_true, cov_df).show_frontier()\n",
    "y = [x['exante_return'] for x in result_list]\n",
    "x = [x['exante_risk'] for x in result_list]\n",
    "actual_frontier = pd.Series(index=x, data=y, name='actual_frontier')\n",
    "# actual_frontier.plot()\n",
    "\n",
    "pd.concat([estimated_frontier, actual_frontier], axis=1).interpolate().plot()"
   ]
  },
  {
   "cell_type": "code",
   "execution_count": 20,
   "metadata": {},
   "outputs": [
    {
     "name": "stdout",
     "output_type": "stream",
     "text": [
      "0.0007053912345687086 0.0976302978781152\n"
     ]
    }
   ],
   "source": [
    "eff_front.set_alpha_series(alpha_true)\n",
    "eff_front.initialize()\n",
    "print(eff_front.min_return, eff_front.max_return)"
   ]
  },
  {
   "cell_type": "code",
   "execution_count": 21,
   "metadata": {},
   "outputs": [],
   "source": [
    "true_frontier_list = eff_front.get_efficient_frontier(resolution)"
   ]
  },
  {
   "cell_type": "code",
   "execution_count": 22,
   "metadata": {},
   "outputs": [
    {
     "data": {
      "text/plain": [
       "<matplotlib.axes._subplots.AxesSubplot at 0x7ff00b5da240>"
      ]
     },
     "execution_count": 22,
     "metadata": {},
     "output_type": "execute_result"
    },
    {
     "data": {
      "image/png": "[encoded data removed]",
      "text/plain": [
       "<Figure size 432x288 with 1 Axes>"
      ]
     },
     "metadata": {
      "needs_background": "light"
     },
     "output_type": "display_data"
    }
   ],
   "source": [
    "portfolio_list = [x['expected_weight'] for x in true_frontier_list]\n",
    "result_list = ShowEfficientFrontier(portfolio_list, alpha_true, cov_df).show_frontier()\n",
    "y = [x['exante_return'] for x in result_list]\n",
    "x = [x['exante_risk'] for x in result_list]\n",
    "true_frontier = pd.Series(index=x, data=y, name='true_frontier')\n",
    "true_frontier.plot()"
   ]
  },
  {
   "cell_type": "code",
   "execution_count": 23,
   "metadata": {},
   "outputs": [
    {
     "data": {
      "text/plain": [
       "<matplotlib.axes._subplots.AxesSubplot at 0x7feffbd9cc18>"
      ]
     },
     "execution_count": 23,
     "metadata": {},
     "output_type": "execute_result"
    },
    {
     "data": {
      "image/png": "[encoded data removed]",
      "text/plain": [
       "<Figure size 432x288 with 1 Axes>"
      ]
     },
     "metadata": {
      "needs_background": "light"
     },
     "output_type": "display_data"
    }
   ],
   "source": [
    "pd.concat([true_frontier, actual_frontier, estimated_frontier], axis=1).interpolate().plot()"
   ]
  },
  {
   "cell_type": "code",
   "execution_count": null,
   "metadata": {},
   "outputs": [],
   "source": []
  },
  {
   "cell_type": "code",
   "execution_count": 24,
   "metadata": {},
   "outputs": [],
   "source": [
    "# from src.rbo import *"
   ]
  },
  {
   "cell_type": "code",
   "execution_count": 25,
   "metadata": {},
   "outputs": [
    {
     "name": "stdout",
     "output_type": "stream",
     "text": [
      "w_tilde 002230.XSHE    0.000007\n",
      "601398.XSHG    0.000005\n",
      "601727.XSHG    0.000007\n",
      "601958.XSHG    0.000004\n",
      "601985.XSHG    0.000005\n",
      "600038.XSHG    0.000007\n",
      "600489.XSHG    0.000005\n",
      "002415.XSHE    0.000004\n",
      "601006.XSHG    0.000003\n",
      "600362.XSHG    0.000004\n",
      "601998.XSHG    0.000006\n",
      "601601.XSHG    0.000005\n",
      "601988.XSHG    0.999798\n",
      "600406.XSHG    0.000007\n",
      "601336.XSHG    0.000006\n",
      "601318.XSHG    0.000006\n",
      "600118.XSHG    0.000007\n",
      "601628.XSHG    0.000005\n",
      "600498.XSHG    0.000005\n",
      "600111.XSHG    0.000006\n",
      "601989.XSHG    0.000006\n",
      "601288.XSHG    0.000006\n",
      "600036.XSHG    0.000004\n",
      "601939.XSHG    0.000063\n",
      "000792.XSHE    0.000002\n",
      "002465.XSHE    0.000007\n",
      "002081.XSHE    0.000007\n",
      "600522.XSHG    0.000004\n",
      "cash           0.000000\n",
      "dtype: float64\n",
      "002230.XSHE    1.125606e-01\n",
      "601398.XSHG   -8.227406e-03\n",
      "601727.XSHG    4.071769e-02\n",
      "601958.XSHG    1.037918e-01\n",
      "601985.XSHG   -1.459226e-03\n",
      "600038.XSHG    8.811959e-02\n",
      "600489.XSHG    2.230380e-02\n",
      "002415.XSHE    2.090733e-02\n",
      "601006.XSHG    1.918930e-02\n",
      "600362.XSHG    4.815649e-03\n",
      "601998.XSHG   -3.198114e-03\n",
      "601601.XSHG   -1.300598e-02\n",
      "601988.XSHG   -1.288562e-02\n",
      "600406.XSHG    4.405457e-02\n",
      "601336.XSHG    1.545646e-02\n",
      "601318.XSHG    8.207017e-04\n",
      "600118.XSHG    9.224139e-02\n",
      "601628.XSHG   -2.123589e-02\n",
      "600498.XSHG    5.182253e-02\n",
      "600111.XSHG    7.122106e-02\n",
      "601989.XSHG    8.282246e-02\n",
      "601288.XSHG   -4.903001e-02\n",
      "600036.XSHG   -4.971368e-03\n",
      "601939.XSHG    1.745906e-02\n",
      "000792.XSHE   -6.246161e-02\n",
      "002465.XSHE    8.795305e-02\n",
      "002081.XSHE    6.270818e-02\n",
      "600522.XSHG    2.352046e-02\n",
      "cash           3.250146e-11\n",
      "dtype: float64\n",
      "-0.012876876802668632 0.11256055838939444\n"
     ]
    }
   ],
   "source": [
    "param['alpha_series'] = alpha_1\n",
    "param['kappa'] = 1\n",
    "param['estimated_alpha_cov'] = param['asset_ret_cov'] / 5.\n",
    "robust_eff_front = RobustEfficientFrontier(param)\n",
    "robust_eff_front.initialize()\n",
    "print(robust_eff_front.min_return, robust_eff_front.max_return)\n",
    "# rbo = RobustMaxReturnSolver(param)\n",
    "# rbo.solve_without_round()"
   ]
  },
  {
   "cell_type": "code",
   "execution_count": 26,
   "metadata": {},
   "outputs": [],
   "source": [
    "robust_estimated_frontier_list = robust_eff_front.get_efficient_frontier(resolution)"
   ]
  },
  {
   "cell_type": "code",
   "execution_count": 27,
   "metadata": {},
   "outputs": [
    {
     "data": {
      "text/plain": [
       "<matplotlib.axes._subplots.AxesSubplot at 0x7feffb936048>"
      ]
     },
     "execution_count": 27,
     "metadata": {},
     "output_type": "execute_result"
    },
    {
     "data": {
      "image/png": "[encoded data removed]",
      "text/plain": [
       "<Figure size 432x288 with 1 Axes>"
      ]
     },
     "metadata": {
      "needs_background": "light"
     },
     "output_type": "display_data"
    }
   ],
   "source": [
    "portfolio_list = [x['expected_weight'] for x in robust_estimated_frontier_list]\n",
    "result_list = ShowEfficientFrontier(portfolio_list, alpha_1, cov_df).show_frontier()\n",
    "y = [x['exante_return'] for x in result_list]\n",
    "x = [x['exante_risk'] for x in result_list]\n",
    "robust_estimated_frontier = pd.Series(index=x, data=y, name='robust_estimated_frontier')\n",
    "# estimated_frontier.plot()\n",
    "\n",
    "portfolio_list = [x['expected_weight'] for x in estimated_frontier_list]\n",
    "result_list = ShowEfficientFrontier(portfolio_list, alpha_true, cov_df).show_frontier()\n",
    "y = [x['exante_return'] for x in result_list]\n",
    "x = [x['exante_risk'] for x in result_list]\n",
    "robust_actual_frontier = pd.Series(index=x, data=y, name='robust_actual_frontier')\n",
    "# actual_frontier.plot()\n",
    "\n",
    "pd.concat([robust_estimated_frontier, robust_actual_frontier], axis=1).interpolate().plot()"
   ]
  },
  {
   "cell_type": "code",
   "execution_count": null,
   "metadata": {},
   "outputs": [],
   "source": []
  }
 ],
 "metadata": {
  "kernelspec": {
   "display_name": "Python 3",
   "language": "python",
   "name": "python3"
  },
  "language_info": {
   "codemirror_mode": {
    "name": "ipython",
    "version": 3
   },
   "file_extension": ".py",
   "mimetype": "text/x-python",
   "name": "python",
   "nbconvert_exporter": "python",
   "pygments_lexer": "ipython3",
   "version": "3.7.3"
  }
 },
 "nbformat": 4,
 "nbformat_minor": 2
}
