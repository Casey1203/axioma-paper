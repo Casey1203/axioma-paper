{
 "cells": [
  {
   "cell_type": "code",
   "execution_count": 38,
   "metadata": {
    "ExecuteTime": {
     "end_time": "2019-09-06T03:11:54.659034Z",
     "start_time": "2019-09-06T03:11:54.652141Z"
    }
   },
   "outputs": [],
   "source": [
    "import pandas as pd\n",
    "import numpy as np\n",
    "import cvxpy as cvx\n",
    "import matplotlib.pyplot as plt\n",
    "%matplotlib inline\n",
    "from src.solver import *\n",
    "from src.efficient_frontier import *"
   ]
  },
  {
   "cell_type": "code",
   "execution_count": 2,
   "metadata": {},
   "outputs": [],
   "source": [
    "# equity_list = ['A', 'B']\n",
    "# alpha_1 = pd.Series(index=equity_list, data=[2.4, 2.5])\n",
    "# alpha_2 = pd.Series(index=equity_list, data=[2.5, 2.4])\n",
    "# alpha_true = pd.Series(index=equity_list, data=[2.48, 2.42])\n",
    "# benchmark_weight = pd.Series(index=equity_list, data=[0., 0.])\n",
    "\n",
    "# sigma_A, sigma_B = 0.42, 0.33\n",
    "# rho_AB = 0.7\n",
    "# cov_mat = [\n",
    "#     [sigma_A ** 2, rho_AB * sigma_A * sigma_B],\n",
    "#     [rho_AB * sigma_A * sigma_B, sigma_B ** 2]\n",
    "# ]\n",
    "# cov_df = pd.DataFrame(index=equity_list, columns=equity_list, data=cov_mat)\n",
    "# print(alpha_1, alpha_2, cov_df)"
   ]
  },
  {
   "cell_type": "code",
   "execution_count": 3,
   "metadata": {},
   "outputs": [],
   "source": [
    "# # alpha和cov扩展ｃａｓｈ\n",
    "# alpha_1['cash'] = 0.\n",
    "# alpha_2['cash'] = 0.\n",
    "# alpha_true['cash'] = 0.\n",
    "# cov_df = cov_df.reindex(equity_list + ['cash']).fillna(0.)\n",
    "# cov_df['cash'] = 0.\n",
    "# trading_day = '20100101'\n",
    "# cov_panel = pd.Panel(\n",
    "#     data={trading_day: cov_df})\n",
    "# alpha_1_df = pd.DataFrame(\n",
    "#     index=[trading_day],\n",
    "#     data=[alpha_1])\n",
    "# alpha_2_df = pd.DataFrame(\n",
    "#     index=[trading_day],\n",
    "#     data=[alpha_2])\n",
    "\n",
    "# # benchmark\n",
    "# benchmark_weight['cash'] = 0.\n",
    "\n",
    "# asset_lower_boundary_series = pd.Series(index=equity_list+['cash'], data=0.)\n",
    "# # asset_lower_boundary_series['cash'] = 0\n",
    "# asset_upper_boundary_series = pd.Series(index=equity_list+['cash'], data=1)\n",
    "# # asset_upper_boundary_series['cash'] = 0."
   ]
  },
  {
   "cell_type": "code",
   "execution_count": 4,
   "metadata": {},
   "outputs": [],
   "source": [
    "# market_value = 1.\n",
    "# current_price = pd.Series(index=equity_list+['cash'], data=1.)\n",
    "\n",
    "# target_risk = 0.10\n",
    "# target_return = 0.1\n",
    "\n",
    "\n",
    "# param = {\n",
    "#     'asset_list': equity_list,\n",
    "#     'alpha_series': alpha_2, # estimated alpha\n",
    "#     'asset_ret_cov': cov_df,\n",
    "#     'market_value': market_value,\n",
    "#     'current_price': current_price,\n",
    "#     'benchmark_weight_series': benchmark_weight,\n",
    "#     'asset_lower_boundary_series': asset_lower_boundary_series,\n",
    "#     'asset_upper_boundary_series': asset_upper_boundary_series,\n",
    "#     'target_risk': target_risk,\n",
    "#     'target_return': target_return,\n",
    "#     'solver': cvx.MOSEK,\n",
    "#     'cash_position': 0.2\n",
    "# }"
   ]
  },
  {
   "cell_type": "code",
   "execution_count": 5,
   "metadata": {},
   "outputs": [],
   "source": [
    "# param['asset_lower_boundary_series']['cash'] = param['cash_position']\n",
    "# param['asset_upper_boundary_series']['cash'] = param['cash_position']\n",
    "# model = MaxSharpeRatioSolver(param)\n",
    "# model.solve_without_round()"
   ]
  },
  {
   "cell_type": "code",
   "execution_count": 6,
   "metadata": {},
   "outputs": [],
   "source": [
    "# model = MaxReturnSolver(param)\n",
    "# model.solve_without_round()"
   ]
  },
  {
   "cell_type": "code",
   "execution_count": 7,
   "metadata": {},
   "outputs": [],
   "source": [
    "# model = MinRiskSolver(param)\n",
    "# model.solve_without_round()"
   ]
  },
  {
   "cell_type": "code",
   "execution_count": 8,
   "metadata": {},
   "outputs": [],
   "source": [
    "# resolution = 1000"
   ]
  },
  {
   "cell_type": "code",
   "execution_count": 9,
   "metadata": {
    "scrolled": true
   },
   "outputs": [],
   "source": [
    "# eff_front = EfficientFrontier(param)\n",
    "# eff_front.initialize()\n",
    "# print(eff_front.min_return, eff_front.max_return)"
   ]
  },
  {
   "cell_type": "code",
   "execution_count": 10,
   "metadata": {},
   "outputs": [],
   "source": [
    "# estimated_frontier_list = eff_front.get_efficient_frontier(resolution)"
   ]
  },
  {
   "cell_type": "code",
   "execution_count": 11,
   "metadata": {},
   "outputs": [],
   "source": [
    "# portfolio_list = [x['expected_weight'] for x in estimated_frontier_list]\n",
    "# result_list = ShowEfficientFrontier(portfolio_list, alpha_2, cov_df).show_frontier()\n",
    "# y = [x['exante_return'] for x in result_list]\n",
    "# x = [x['exante_risk'] for x in result_list]\n",
    "# estimated_frontier = pd.Series(index=x, data=y, name='estimated_frontier')\n",
    "# portfolio_list = [x['expected_weight'] for x in estimated_frontier_list]\n",
    "# result_list = ShowEfficientFrontier(portfolio_list, alpha_true, cov_df).show_frontier()\n",
    "# y = [x['exante_return'] for x in result_list]\n",
    "# x = [x['exante_risk'] for x in result_list]\n",
    "# actual_frontier = pd.Series(index=x, data=y, name='actual_frontier')\n",
    "\n",
    "# pd.concat([estimated_frontier, actual_frontier], axis=1).interpolate().plot()"
   ]
  },
  {
   "cell_type": "code",
   "execution_count": 12,
   "metadata": {},
   "outputs": [],
   "source": [
    "# eff_front.set_alpha_series(alpha_true)\n",
    "# eff_front.initialize()\n",
    "# print(eff_front.min_return, eff_front.max_return)"
   ]
  },
  {
   "cell_type": "code",
   "execution_count": 13,
   "metadata": {},
   "outputs": [],
   "source": [
    "# # eff_front.initialize()\n",
    "# print(eff_front.min_return, eff_front.max_return)\n",
    "# true_frontier_list = eff_front.get_efficient_frontier(resolution)"
   ]
  },
  {
   "cell_type": "code",
   "execution_count": 14,
   "metadata": {},
   "outputs": [],
   "source": [
    "# portfolio_list = [x['expected_weight'] for x in true_frontier_list]\n",
    "# result_list = ShowEfficientFrontier(portfolio_list, alpha_true, cov_df).show_frontier()\n",
    "# y = [x['exante_return'] for x in result_list]\n",
    "# x = [x['exante_risk'] for x in result_list]\n",
    "# true_frontier = pd.Series(index=x, data=y, name='true_frontier')\n",
    "# true_frontier.plot()\n"
   ]
  },
  {
   "cell_type": "code",
   "execution_count": 15,
   "metadata": {},
   "outputs": [],
   "source": [
    "# pd.concat([true_frontier, actual_frontier, estimated_frontier], axis=1).interpolate().plot()"
   ]
  },
  {
   "cell_type": "code",
   "execution_count": 16,
   "metadata": {},
   "outputs": [],
   "source": [
    "# lamb = 0.025"
   ]
  },
  {
   "cell_type": "code",
   "execution_count": 17,
   "metadata": {},
   "outputs": [],
   "source": [
    "# param['alpha_series'] = alpha_2\n",
    "# param['kappa'] = 3\n",
    "# param['estimated_alpha_cov'] = (1-lamb) * cov_df / 1000.\n",
    "# robust_eff_front = RobustEfficientFrontier(param)\n",
    "# robust_eff_front.initialize()\n",
    "# print(robust_eff_front.min_return, robust_eff_front.max_return)"
   ]
  },
  {
   "cell_type": "code",
   "execution_count": 18,
   "metadata": {},
   "outputs": [],
   "source": [
    "# robust_estimated_frontier_list = robust_eff_front.get_efficient_frontier(resolution)"
   ]
  },
  {
   "cell_type": "code",
   "execution_count": 19,
   "metadata": {},
   "outputs": [],
   "source": [
    "# portfolio_list = [x['expected_weight'] for x in robust_estimated_frontier_list]\n",
    "# result_list = ShowEfficientFrontier(portfolio_list, alpha_2, cov_df).show_frontier()\n",
    "# y = [x['exante_return'] for x in result_list]\n",
    "# x = [x['exante_risk'] for x in result_list]\n",
    "# robust_estimated_frontier = pd.Series(index=x, data=y, name='robust_estimated_frontier')\n",
    "# # estimated_frontier.plot()\n",
    "\n",
    "# portfolio_list = [x['expected_weight'] for x in estimated_frontier_list]\n",
    "# result_list = ShowEfficientFrontier(portfolio_list, alpha_true, cov_df).show_frontier()\n",
    "# y = [x['exante_return'] for x in result_list]\n",
    "# x = [x['exante_risk'] for x in result_list]\n",
    "# robust_actual_frontier = pd.Series(index=x, data=y, name='robust_actual_frontier')\n",
    "# # actual_frontier.plot()\n",
    "\n",
    "# pd.concat([robust_estimated_frontier, robust_actual_frontier], axis=1).interpolate().plot()"
   ]
  },
  {
   "cell_type": "code",
   "execution_count": 20,
   "metadata": {},
   "outputs": [],
   "source": [
    "# pd.concat([robust_estimated_frontier, robust_actual_frontier, true_frontier, actual_frontier, estimated_frontier], axis=1).interpolate().plot()"
   ]
  },
  {
   "cell_type": "code",
   "execution_count": null,
   "metadata": {},
   "outputs": [],
   "source": []
  },
  {
   "cell_type": "markdown",
   "metadata": {},
   "source": [
    "# 真实的例子"
   ]
  },
  {
   "cell_type": "code",
   "execution_count": 134,
   "metadata": {
    "ExecuteTime": {
     "end_time": "2019-09-06T03:22:09.901001Z",
     "start_time": "2019-09-06T03:22:09.870608Z"
    }
   },
   "outputs": [],
   "source": [
    "cov_df = pd.read_csv('cov.csv', index_col=0)\n",
    "cov_df = cov_df.drop('cash').drop('cash', axis=1)\n",
    "alpha_df = pd.read_csv('alpha.csv', header=None, names=['sec', 'alpha'])\n",
    "alpha_true = alpha_df.set_index('sec')['alpha']\n",
    "alpha_true = alpha_true.drop('cash')\n",
    "equity_list = alpha_true.index.tolist()\n",
    "# equity_list = equity_list[13:28]\n",
    "alpha_true = alpha_true.reindex(equity_list)\n",
    "cov_df = cov_df.loc[equity_list, equity_list]\n",
    "# equity_list.remove('cash')"
   ]
  },
  {
   "cell_type": "code",
   "execution_count": 135,
   "metadata": {
    "ExecuteTime": {
     "end_time": "2019-09-06T03:22:17.325231Z",
     "start_time": "2019-09-06T03:22:17.283853Z"
    }
   },
   "outputs": [],
   "source": [
    "# data = np.random.multivariate_normal(alpha_true, cov_df, size=100)\n",
    "data = pd.read_csv('data.csv').values\n",
    "# data = data[:, 13:28]\n",
    "data = data[:, :-1]\n",
    "error = data.T - np.expand_dims(alpha_true, axis=1)\n",
    "error_cov = np.cov(error)\n",
    "alpha_1 = pd.Series(index=equity_list, data=data.mean(axis=0)) # estimate alpha\n",
    "# sqrt_Q = np.diag(error.std(axis=1))\n",
    "# sqrt_Q = np.diag((np.diag(error_cov) ** 0.5))\n",
    "diff_alpha = alpha_1-alpha_true\n",
    "diff_alpha[diff_alpha<0]=0.\n",
    "sqrt_Q = np.diag((diff_alpha).values)"
   ]
  },
  {
   "cell_type": "code",
   "execution_count": null,
   "metadata": {
    "ExecuteTime": {
     "end_time": "2019-09-06T03:14:39.731299Z",
     "start_time": "2019-09-06T03:14:39.711369Z"
    }
   },
   "outputs": [],
   "source": []
  },
  {
   "cell_type": "code",
   "execution_count": 121,
   "metadata": {
    "ExecuteTime": {
     "end_time": "2019-09-06T03:21:17.823750Z",
     "start_time": "2019-09-06T03:21:17.814321Z"
    }
   },
   "outputs": [
    {
     "data": {
      "text/plain": [
       "sec\n",
       "002230.XSHE    0.068275\n",
       "601398.XSHG    0.072102\n",
       "601727.XSHG    0.041906\n",
       "601958.XSHG    0.071732\n",
       "601985.XSHG    0.031097\n",
       "600038.XSHG    0.049227\n",
       "600489.XSHG    0.031092\n",
       "002415.XSHE    0.010485\n",
       "601006.XSHG    0.065054\n",
       "600362.XSHG    0.009670\n",
       "601998.XSHG    0.074328\n",
       "601601.XSHG    0.013668\n",
       "601988.XSHG    0.086647\n",
       "600406.XSHG    0.072330\n",
       "601336.XSHG    0.035029\n",
       "601318.XSHG    0.024708\n",
       "600118.XSHG    0.050778\n",
       "601628.XSHG    0.008356\n",
       "600498.XSHG    0.024216\n",
       "600111.XSHG    0.040685\n",
       "601989.XSHG    0.097630\n",
       "601288.XSHG    0.029051\n",
       "600036.XSHG    0.058685\n",
       "601939.XSHG    0.087638\n",
       "000792.XSHE    0.096982\n",
       "002465.XSHE    0.049948\n",
       "002081.XSHE    0.052924\n",
       "600522.XSHG    0.000705\n",
       "Name: alpha, dtype: float64"
      ]
     },
     "execution_count": 121,
     "metadata": {},
     "output_type": "execute_result"
    }
   ],
   "source": [
    "alpha_true"
   ]
  },
  {
   "cell_type": "code",
   "execution_count": 136,
   "metadata": {
    "ExecuteTime": {
     "end_time": "2019-09-06T03:22:20.184382Z",
     "start_time": "2019-09-06T03:22:20.167654Z"
    }
   },
   "outputs": [],
   "source": [
    "market_value = 1.\n",
    "current_price = pd.Series(index=equity_list, data=1.)\n",
    "resolution = 100\n",
    "param = {\n",
    "    'asset_list': equity_list,\n",
    "    'alpha_series': alpha_1, # estimated alpha\n",
    "    'asset_ret_cov': cov_df,\n",
    "    'market_value': market_value,\n",
    "    'current_price': current_price,\n",
    "    'solver': cvx.MOSEK,\n",
    "    'asset_lower_boundary_series': pd.Series(index=equity_list, data=0.),\n",
    "    'asset_upper_boundary_series': pd.Series(index=equity_list, data=1.),\n",
    "    'target_return': -9,\n",
    "    'target_risk': 9,\n",
    "    'benchmark_weight_series': pd.Series(index=equity_list, data=1./len(equity_list))\n",
    "}"
   ]
  },
  {
   "cell_type": "code",
   "execution_count": 137,
   "metadata": {
    "ExecuteTime": {
     "end_time": "2019-09-06T03:22:20.706208Z",
     "start_time": "2019-09-06T03:22:20.606164Z"
    }
   },
   "outputs": [
    {
     "name": "stdout",
     "output_type": "stream",
     "text": [
      "0.04939070971209786 0.10419189925568348\n"
     ]
    }
   ],
   "source": [
    "eff_front = EfficientFrontier(param)\n",
    "eff_front.initialize()\n",
    "print(eff_front.min_return, eff_front.max_return)"
   ]
  },
  {
   "cell_type": "code",
   "execution_count": 138,
   "metadata": {
    "ExecuteTime": {
     "end_time": "2019-09-06T03:22:25.348193Z",
     "start_time": "2019-09-06T03:22:21.977348Z"
    }
   },
   "outputs": [],
   "source": [
    "estimated_frontier_list = eff_front.get_efficient_frontier(resolution)"
   ]
  },
  {
   "cell_type": "code",
   "execution_count": 139,
   "metadata": {
    "ExecuteTime": {
     "end_time": "2019-09-06T03:22:25.856586Z",
     "start_time": "2019-09-06T03:22:25.350547Z"
    }
   },
   "outputs": [
    {
     "data": {
      "text/plain": [
       "<matplotlib.axes._subplots.AxesSubplot at 0x7f6cf9f51a90>"
      ]
     },
     "execution_count": 139,
     "metadata": {},
     "output_type": "execute_result"
    },
    {
     "data": {
      "image/png": "[encoded data removed]",
      "text/plain": [
       "<Figure size 432x288 with 1 Axes>"
      ]
     },
     "metadata": {
      "needs_background": "light"
     },
     "output_type": "display_data"
    }
   ],
   "source": [
    "portfolio_list = [x['expected_weight'] for x in estimated_frontier_list]\n",
    "result_list = ShowEfficientFrontier(portfolio_list, alpha_1, cov_df).show_frontier()\n",
    "y = [x['exante_return'] for x in result_list]\n",
    "x = [x['exante_risk'] for x in result_list]\n",
    "estimated_frontier = pd.Series(index=x, data=y, name='estimated_frontier')\n",
    "# estimated_frontier.plot()\n",
    "\n",
    "portfolio_list = [x['expected_weight'] for x in estimated_frontier_list]\n",
    "result_list = ShowEfficientFrontier(portfolio_list, alpha_true, cov_df).show_frontier()\n",
    "y = [x['exante_return'] for x in result_list]\n",
    "x = [x['exante_risk'] for x in result_list]\n",
    "actual_frontier = pd.Series(index=x, data=y, name='actual_frontier')\n",
    "# actual_frontier.plot()\n",
    "\n",
    "pd.concat([estimated_frontier, actual_frontier], axis=1).interpolate().plot()"
   ]
  },
  {
   "cell_type": "code",
   "execution_count": 140,
   "metadata": {
    "ExecuteTime": {
     "end_time": "2019-09-06T03:22:27.580195Z",
     "start_time": "2019-09-06T03:22:27.496910Z"
    }
   },
   "outputs": [
    {
     "name": "stdout",
     "output_type": "stream",
     "text": [
      "0.04839109458853678 0.09763029787798762\n"
     ]
    }
   ],
   "source": [
    "eff_front.set_alpha_series(alpha_true)\n",
    "eff_front.initialize()\n",
    "print(eff_front.min_return, eff_front.max_return)"
   ]
  },
  {
   "cell_type": "code",
   "execution_count": 141,
   "metadata": {
    "ExecuteTime": {
     "end_time": "2019-09-06T03:22:32.462113Z",
     "start_time": "2019-09-06T03:22:29.187358Z"
    }
   },
   "outputs": [],
   "source": [
    "true_frontier_list = eff_front.get_efficient_frontier(resolution)"
   ]
  },
  {
   "cell_type": "code",
   "execution_count": 142,
   "metadata": {
    "ExecuteTime": {
     "end_time": "2019-09-06T03:22:33.564754Z",
     "start_time": "2019-09-06T03:22:33.237550Z"
    }
   },
   "outputs": [
    {
     "data": {
      "text/plain": [
       "<matplotlib.axes._subplots.AxesSubplot at 0x7f6cf96c1390>"
      ]
     },
     "execution_count": 142,
     "metadata": {},
     "output_type": "execute_result"
    },
    {
     "data": {
      "image/png": "[encoded data removed]",
      "text/plain": [
       "<Figure size 432x288 with 1 Axes>"
      ]
     },
     "metadata": {
      "needs_background": "light"
     },
     "output_type": "display_data"
    }
   ],
   "source": [
    "portfolio_list = [x['expected_weight'] for x in true_frontier_list]\n",
    "result_list = ShowEfficientFrontier(portfolio_list, alpha_true, cov_df).show_frontier()\n",
    "y = [x['exante_return'] for x in result_list]\n",
    "x = [x['exante_risk'] for x in result_list]\n",
    "true_frontier = pd.Series(index=x, data=y, name='true_frontier')\n",
    "true_frontier.plot()"
   ]
  },
  {
   "cell_type": "code",
   "execution_count": 143,
   "metadata": {
    "ExecuteTime": {
     "end_time": "2019-09-06T03:22:35.684191Z",
     "start_time": "2019-09-06T03:22:35.416063Z"
    }
   },
   "outputs": [
    {
     "name": "stderr",
     "output_type": "stream",
     "text": [
      "/home/casey/anaconda3/lib/python3.7/site-packages/ipykernel_launcher.py:2: DeprecationWarning: \n",
      ".ix is deprecated. Please use\n",
      ".loc for label based indexing or\n",
      ".iloc for positional indexing\n",
      "\n",
      "See the documentation here:\n",
      "http://pandas.pydata.org/pandas-docs/stable/indexing.html#ix-indexer-is-deprecated\n",
      "  \n"
     ]
    },
    {
     "data": {
      "text/plain": [
       "<matplotlib.axes._subplots.AxesSubplot at 0x7f6cf9af4dd8>"
      ]
     },
     "execution_count": 143,
     "metadata": {},
     "output_type": "execute_result"
    },
    {
     "data": {
      "image/png": "[encoded data removed]",
      "text/plain": [
       "<Figure size 432x288 with 1 Axes>"
      ]
     },
     "metadata": {
      "needs_background": "light"
     },
     "output_type": "display_data"
    }
   ],
   "source": [
    "frontier = pd.concat([true_frontier, actual_frontier, estimated_frontier], axis=1)\n",
    "frontier.ix[frontier.index<0.2].interpolate().plot()"
   ]
  },
  {
   "cell_type": "code",
   "execution_count": 170,
   "metadata": {
    "ExecuteTime": {
     "end_time": "2019-08-28T03:13:50.165252Z",
     "start_time": "2019-08-28T03:13:50.161196Z"
    }
   },
   "outputs": [],
   "source": [
    "# sample_cov = np.cov(data.T)"
   ]
  },
  {
   "cell_type": "code",
   "execution_count": 157,
   "metadata": {
    "ExecuteTime": {
     "end_time": "2019-08-28T03:12:18.194420Z",
     "start_time": "2019-08-28T03:12:18.188512Z"
    }
   },
   "outputs": [],
   "source": [
    "# from src.rbo import *"
   ]
  },
  {
   "cell_type": "code",
   "execution_count": 47,
   "metadata": {
    "ExecuteTime": {
     "end_time": "2019-08-27T08:52:51.491113Z",
     "start_time": "2019-08-27T08:52:51.483779Z"
    }
   },
   "outputs": [],
   "source": [
    "lamb = 0.25"
   ]
  },
  {
   "cell_type": "code",
   "execution_count": 91,
   "metadata": {
    "ExecuteTime": {
     "end_time": "2019-09-06T03:19:07.915960Z",
     "start_time": "2019-09-06T03:19:07.897390Z"
    }
   },
   "outputs": [
    {
     "data": {
      "text/plain": [
       "array([[0.01, 0.  , 0.  , 0.  , 0.  , 0.  , 0.  , 0.  , 0.  , 0.  , 0.  ,\n",
       "        0.  , 0.  , 0.  , 0.  , 0.  , 0.  , 0.  , 0.  , 0.  , 0.  , 0.  ,\n",
       "        0.  , 0.  , 0.  , 0.  , 0.  , 0.  ],\n",
       "       [0.  , 0.01, 0.  , 0.  , 0.  , 0.  , 0.  , 0.  , 0.  , 0.  , 0.  ,\n",
       "        0.  , 0.  , 0.  , 0.  , 0.  , 0.  , 0.  , 0.  , 0.  , 0.  , 0.  ,\n",
       "        0.  , 0.  , 0.  , 0.  , 0.  , 0.  ],\n",
       "       [0.  , 0.  , 0.01, 0.  , 0.  , 0.  , 0.  , 0.  , 0.  , 0.  , 0.  ,\n",
       "        0.  , 0.  , 0.  , 0.  , 0.  , 0.  , 0.  , 0.  , 0.  , 0.  , 0.  ,\n",
       "        0.  , 0.  , 0.  , 0.  , 0.  , 0.  ],\n",
       "       [0.  , 0.  , 0.  , 0.01, 0.  , 0.  , 0.  , 0.  , 0.  , 0.  , 0.  ,\n",
       "        0.  , 0.  , 0.  , 0.  , 0.  , 0.  , 0.  , 0.  , 0.  , 0.  , 0.  ,\n",
       "        0.  , 0.  , 0.  , 0.  , 0.  , 0.  ],\n",
       "       [0.  , 0.  , 0.  , 0.  , 0.01, 0.  , 0.  , 0.  , 0.  , 0.  , 0.  ,\n",
       "        0.  , 0.  , 0.  , 0.  , 0.  , 0.  , 0.  , 0.  , 0.  , 0.  , 0.  ,\n",
       "        0.  , 0.  , 0.  , 0.  , 0.  , 0.  ],\n",
       "       [0.  , 0.  , 0.  , 0.  , 0.  , 0.01, 0.  , 0.  , 0.  , 0.  , 0.  ,\n",
       "        0.  , 0.  , 0.  , 0.  , 0.  , 0.  , 0.  , 0.  , 0.  , 0.  , 0.  ,\n",
       "        0.  , 0.  , 0.  , 0.  , 0.  , 0.  ],\n",
       "       [0.  , 0.  , 0.  , 0.  , 0.  , 0.  , 0.01, 0.  , 0.  , 0.  , 0.  ,\n",
       "        0.  , 0.  , 0.  , 0.  , 0.  , 0.  , 0.  , 0.  , 0.  , 0.  , 0.  ,\n",
       "        0.  , 0.  , 0.  , 0.  , 0.  , 0.  ],\n",
       "       [0.  , 0.  , 0.  , 0.  , 0.  , 0.  , 0.  , 0.01, 0.  , 0.  , 0.  ,\n",
       "        0.  , 0.  , 0.  , 0.  , 0.  , 0.  , 0.  , 0.  , 0.  , 0.  , 0.  ,\n",
       "        0.  , 0.  , 0.  , 0.  , 0.  , 0.  ],\n",
       "       [0.  , 0.  , 0.  , 0.  , 0.  , 0.  , 0.  , 0.  , 0.01, 0.  , 0.  ,\n",
       "        0.  , 0.  , 0.  , 0.  , 0.  , 0.  , 0.  , 0.  , 0.  , 0.  , 0.  ,\n",
       "        0.  , 0.  , 0.  , 0.  , 0.  , 0.  ],\n",
       "       [0.  , 0.  , 0.  , 0.  , 0.  , 0.  , 0.  , 0.  , 0.  , 0.01, 0.  ,\n",
       "        0.  , 0.  , 0.  , 0.  , 0.  , 0.  , 0.  , 0.  , 0.  , 0.  , 0.  ,\n",
       "        0.  , 0.  , 0.  , 0.  , 0.  , 0.  ],\n",
       "       [0.  , 0.  , 0.  , 0.  , 0.  , 0.  , 0.  , 0.  , 0.  , 0.  , 0.01,\n",
       "        0.  , 0.  , 0.  , 0.  , 0.  , 0.  , 0.  , 0.  , 0.  , 0.  , 0.  ,\n",
       "        0.  , 0.  , 0.  , 0.  , 0.  , 0.  ],\n",
       "       [0.  , 0.  , 0.  , 0.  , 0.  , 0.  , 0.  , 0.  , 0.  , 0.  , 0.  ,\n",
       "        0.01, 0.  , 0.  , 0.  , 0.  , 0.  , 0.  , 0.  , 0.  , 0.  , 0.  ,\n",
       "        0.  , 0.  , 0.  , 0.  , 0.  , 0.  ],\n",
       "       [0.  , 0.  , 0.  , 0.  , 0.  , 0.  , 0.  , 0.  , 0.  , 0.  , 0.  ,\n",
       "        0.  , 0.01, 0.  , 0.  , 0.  , 0.  , 0.  , 0.  , 0.  , 0.  , 0.  ,\n",
       "        0.  , 0.  , 0.  , 0.  , 0.  , 0.  ],\n",
       "       [0.  , 0.  , 0.  , 0.  , 0.  , 0.  , 0.  , 0.  , 0.  , 0.  , 0.  ,\n",
       "        0.  , 0.  , 0.01, 0.  , 0.  , 0.  , 0.  , 0.  , 0.  , 0.  , 0.  ,\n",
       "        0.  , 0.  , 0.  , 0.  , 0.  , 0.  ],\n",
       "       [0.  , 0.  , 0.  , 0.  , 0.  , 0.  , 0.  , 0.  , 0.  , 0.  , 0.  ,\n",
       "        0.  , 0.  , 0.  , 0.01, 0.  , 0.  , 0.  , 0.  , 0.  , 0.  , 0.  ,\n",
       "        0.  , 0.  , 0.  , 0.  , 0.  , 0.  ],\n",
       "       [0.  , 0.  , 0.  , 0.  , 0.  , 0.  , 0.  , 0.  , 0.  , 0.  , 0.  ,\n",
       "        0.  , 0.  , 0.  , 0.  , 0.01, 0.  , 0.  , 0.  , 0.  , 0.  , 0.  ,\n",
       "        0.  , 0.  , 0.  , 0.  , 0.  , 0.  ],\n",
       "       [0.  , 0.  , 0.  , 0.  , 0.  , 0.  , 0.  , 0.  , 0.  , 0.  , 0.  ,\n",
       "        0.  , 0.  , 0.  , 0.  , 0.  , 0.01, 0.  , 0.  , 0.  , 0.  , 0.  ,\n",
       "        0.  , 0.  , 0.  , 0.  , 0.  , 0.  ],\n",
       "       [0.  , 0.  , 0.  , 0.  , 0.  , 0.  , 0.  , 0.  , 0.  , 0.  , 0.  ,\n",
       "        0.  , 0.  , 0.  , 0.  , 0.  , 0.  , 0.01, 0.  , 0.  , 0.  , 0.  ,\n",
       "        0.  , 0.  , 0.  , 0.  , 0.  , 0.  ],\n",
       "       [0.  , 0.  , 0.  , 0.  , 0.  , 0.  , 0.  , 0.  , 0.  , 0.  , 0.  ,\n",
       "        0.  , 0.  , 0.  , 0.  , 0.  , 0.  , 0.  , 0.01, 0.  , 0.  , 0.  ,\n",
       "        0.  , 0.  , 0.  , 0.  , 0.  , 0.  ],\n",
       "       [0.  , 0.  , 0.  , 0.  , 0.  , 0.  , 0.  , 0.  , 0.  , 0.  , 0.  ,\n",
       "        0.  , 0.  , 0.  , 0.  , 0.  , 0.  , 0.  , 0.  , 0.01, 0.  , 0.  ,\n",
       "        0.  , 0.  , 0.  , 0.  , 0.  , 0.  ],\n",
       "       [0.  , 0.  , 0.  , 0.  , 0.  , 0.  , 0.  , 0.  , 0.  , 0.  , 0.  ,\n",
       "        0.  , 0.  , 0.  , 0.  , 0.  , 0.  , 0.  , 0.  , 0.  , 0.01, 0.  ,\n",
       "        0.  , 0.  , 0.  , 0.  , 0.  , 0.  ],\n",
       "       [0.  , 0.  , 0.  , 0.  , 0.  , 0.  , 0.  , 0.  , 0.  , 0.  , 0.  ,\n",
       "        0.  , 0.  , 0.  , 0.  , 0.  , 0.  , 0.  , 0.  , 0.  , 0.  , 0.01,\n",
       "        0.  , 0.  , 0.  , 0.  , 0.  , 0.  ],\n",
       "       [0.  , 0.  , 0.  , 0.  , 0.  , 0.  , 0.  , 0.  , 0.  , 0.  , 0.  ,\n",
       "        0.  , 0.  , 0.  , 0.  , 0.  , 0.  , 0.  , 0.  , 0.  , 0.  , 0.  ,\n",
       "        0.01, 0.  , 0.  , 0.  , 0.  , 0.  ],\n",
       "       [0.  , 0.  , 0.  , 0.  , 0.  , 0.  , 0.  , 0.  , 0.  , 0.  , 0.  ,\n",
       "        0.  , 0.  , 0.  , 0.  , 0.  , 0.  , 0.  , 0.  , 0.  , 0.  , 0.  ,\n",
       "        0.  , 0.01, 0.  , 0.  , 0.  , 0.  ],\n",
       "       [0.  , 0.  , 0.  , 0.  , 0.  , 0.  , 0.  , 0.  , 0.  , 0.  , 0.  ,\n",
       "        0.  , 0.  , 0.  , 0.  , 0.  , 0.  , 0.  , 0.  , 0.  , 0.  , 0.  ,\n",
       "        0.  , 0.  , 0.01, 0.  , 0.  , 0.  ],\n",
       "       [0.  , 0.  , 0.  , 0.  , 0.  , 0.  , 0.  , 0.  , 0.  , 0.  , 0.  ,\n",
       "        0.  , 0.  , 0.  , 0.  , 0.  , 0.  , 0.  , 0.  , 0.  , 0.  , 0.  ,\n",
       "        0.  , 0.  , 0.  , 0.01, 0.  , 0.  ],\n",
       "       [0.  , 0.  , 0.  , 0.  , 0.  , 0.  , 0.  , 0.  , 0.  , 0.  , 0.  ,\n",
       "        0.  , 0.  , 0.  , 0.  , 0.  , 0.  , 0.  , 0.  , 0.  , 0.  , 0.  ,\n",
       "        0.  , 0.  , 0.  , 0.  , 0.01, 0.  ],\n",
       "       [0.  , 0.  , 0.  , 0.  , 0.  , 0.  , 0.  , 0.  , 0.  , 0.  , 0.  ,\n",
       "        0.  , 0.  , 0.  , 0.  , 0.  , 0.  , 0.  , 0.  , 0.  , 0.  , 0.  ,\n",
       "        0.  , 0.  , 0.  , 0.  , 0.  , 0.01]])"
      ]
     },
     "execution_count": 91,
     "metadata": {},
     "output_type": "execute_result"
    }
   ],
   "source": [
    "sqrt_Q"
   ]
  },
  {
   "cell_type": "code",
   "execution_count": 148,
   "metadata": {
    "ExecuteTime": {
     "end_time": "2019-09-06T03:23:10.193855Z",
     "start_time": "2019-09-06T03:23:10.074800Z"
    }
   },
   "outputs": [
    {
     "name": "stdout",
     "output_type": "stream",
     "text": [
      "0.04810021622869716 0.0972975811629629\n",
      "0.0720797243196167 0.39480361126710095\n"
     ]
    }
   ],
   "source": [
    "# param['alpha_series'] = alpha_1\n",
    "# param['kappa'] = 5.\n",
    "# alpha_std = np.std(alpha_1, ddof=1)\n",
    "# sqrt_Q = np.diag([alpha_std] * len(equity_list))\n",
    "param['sqrt_Q'] = sqrt_Q\n",
    "param['kappa'] = 1.\n",
    "# benchmark_weight_series = pd.Series(index=equity_list, data=1./len(equity_list))\n",
    "# benchmark_weight_series['cash'] = 0.\n",
    "# param['benchmark_weight_series'] = benchmark_weight_series\n",
    "# param['estimated_alpha_cov'] = np.identity(cov_df.shape[0]) / 100.\n",
    "robust_eff_front = RobustEfficientFrontier(param)\n",
    "robust_eff_front.initialize()\n",
    "print(robust_eff_front.min_return, robust_eff_front.max_return)\n",
    "print(robust_eff_front.min_risk, robust_eff_front.max_risk)\n",
    "# rbo = RobustMaxReturnSolver(param)\n",
    "# rbo.solve_without_round()"
   ]
  },
  {
   "cell_type": "code",
   "execution_count": 149,
   "metadata": {
    "ExecuteTime": {
     "end_time": "2019-09-06T03:23:10.427341Z",
     "start_time": "2019-09-06T03:23:10.421868Z"
    }
   },
   "outputs": [],
   "source": [
    "# param['benchmark_weight_series'] = pd.Series(index=equity_list, data=0.)\n",
    "# asset_lower_boundary_series = pd.Series(index=equity_list, data=-np.inf)\n",
    "# asset_lower_boundary_series['cash'] = 0.\n",
    "# asset_upper_boundary_series = pd.Series(index=equity_list, data=np.inf)\n",
    "# asset_upper_boundary_series['cash'] = 0.\n",
    "# param['asset_lower_boundary_series'] = asset_lower_boundary_series\n",
    "# param['asset_upper_boundary_series'] = asset_upper_boundary_series\n",
    "# param['target_return'] = -np.inf\n",
    "# param['target_risk'] = np.inf\n",
    "\n",
    "# max_return_result = RobustMinRiskSolver(param).solve_without_round()\n",
    "# norm = np.linalg.norm(sqrt_Q.dot(max_return_result['expected_weight']), 2)\n",
    "# # print(norm)\n",
    "# print(max_return_result['expected_weight'].dot(alpha_1) - param['kappa'] * norm)\n",
    "\n",
    "# min_risk_result = RobustMinRiskSolver(param).solve_without_round()\n",
    "# norm = np.linalg.norm(sqrt_Q.dot(min_risk_result['expected_weight']), 2)\n",
    "# print(min_risk_result['expected_weight'].dot(alpha_1) - param['kappa'] * norm)"
   ]
  },
  {
   "cell_type": "code",
   "execution_count": 150,
   "metadata": {
    "ExecuteTime": {
     "end_time": "2019-09-06T03:23:14.454822Z",
     "start_time": "2019-09-06T03:23:10.759338Z"
    }
   },
   "outputs": [],
   "source": [
    "robust_estimated_frontier_list = robust_eff_front.get_efficient_frontier(resolution)"
   ]
  },
  {
   "cell_type": "code",
   "execution_count": 151,
   "metadata": {
    "ExecuteTime": {
     "end_time": "2019-09-06T03:23:14.917988Z",
     "start_time": "2019-09-06T03:23:14.458486Z"
    }
   },
   "outputs": [
    {
     "data": {
      "text/plain": [
       "<matplotlib.axes._subplots.AxesSubplot at 0x7f6cf96a2d68>"
      ]
     },
     "execution_count": 151,
     "metadata": {},
     "output_type": "execute_result"
    },
    {
     "data": {
      "image/png": "[encoded data removed]",
      "text/plain": [
       "<Figure size 432x288 with 1 Axes>"
      ]
     },
     "metadata": {
      "needs_background": "light"
     },
     "output_type": "display_data"
    }
   ],
   "source": [
    "portfolio_list = [x['expected_weight'] for x in robust_estimated_frontier_list]\n",
    "result_list = ShowEfficientFrontier(portfolio_list, alpha_1, cov_df).show_frontier()\n",
    "y = [x['exante_return'] for x in result_list]\n",
    "x = [x['exante_risk'] for x in result_list]\n",
    "robust_estimated_frontier = pd.Series(index=x, data=y, name='robust_estimated_frontier')\n",
    "# estimated_frontier.plot()\n",
    "\n",
    "portfolio_list = [x['expected_weight'] for x in robust_estimated_frontier_list]\n",
    "result_list = ShowEfficientFrontier(portfolio_list, alpha_true, cov_df).show_frontier()\n",
    "y = [x['exante_return'] for x in result_list]\n",
    "x = [x['exante_risk'] for x in result_list]\n",
    "robust_actual_frontier = pd.Series(index=x, data=y, name='robust_actual_frontier')\n",
    "# actual_frontier.plot()\n",
    "\n",
    "pd.concat([robust_estimated_frontier, robust_actual_frontier], axis=1).sort_index().plot()"
   ]
  },
  {
   "cell_type": "code",
   "execution_count": 152,
   "metadata": {
    "ExecuteTime": {
     "end_time": "2019-09-06T03:23:16.635974Z",
     "start_time": "2019-09-06T03:23:16.347830Z"
    },
    "scrolled": false
   },
   "outputs": [
    {
     "name": "stderr",
     "output_type": "stream",
     "text": [
      "/home/casey/anaconda3/lib/python3.7/site-packages/ipykernel_launcher.py:2: DeprecationWarning: \n",
      ".ix is deprecated. Please use\n",
      ".loc for label based indexing or\n",
      ".iloc for positional indexing\n",
      "\n",
      "See the documentation here:\n",
      "http://pandas.pydata.org/pandas-docs/stable/indexing.html#ix-indexer-is-deprecated\n",
      "  \n"
     ]
    },
    {
     "data": {
      "text/plain": [
       "<matplotlib.axes._subplots.AxesSubplot at 0x7f6cf9043898>"
      ]
     },
     "execution_count": 152,
     "metadata": {},
     "output_type": "execute_result"
    },
    {
     "data": {
      "image/png": "[encoded data removed]",
      "text/plain": [
       "<Figure size 432x288 with 1 Axes>"
      ]
     },
     "metadata": {
      "needs_background": "light"
     },
     "output_type": "display_data"
    }
   ],
   "source": [
    "frontier = pd.concat([true_frontier, actual_frontier, estimated_frontier, robust_estimated_frontier, robust_actual_frontier], axis=1)\n",
    "frontier.ix[frontier.index<0.2].interpolate().plot()"
   ]
  },
  {
   "cell_type": "code",
   "execution_count": 145,
   "metadata": {
    "ExecuteTime": {
     "end_time": "2019-08-28T03:11:36.116487Z",
     "start_time": "2019-08-28T03:11:35.824364Z"
    }
   },
   "outputs": [
    {
     "data": {
      "text/plain": [
       "<matplotlib.axes._subplots.AxesSubplot at 0x7fc4713d6c88>"
      ]
     },
     "execution_count": 145,
     "metadata": {},
     "output_type": "execute_result"
    },
    {
     "data": {
      "image/png": "[encoded data removed]",
      "text/plain": [
       "<Figure size 432x288 with 1 Axes>"
      ]
     },
     "metadata": {
      "needs_background": "light"
     },
     "output_type": "display_data"
    }
   ],
   "source": [
    "frontier_tmp = pd.concat([robust_actual_frontier, actual_frontier], axis=1)\n",
    "frontier_tmp.interpolate().plot()"
   ]
  },
  {
   "cell_type": "code",
   "execution_count": 21,
   "metadata": {},
   "outputs": [],
   "source": [
    "robust_portfolio_list = [x['expected_weight'] for x in robust_estimated_frontier_list]"
   ]
  },
  {
   "cell_type": "code",
   "execution_count": 22,
   "metadata": {},
   "outputs": [],
   "source": [
    "portfolio_list = [x['expected_weight'] for x in estimated_frontier_list]"
   ]
  },
  {
   "cell_type": "code",
   "execution_count": 24,
   "metadata": {},
   "outputs": [
    {
     "data": {
      "text/plain": [
       "002230.XSHE    3.493638e-02\n",
       "601398.XSHG    3.660067e-02\n",
       "601727.XSHG    4.873060e-02\n",
       "601958.XSHG    7.161410e-02\n",
       "601985.XSHG    5.159171e-02\n",
       "600038.XSHG    3.316367e-02\n",
       "600489.XSHG    2.837769e-02\n",
       "002415.XSHE    2.813430e-02\n",
       "601006.XSHG    3.998272e-02\n",
       "600362.XSHG    1.218162e-02\n",
       "601998.XSHG    3.035963e-02\n",
       "601601.XSHG    1.429203e-02\n",
       "601988.XSHG    4.483666e-02\n",
       "600406.XSHG    4.742424e-02\n",
       "601336.XSHG    2.487108e-02\n",
       "601318.XSHG    1.928837e-02\n",
       "600118.XSHG    6.770212e-02\n",
       "601628.XSHG    3.224755e-02\n",
       "600498.XSHG    4.221551e-02\n",
       "600111.XSHG    4.984344e-02\n",
       "601989.XSHG    2.568212e-03\n",
       "601288.XSHG    1.620173e-07\n",
       "600036.XSHG    2.051590e-02\n",
       "601939.XSHG    5.526526e-02\n",
       "000792.XSHE    3.724790e-02\n",
       "002465.XSHE    4.765090e-02\n",
       "002081.XSHE    4.479921e-02\n",
       "600522.XSHG    3.355838e-02\n",
       "dtype: float64"
      ]
     },
     "execution_count": 24,
     "metadata": {},
     "output_type": "execute_result"
    }
   ],
   "source": [
    "robust_portfolio_list[0]"
   ]
  },
  {
   "cell_type": "code",
   "execution_count": 25,
   "metadata": {},
   "outputs": [
    {
     "data": {
      "text/plain": [
       "002230.XSHE    3.320668e-02\n",
       "601398.XSHG    2.792667e-02\n",
       "601727.XSHG    4.811714e-02\n",
       "601958.XSHG    6.414638e-02\n",
       "601985.XSHG    6.917220e-02\n",
       "600038.XSHG    3.097634e-02\n",
       "600489.XSHG    3.006193e-02\n",
       "002415.XSHE    3.329960e-02\n",
       "601006.XSHG    2.871303e-02\n",
       "600362.XSHG    2.064309e-02\n",
       "601998.XSHG    2.455027e-02\n",
       "601601.XSHG    1.965896e-02\n",
       "601988.XSHG    2.107242e-02\n",
       "600406.XSHG    4.265851e-02\n",
       "601336.XSHG    2.233779e-02\n",
       "601318.XSHG    2.207898e-02\n",
       "600118.XSHG    7.085105e-02\n",
       "601628.XSHG    4.525448e-02\n",
       "600498.XSHG    4.142121e-02\n",
       "600111.XSHG    4.825424e-02\n",
       "601989.XSHG    1.345310e-08\n",
       "601288.XSHG    3.006501e-02\n",
       "600036.XSHG    2.579664e-02\n",
       "601939.XSHG    3.604642e-02\n",
       "000792.XSHE    3.157108e-02\n",
       "002465.XSHE    4.993484e-02\n",
       "002081.XSHE    4.189150e-02\n",
       "600522.XSHG    4.029350e-02\n",
       "dtype: float64"
      ]
     },
     "execution_count": 25,
     "metadata": {},
     "output_type": "execute_result"
    }
   ],
   "source": [
    "portfolio_list[0]"
   ]
  }
 ],
 "metadata": {
  "kernelspec": {
   "display_name": "Python 3",
   "language": "python",
   "name": "python3"
  },
  "language_info": {
   "codemirror_mode": {
    "name": "ipython",
    "version": 3
   },
   "file_extension": ".py",
   "mimetype": "text/x-python",
   "name": "python",
   "nbconvert_exporter": "python",
   "pygments_lexer": "ipython3",
   "version": "3.7.3"
  }
 },
 "nbformat": 4,
 "nbformat_minor": 2
}
